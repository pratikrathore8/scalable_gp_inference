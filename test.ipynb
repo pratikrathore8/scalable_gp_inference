{
 "cells": [
  {
   "cell_type": "code",
   "execution_count": 1,
   "id": "51148d4a",
   "metadata": {},
   "outputs": [],
   "source": [
    "import torch"
   ]
  },
  {
   "cell_type": "code",
   "execution_count": 2,
   "id": "67d377b2",
   "metadata": {},
   "outputs": [],
   "source": [
    "def _get_subsample_centroid(Xtr: torch.Tensor, ytr: torch.Tensor, subsample_size: int) -> tuple[torch.Tensor, torch.Tensor]:\n",
    "    # randomly sample a point from the training set\n",
    "    idx = torch.randint(0, Xtr.shape[0], (1,))\n",
    "    centroid = Xtr[idx]\n",
    "\n",
    "    print(f\"idx = {idx.item()}\")\n",
    "    print(f\"centroid = {centroid}\")\n",
    "\n",
    "    # find the subset of points closest to the centroid\n",
    "    distances = torch.cdist(Xtr, centroid.view(1, -1)).squeeze(-1)\n",
    "    print(f\"distances = {distances}\")\n",
    "    _, indices = torch.topk(distances, k=subsample_size,\n",
    "                            largest=False, sorted=False)\n",
    "    print(f\"indices = {indices}\")\n",
    "    return Xtr[indices], ytr[indices]"
   ]
  },
  {
   "cell_type": "code",
   "execution_count": 3,
   "id": "64ebc00a",
   "metadata": {},
   "outputs": [
    {
     "name": "stdout",
     "output_type": "stream",
     "text": [
      "idx = 8\n",
      "centroid = tensor([[-0.0853,  0.7085]])\n",
      "distances = tensor([0.6074, 0.3207, 0.7458, 2.4428, 1.2951, 0.5726, 0.3329, 1.6718, 0.0000,\n",
      "        1.6428])\n",
      "indices = tensor([5, 1, 8, 6, 0])\n",
      "Xtr_subsample: tensor([[ 0.4054,  0.4133],\n",
      "        [-0.0410,  1.0261],\n",
      "        [-0.0853,  0.7085],\n",
      "        [-0.0824,  0.3756],\n",
      "        [-0.3851,  1.2367]])\n",
      "ytr_subsample: tensor([-1.0992,  0.2130, -0.3095, -0.1827,  0.5532])\n"
     ]
    }
   ],
   "source": [
    "n = 10\n",
    "d = 2\n",
    "\n",
    "Xtr = torch.randn(n, d)\n",
    "ytr = torch.randn(n)\n",
    "subsample_size = 5\n",
    "Xtr_subsample, ytr_subsample = _get_subsample_centroid(Xtr, ytr, subsample_size)\n",
    "print(\"Xtr_subsample:\", Xtr_subsample)\n",
    "print(\"ytr_subsample:\", ytr_subsample)"
   ]
  },
  {
   "cell_type": "code",
   "execution_count": 6,
   "id": "cead9ccd",
   "metadata": {},
   "outputs": [
    {
     "data": {
      "text/plain": [
       "tensor([[-0.3851,  1.2367],\n",
       "        [-0.0410,  1.0261],\n",
       "        [-0.3718,  1.3970],\n",
       "        [-0.3423, -1.7208],\n",
       "        [ 0.3583, -0.5082],\n",
       "        [ 0.4054,  0.4133],\n",
       "        [-0.0824,  0.3756],\n",
       "        [-1.3519, -0.3825],\n",
       "        [-0.0853,  0.7085],\n",
       "        [-0.7558, -0.7913]])"
      ]
     },
     "execution_count": 6,
     "metadata": {},
     "output_type": "execute_result"
    }
   ],
   "source": [
    "Xtr"
   ]
  },
  {
   "cell_type": "code",
   "execution_count": 7,
   "id": "a056d03d",
   "metadata": {},
   "outputs": [
    {
     "data": {
      "text/plain": [
       "tensor([ 0.5532,  0.2130, -0.4564,  0.7508,  0.5927, -1.0992, -0.1827, -0.5880,\n",
       "        -0.3095,  0.3414])"
      ]
     },
     "execution_count": 7,
     "metadata": {},
     "output_type": "execute_result"
    }
   ],
   "source": [
    "ytr"
   ]
  },
  {
   "cell_type": "code",
   "execution_count": 4,
   "id": "293b14f9",
   "metadata": {},
   "outputs": [
    {
     "data": {
      "text/plain": [
       "tensor([-0.0853,  0.7085])"
      ]
     },
     "execution_count": 4,
     "metadata": {},
     "output_type": "execute_result"
    }
   ],
   "source": [
    "Xtr[8]"
   ]
  },
  {
   "cell_type": "code",
   "execution_count": 5,
   "id": "5526d9ff",
   "metadata": {},
   "outputs": [
    {
     "data": {
      "text/plain": [
       "tensor([0.6074, 0.3207, 0.7458, 2.4428, 1.2951, 0.5726, 0.3329, 1.6718, 0.0000,\n",
       "        1.6428])"
      ]
     },
     "execution_count": 5,
     "metadata": {},
     "output_type": "execute_result"
    }
   ],
   "source": [
    "torch.cdist(Xtr, Xtr[8].view(1, -1)).squeeze(-1)"
   ]
  },
  {
   "cell_type": "code",
   "execution_count": null,
   "id": "e362aa91",
   "metadata": {},
   "outputs": [],
   "source": []
  }
 ],
 "metadata": {
  "kernelspec": {
   "display_name": "gp_inference_env",
   "language": "python",
   "name": "python3"
  },
  "language_info": {
   "codemirror_mode": {
    "name": "ipython",
    "version": 3
   },
   "file_extension": ".py",
   "mimetype": "text/x-python",
   "name": "python",
   "nbconvert_exporter": "python",
   "pygments_lexer": "ipython3",
   "version": "3.10.12"
  }
 },
 "nbformat": 4,
 "nbformat_minor": 5
}
