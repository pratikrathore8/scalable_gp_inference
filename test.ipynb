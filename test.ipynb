{
 "cells": [
  {
   "cell_type": "code",
   "execution_count": 1,
   "id": "2230d4fe",
   "metadata": {},
   "outputs": [],
   "source": [
    "import torch\n",
    "from pykeops.torch import LazyTensor\n",
    "from gpytorch.kernels.keops import RBFKernel\n",
    "from gpytorch.lazy import LazyEvaluatedKernelTensor"
   ]
  },
  {
   "cell_type": "code",
   "execution_count": 2,
   "id": "bcfcf186",
   "metadata": {},
   "outputs": [],
   "source": [
    "torch.set_default_dtype(torch.float64)"
   ]
  },
  {
   "cell_type": "code",
   "execution_count": 3,
   "id": "7c08a074",
   "metadata": {},
   "outputs": [],
   "source": [
    "n = 10000\n",
    "d = 3\n",
    "sigma = 1.0\n",
    "device = torch.device(\"cuda:0\" if torch.cuda.is_available() else \"cpu\")\n",
    "\n",
    "A = torch.randn(n, d, device=device)\n",
    "B = torch.randn(n, n, device=device)"
   ]
  },
  {
   "cell_type": "markdown",
   "id": "340d546d",
   "metadata": {},
   "source": [
    "PyKeops -- doesn't work"
   ]
  },
  {
   "cell_type": "code",
   "execution_count": 4,
   "id": "74bdf435",
   "metadata": {},
   "outputs": [],
   "source": [
    "# Ai_lazy = LazyTensor(A[:, None, :])  # (100, 1, 3)\n",
    "# Aj_lazy = LazyTensor(A[None, :, :])  # (1, 100, 3)\n",
    "# # Compute the squared Euclidean distance matrix\n",
    "# D_lazy = ((Ai_lazy - Aj_lazy) ** 2).sum(dim=2)  # (100, 100)\n",
    "# D_lazy - B"
   ]
  },
  {
   "cell_type": "markdown",
   "id": "482cc25e",
   "metadata": {},
   "source": [
    "GPyTorch"
   ]
  },
  {
   "cell_type": "code",
   "execution_count": 5,
   "id": "ba4de9d0",
   "metadata": {},
   "outputs": [],
   "source": [
    "kernel = RBFKernel()\n",
    "kernel.lengthscale = torch.tensor(sigma)\n",
    "kernel = kernel.to(device)\n",
    "# print(kernel.lengthscale)\n",
    "# print(kernel.lengthscale.device)\n",
    "K_lazy = kernel(A, A)"
   ]
  },
  {
   "cell_type": "code",
   "execution_count": 6,
   "id": "4409dcc2",
   "metadata": {},
   "outputs": [],
   "source": [
    "# Compute the actual kernel matrix via pytorch\n",
    "K_true = torch.exp(-((A[:, None, :] - A[None, :, :])\n",
    "                   ** 2).sum(dim=2)/(2 * sigma ** 2))"
   ]
  },
  {
   "cell_type": "code",
   "execution_count": 7,
   "id": "d9a763dd",
   "metadata": {},
   "outputs": [],
   "source": [
    "# torch.sum(K_lazy ** 2)"
   ]
  },
  {
   "cell_type": "code",
   "execution_count": 8,
   "id": "91a2b702",
   "metadata": {},
   "outputs": [
    {
     "name": "stdout",
     "output_type": "stream",
     "text": [
      "True\n",
      "True\n"
     ]
    }
   ],
   "source": [
    "print(torch.allclose(K_lazy @ B, K_true @ B))\n",
    "print(torch.allclose(B @ K_lazy, B @ K_true))"
   ]
  },
  {
   "cell_type": "code",
   "execution_count": 9,
   "id": "27052beb",
   "metadata": {},
   "outputs": [
    {
     "name": "stdout",
     "output_type": "stream",
     "text": [
      "True\n",
      "True\n",
      "True\n"
     ]
    }
   ],
   "source": [
    "print(torch.allclose((K_lazy - B) @ B, (K_true - B) @ B))\n",
    "print(torch.allclose((K_lazy - B).T @ B, (K_true - B).T @ B))\n",
    "print(torch.allclose(B @ (K_lazy - B), B @ (K_true - B)))"
   ]
  },
  {
   "cell_type": "code",
   "execution_count": 10,
   "id": "1fb0c8c4",
   "metadata": {},
   "outputs": [
    {
     "name": "stdout",
     "output_type": "stream",
     "text": [
      "True\n"
     ]
    }
   ],
   "source": [
    "print(torch.allclose(B[:, :100] @ (K_lazy - B)\n",
    "      [:100], B[:, :100] @ (K_true - B)[:100]))"
   ]
  },
  {
   "cell_type": "code",
   "execution_count": 14,
   "id": "52947f65",
   "metadata": {},
   "outputs": [
    {
     "data": {
      "text/plain": [
       "device(type='cuda', index=0)"
      ]
     },
     "execution_count": 14,
     "metadata": {},
     "output_type": "execute_result"
    }
   ],
   "source": [
    "K_lazy.device"
   ]
  },
  {
   "cell_type": "code",
   "execution_count": 19,
   "id": "a2fb4e9a",
   "metadata": {},
   "outputs": [
    {
     "data": {
      "text/plain": [
       "tensor([[1.0000, 0.6417, 0.2164,  ..., 0.0392, 0.0030, 0.0097],\n",
       "        [0.6417, 1.0000, 0.0666,  ..., 0.0653, 0.0015, 0.0010],\n",
       "        [0.2164, 0.0666, 1.0000,  ..., 0.1431, 0.1571, 0.3796],\n",
       "        ...,\n",
       "        [0.0392, 0.0653, 0.1431,  ..., 1.0000, 0.1947, 0.0143],\n",
       "        [0.0030, 0.0015, 0.1571,  ..., 0.1947, 1.0000, 0.1330],\n",
       "        [0.0097, 0.0010, 0.3796,  ..., 0.0143, 0.1330, 1.0000]],\n",
       "       device='cuda:0', grad_fn=<MatmulBackward>)"
      ]
     },
     "execution_count": 19,
     "metadata": {},
     "output_type": "execute_result"
    }
   ],
   "source": [
    "K_lazy.to_dense()"
   ]
  },
  {
   "cell_type": "code",
   "execution_count": 20,
   "id": "572ebc96",
   "metadata": {},
   "outputs": [
    {
     "data": {
      "text/plain": [
       "tensor([[ 2.1224, -0.4361,  1.4086,  ..., -0.4366,  0.0819, -0.0093],\n",
       "        [-0.8981,  1.7875, -0.2049,  ..., -0.5510,  0.6616,  0.9485],\n",
       "        [ 0.8515, -0.4668,  2.4855,  ..., -0.6536, -0.7341, -0.7959],\n",
       "        ...,\n",
       "        [-0.2632, -0.4029, -1.3474,  ...,  0.1396, -0.0564,  1.1475],\n",
       "        [-0.3088, -0.4416,  0.6186,  ..., -1.9514,  3.3519, -0.1429],\n",
       "        [ 1.1929, -0.1689, -0.7988,  ...,  0.7487,  1.3666,  1.9589]],\n",
       "       device='cuda:0', grad_fn=<AddBackward0>)"
      ]
     },
     "execution_count": 20,
     "metadata": {},
     "output_type": "execute_result"
    }
   ],
   "source": [
    "(K_lazy - B).to_dense()"
   ]
  }
 ],
 "metadata": {
  "kernelspec": {
   "display_name": "scalable_gp_inference_env",
   "language": "python",
   "name": "python3"
  },
  "language_info": {
   "codemirror_mode": {
    "name": "ipython",
    "version": 3
   },
   "file_extension": ".py",
   "mimetype": "text/x-python",
   "name": "python",
   "nbconvert_exporter": "python",
   "pygments_lexer": "ipython3",
   "version": "3.10.12"
  }
 },
 "nbformat": 4,
 "nbformat_minor": 5
}
