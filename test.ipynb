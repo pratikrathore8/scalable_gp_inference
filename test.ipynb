{
 "cells": [
  {
   "cell_type": "code",
   "execution_count": 1,
   "id": "2230d4fe",
   "metadata": {},
   "outputs": [],
   "source": [
    "import torch\n",
    "from pykeops.torch import LazyTensor\n",
    "from gpytorch.kernels.keops import RBFKernel\n",
    "from gpytorch.lazy import LazyEvaluatedKernelTensor"
   ]
  },
  {
   "cell_type": "code",
   "execution_count": 2,
   "id": "bcfcf186",
   "metadata": {},
   "outputs": [],
   "source": [
    "torch.set_default_dtype(torch.float64)"
   ]
  },
  {
   "cell_type": "code",
   "execution_count": 3,
   "id": "7c08a074",
   "metadata": {},
   "outputs": [],
   "source": [
    "n = 1000\n",
    "d = 3\n",
    "sigma = 1.0\n",
    "device = torch.device(\"cuda:0\" if torch.cuda.is_available() else \"cpu\")\n",
    "\n",
    "A = torch.randn(n, d, device=device)\n",
    "B = torch.randn(n, n, device=device)"
   ]
  },
  {
   "cell_type": "markdown",
   "id": "340d546d",
   "metadata": {},
   "source": [
    "PyKeops -- doesn't work"
   ]
  },
  {
   "cell_type": "code",
   "execution_count": 4,
   "id": "74bdf435",
   "metadata": {},
   "outputs": [],
   "source": [
    "# Ai_lazy = LazyTensor(A[:, None, :])\n",
    "# Aj_lazy = LazyTensor(A[None, :, :])\n",
    "# # Compute the squared Euclidean distance matrix\n",
    "# D_lazy = ((Ai_lazy - Aj_lazy) ** 2).sum(dim=2)\n",
    "# D_lazy - B"
   ]
  },
  {
   "cell_type": "markdown",
   "id": "482cc25e",
   "metadata": {},
   "source": [
    "GPyTorch"
   ]
  },
  {
   "cell_type": "code",
   "execution_count": 5,
   "id": "ba4de9d0",
   "metadata": {},
   "outputs": [],
   "source": [
    "kernel = RBFKernel()\n",
    "kernel.lengthscale = torch.tensor(sigma)\n",
    "kernel = kernel.to(device)\n",
    "# print(kernel.lengthscale)\n",
    "# print(kernel.lengthscale.device)\n",
    "K_lazy = kernel(A, A)"
   ]
  },
  {
   "cell_type": "code",
   "execution_count": 6,
   "id": "4409dcc2",
   "metadata": {},
   "outputs": [],
   "source": [
    "# Compute the actual kernel matrix via pytorch\n",
    "K_true = torch.exp(-((A[:, None, :] - A[None, :, :])\n",
    "                   ** 2).sum(dim=2)/(2 * sigma ** 2))"
   ]
  },
  {
   "cell_type": "code",
   "execution_count": 7,
   "id": "d9a763dd",
   "metadata": {},
   "outputs": [],
   "source": [
    "# torch.sum(K_lazy ** 2)"
   ]
  },
  {
   "cell_type": "code",
   "execution_count": 8,
   "id": "91a2b702",
   "metadata": {},
   "outputs": [
    {
     "name": "stdout",
     "output_type": "stream",
     "text": [
      "True\n",
      "True\n"
     ]
    }
   ],
   "source": [
    "print(torch.allclose(K_lazy @ B, K_true @ B))\n",
    "print(torch.allclose(B @ K_lazy, B @ K_true))"
   ]
  },
  {
   "cell_type": "code",
   "execution_count": 9,
   "id": "27052beb",
   "metadata": {},
   "outputs": [
    {
     "name": "stdout",
     "output_type": "stream",
     "text": [
      "True\n",
      "True\n",
      "True\n"
     ]
    }
   ],
   "source": [
    "print(torch.allclose((K_lazy - B) @ B, (K_true - B) @ B))\n",
    "print(torch.allclose((K_lazy - B).T @ B, (K_true - B).T @ B))\n",
    "print(torch.allclose(B @ (K_lazy - B), B @ (K_true - B)))"
   ]
  },
  {
   "cell_type": "code",
   "execution_count": 10,
   "id": "1fb0c8c4",
   "metadata": {},
   "outputs": [
    {
     "name": "stdout",
     "output_type": "stream",
     "text": [
      "True\n"
     ]
    }
   ],
   "source": [
    "print(torch.allclose(B[:, :100] @ (K_lazy - B)\n",
    "      [:100], B[:, :100] @ (K_true - B)[:100]))"
   ]
  },
  {
   "cell_type": "code",
   "execution_count": 11,
   "id": "52947f65",
   "metadata": {},
   "outputs": [
    {
     "data": {
      "text/plain": [
       "device(type='cuda', index=0)"
      ]
     },
     "execution_count": 11,
     "metadata": {},
     "output_type": "execute_result"
    }
   ],
   "source": [
    "K_lazy.device"
   ]
  },
  {
   "cell_type": "code",
   "execution_count": 12,
   "id": "a2fb4e9a",
   "metadata": {},
   "outputs": [
    {
     "data": {
      "text/plain": [
       "tensor([[1.0000e+00, 1.4668e-01, 2.1262e-03,  ..., 3.8228e-04, 7.9677e-02,\n",
       "         1.8245e-02],\n",
       "        [1.4668e-01, 1.0000e+00, 9.8671e-03,  ..., 1.4180e-02, 1.7681e-01,\n",
       "         3.3580e-01],\n",
       "        [2.1262e-03, 9.8671e-03, 1.0000e+00,  ..., 5.3679e-01, 5.2433e-02,\n",
       "         3.8000e-02],\n",
       "        ...,\n",
       "        [3.8228e-04, 1.4180e-02, 5.3679e-01,  ..., 1.0000e+00, 2.2496e-02,\n",
       "         5.8440e-02],\n",
       "        [7.9677e-02, 1.7681e-01, 5.2433e-02,  ..., 2.2496e-02, 1.0000e+00,\n",
       "         5.1861e-01],\n",
       "        [1.8245e-02, 3.3580e-01, 3.8000e-02,  ..., 5.8440e-02, 5.1861e-01,\n",
       "         1.0000e+00]], device='cuda:0', grad_fn=<MatmulBackward>)"
      ]
     },
     "execution_count": 12,
     "metadata": {},
     "output_type": "execute_result"
    }
   ],
   "source": [
    "K_lazy.to_dense()"
   ]
  },
  {
   "cell_type": "code",
   "execution_count": 13,
   "id": "572ebc96",
   "metadata": {},
   "outputs": [
    {
     "data": {
      "text/plain": [
       "tensor([[ 0.0800,  0.0181, -0.3800,  ..., -0.2621, -1.0558,  1.8005],\n",
       "        [-0.9667,  0.1911,  1.9931,  ..., -1.1898,  1.2382,  0.8369],\n",
       "        [-0.7898,  0.7323, -1.2224,  ...,  0.3513,  0.9323,  2.1908],\n",
       "        ...,\n",
       "        [-1.7796,  0.0531,  0.8696,  ..., -0.7660, -1.0400,  1.0922],\n",
       "        [-0.2834, -1.0543, -1.5351,  ..., -0.1480,  0.5543,  0.3143],\n",
       "        [-0.8730,  2.1096, -0.2310,  ..., -0.5507,  2.9069, -1.4745]],\n",
       "       device='cuda:0', grad_fn=<AddBackward0>)"
      ]
     },
     "execution_count": 13,
     "metadata": {},
     "output_type": "execute_result"
    }
   ],
   "source": [
    "(K_lazy - B).to_dense()"
   ]
  },
  {
   "cell_type": "code",
   "execution_count": 14,
   "id": "e1d1a97e",
   "metadata": {},
   "outputs": [
    {
     "data": {
      "text/plain": [
       "linear_operator.operators.sum_linear_operator.SumLinearOperator"
      ]
     },
     "execution_count": 14,
     "metadata": {},
     "output_type": "execute_result"
    }
   ],
   "source": [
    "type(K_lazy-B)"
   ]
  },
  {
   "cell_type": "code",
   "execution_count": 15,
   "id": "8f776ee9",
   "metadata": {},
   "outputs": [],
   "source": [
    "from linear_operator.operators import DenseLinearOperator, CatLinearOperator"
   ]
  },
  {
   "cell_type": "code",
   "execution_count": 16,
   "id": "dddd58f6",
   "metadata": {},
   "outputs": [],
   "source": [
    "B_linop = DenseLinearOperator(B)\n",
    "B_K_lazy_linop = CatLinearOperator(B_linop, K_lazy, dim=1)"
   ]
  },
  {
   "cell_type": "code",
   "execution_count": 17,
   "id": "5805958e",
   "metadata": {},
   "outputs": [
    {
     "data": {
      "text/plain": [
       "torch.Size([1000, 2000])"
      ]
     },
     "execution_count": 17,
     "metadata": {},
     "output_type": "execute_result"
    }
   ],
   "source": [
    "B_K_lazy_linop.shape"
   ]
  },
  {
   "cell_type": "code",
   "execution_count": null,
   "id": "44a1ae5e",
   "metadata": {},
   "outputs": [],
   "source": []
  }
 ],
 "metadata": {
  "kernelspec": {
   "display_name": "scalable_gp_inference_env",
   "language": "python",
   "name": "python3"
  },
  "language_info": {
   "codemirror_mode": {
    "name": "ipython",
    "version": 3
   },
   "file_extension": ".py",
   "mimetype": "text/x-python",
   "name": "python",
   "nbconvert_exporter": "python",
   "pygments_lexer": "ipython3",
   "version": "3.10.12"
  }
 },
 "nbformat": 4,
 "nbformat_minor": 5
}
