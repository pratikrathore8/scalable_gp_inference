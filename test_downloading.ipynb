{
 "cells": [
  {
   "cell_type": "code",
   "execution_count": 7,
   "id": "b3a8b78d",
   "metadata": {},
   "outputs": [],
   "source": [
    "from experiments.data_processing.datasets import UCIDataset, OpenMLDataset, SGDMLDataset"
   ]
  },
  {
   "cell_type": "code",
   "execution_count": 2,
   "id": "4747cbc7",
   "metadata": {},
   "outputs": [],
   "source": [
    "data_dir = \"data/\""
   ]
  },
  {
   "cell_type": "markdown",
   "id": "9b69d6d2",
   "metadata": {},
   "source": [
    "UCI"
   ]
  },
  {
   "cell_type": "code",
   "execution_count": 3,
   "id": "b0fbbf22",
   "metadata": {},
   "outputs": [],
   "source": [
    "name = \"3droad\"\n",
    "id = 246\n",
    "uci_file_name = \"3d+road+network+north+jutland+denmark\"\n",
    "\n",
    "# name = \"song\"\n",
    "# id = 203\n",
    "# uci_file_name = \"yearpredictionmsd\"\n",
    "\n",
    "# name = \"houseelec\"\n",
    "# id = 235\n",
    "# uci_file_name = \"individual+household+electric+power+consumption\"\n",
    "\n",
    "data_folder_name = name"
   ]
  },
  {
   "cell_type": "code",
   "execution_count": 4,
   "id": "9dbae1ce",
   "metadata": {},
   "outputs": [],
   "source": [
    "dataset = UCIDataset(name=name, data_folder_name=data_folder_name)\n",
    "dataset.download(data_dir, id=id, uci_file_name=uci_file_name)"
   ]
  },
  {
   "cell_type": "markdown",
   "id": "45a89cc4",
   "metadata": {},
   "source": [
    "OpenML"
   ]
  },
  {
   "cell_type": "code",
   "execution_count": 10,
   "id": "378402da",
   "metadata": {},
   "outputs": [],
   "source": [
    "# name = \"acsincome\"\n",
    "# id = 43141\n",
    "\n",
    "name = \"yolanda\"\n",
    "id = 42705\n",
    "\n",
    "data_folder_name = name"
   ]
  },
  {
   "cell_type": "code",
   "execution_count": 11,
   "id": "89d83015",
   "metadata": {},
   "outputs": [],
   "source": [
    "dataset = OpenMLDataset(name=name, data_folder_name=data_folder_name)\n",
    "dataset.download(data_dir, id=id)"
   ]
  },
  {
   "cell_type": "markdown",
   "id": "51f8edac",
   "metadata": {},
   "source": [
    "sGDML"
   ]
  },
  {
   "cell_type": "code",
   "execution_count": 17,
   "id": "99086666",
   "metadata": {},
   "outputs": [],
   "source": [
    "# name = \"malonaldehyde\"\n",
    "# molecule = \"md17_malonaldehyde\"\n",
    "\n",
    "name = \"benzene\"\n",
    "molecule = \"md17_benzene2017\""
   ]
  },
  {
   "cell_type": "code",
   "execution_count": 18,
   "id": "d4297ed3",
   "metadata": {},
   "outputs": [],
   "source": [
    "dataset = SGDMLDataset(name=name, data_folder_name=name)\n",
    "dataset.download(data_dir, molecule=molecule)"
   ]
  }
 ],
 "metadata": {
  "kernelspec": {
   "display_name": "gp_inference_env",
   "language": "python",
   "name": "python3"
  },
  "language_info": {
   "codemirror_mode": {
    "name": "ipython",
    "version": 3
   },
   "file_extension": ".py",
   "mimetype": "text/x-python",
   "name": "python",
   "nbconvert_exporter": "python",
   "pygments_lexer": "ipython3",
   "version": "3.10.12"
  }
 },
 "nbformat": 4,
 "nbformat_minor": 5
}
