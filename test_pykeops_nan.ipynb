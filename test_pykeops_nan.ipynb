{
 "cells": [
  {
   "cell_type": "code",
   "execution_count": 1,
   "id": "0c5cd96c",
   "metadata": {},
   "outputs": [],
   "source": [
    "import torch\n",
    "from pykeops.torch import LazyTensor\n",
    "from rlaopt.kernels import KernelConfig\n",
    "from rlaopt.kernels.standard import _kernel_computation_rbf\n",
    "\n",
    "from experiments.data_processing.load_torch import LOADERS\n",
    "from experiments.utils import get_gp_hparams"
   ]
  },
  {
   "cell_type": "code",
   "execution_count": 2,
   "id": "27e771af",
   "metadata": {},
   "outputs": [],
   "source": [
    "# def _kernel_computation_rbf(\n",
    "#     Ai_lazy: LazyTensor, Aj_lazy: LazyTensor, kernel_config: KernelConfig\n",
    "# ):\n",
    "#     \"\"\"Compute RBF kernel.\"\"\"\n",
    "#     D = _get_scaled_diff(Ai_lazy, Aj_lazy, kernel_config)\n",
    "#     D = (D**2).sum(dim=2)\n",
    "#     return _apply_const_scaling((-D / 2).exp(), kernel_config)"
   ]
  },
  {
   "cell_type": "code",
   "execution_count": 3,
   "id": "ab0bb6fd",
   "metadata": {},
   "outputs": [
    {
     "data": {
      "text/plain": [
       "<torch._C.Generator at 0x7f40a823f9b0>"
      ]
     },
     "execution_count": 3,
     "metadata": {},
     "output_type": "execute_result"
    }
   ],
   "source": [
    "seed = 0\n",
    "torch.manual_seed(seed)"
   ]
  },
  {
   "cell_type": "code",
   "execution_count": 4,
   "id": "996eef4e",
   "metadata": {},
   "outputs": [],
   "source": [
    "split_proportion = 0.1\n",
    "split_shuffle = True\n",
    "standardize = True\n",
    "dtype = torch.float32\n",
    "device = torch.device(\"cuda\" if torch.cuda.is_available() else \"cpu\")"
   ]
  },
  {
   "cell_type": "code",
   "execution_count": 5,
   "id": "bf1d5f5f",
   "metadata": {},
   "outputs": [],
   "source": [
    "load_fn = LOADERS[\"yolanda\"]"
   ]
  },
  {
   "cell_type": "code",
   "execution_count": 6,
   "id": "26bfbbd8",
   "metadata": {},
   "outputs": [],
   "source": [
    "dataset = load_fn(\n",
    "    split_proportion=split_proportion,\n",
    "    split_shuffle=split_shuffle,\n",
    "    split_seed=seed,\n",
    "    standardize=standardize,\n",
    "    dtype=dtype,\n",
    "    device=device,\n",
    ")"
   ]
  },
  {
   "cell_type": "code",
   "execution_count": 7,
   "id": "14253f24",
   "metadata": {},
   "outputs": [],
   "source": [
    "gp_hparams = get_gp_hparams(\"yolanda\", \"rbf\", seed).to(device=device, dtype=dtype)\n",
    "# kernel_config = KernelConfig(const_scaling=gp_hparams.signal_variance, lengthscale=gp_hparams.kernel_lengthscale)\n",
    "# kernel_config = KernelConfig(const_scaling=gp_hparams.signal_variance, lengthscale=1.0)\n",
    "kernel_config = KernelConfig(\n",
    "    const_scaling=gp_hparams.signal_variance, lengthscale=100 * torch.ones(dataset.Xtr.shape[1], device=device, dtype=dtype))"
   ]
  },
  {
   "cell_type": "code",
   "execution_count": 8,
   "id": "2359bd6d",
   "metadata": {},
   "outputs": [
    {
     "name": "stdout",
     "output_type": "stream",
     "text": [
      "kernel config lengthscale shape: torch.Size([100])\n"
     ]
    }
   ],
   "source": [
    "Xtr_i_lazy = LazyTensor(dataset.Xtr[:, None, :])\n",
    "Xtr_j_lazy = LazyTensor(dataset.Xtr[None, :, :])\n",
    "K_lazy = _kernel_computation_rbf(Xtr_i_lazy, Xtr_j_lazy, kernel_config)"
   ]
  },
  {
   "cell_type": "code",
   "execution_count": 9,
   "id": "ac342a85",
   "metadata": {},
   "outputs": [],
   "source": [
    "w = torch.zeros(K_lazy.shape[1], device=device, dtype=dtype)"
   ]
  },
  {
   "cell_type": "code",
   "execution_count": 10,
   "id": "147d679b",
   "metadata": {},
   "outputs": [
    {
     "name": "stdout",
     "output_type": "stream",
     "text": [
      "[KeOps] Generating code for Sum_Reduction reduction (with parameters 0) of formula (d*e)*Exp(-1/2*Sum((b*(a-c))**2)) with a=Var(0,100,0), b=Var(1,100,2), c=Var(2,100,1), d=Var(3,1,2), e=Var(4,1,1) ... OK\n",
      "torch.Size([360000])\n",
      "True\n"
     ]
    }
   ],
   "source": [
    "mv = K_lazy @ w\n",
    "print(mv.shape)\n",
    "print(mv.isnan().any().item())"
   ]
  },
  {
   "cell_type": "code",
   "execution_count": 11,
   "id": "a0387986",
   "metadata": {},
   "outputs": [
    {
     "name": "stdout",
     "output_type": "stream",
     "text": [
      "tensor([nan, nan, nan,  ..., nan, nan, nan], device='cuda:0')\n"
     ]
    }
   ],
   "source": [
    "print(mv)"
   ]
  }
 ],
 "metadata": {
  "kernelspec": {
   "display_name": "gp_inference_env",
   "language": "python",
   "name": "python3"
  },
  "language_info": {
   "codemirror_mode": {
    "name": "ipython",
    "version": 3
   },
   "file_extension": ".py",
   "mimetype": "text/x-python",
   "name": "python",
   "nbconvert_exporter": "python",
   "pygments_lexer": "ipython3",
   "version": "3.10.12"
  }
 },
 "nbformat": 4,
 "nbformat_minor": 5
}
