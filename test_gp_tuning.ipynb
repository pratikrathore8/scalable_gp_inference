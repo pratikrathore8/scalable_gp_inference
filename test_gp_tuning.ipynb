{
 "cells": [
  {
   "cell_type": "code",
   "execution_count": 1,
   "id": "8baa94f6",
   "metadata": {},
   "outputs": [],
   "source": [
    "import torch\n",
    "import gpytorch\n",
    "\n",
    "import matplotlib.pyplot as plt"
   ]
  },
  {
   "cell_type": "code",
   "execution_count": 2,
   "id": "35eac6f9",
   "metadata": {},
   "outputs": [
    {
     "data": {
      "text/plain": [
       "<torch._C.Generator at 0x7fded03c78d0>"
      ]
     },
     "execution_count": 2,
     "metadata": {},
     "output_type": "execute_result"
    }
   ],
   "source": [
    "torch.set_default_dtype(torch.float64)\n",
    "torch.manual_seed(0)"
   ]
  },
  {
   "cell_type": "code",
   "execution_count": 3,
   "id": "c35c3361",
   "metadata": {},
   "outputs": [],
   "source": [
    "device = torch.device(\"cuda\" if torch.cuda.is_available() else \"cpu\")\n",
    "n = 10000\n",
    "\n",
    "# Training data is n points in [0,1] inclusive regularly spaced\n",
    "train_x = torch.linspace(0, 1, n)\n",
    "# True function is sin(2*pi*x) with Gaussian noise\n",
    "train_y = torch.sin(train_x * (2 * torch.pi)) + \\\n",
    "    torch.randn(train_x.size()) * (0.04 ** 0.5)"
   ]
  },
  {
   "cell_type": "code",
   "execution_count": 4,
   "id": "20b68287",
   "metadata": {},
   "outputs": [],
   "source": [
    "class ExactGPModel(gpytorch.models.ExactGP):\n",
    "    def __init__(self, train_x, train_y, likelihood):\n",
    "        super().__init__(train_x, train_y, likelihood)\n",
    "        self.mean_module = gpytorch.means.ConstantMean()\n",
    "        self.covar_module = gpytorch.kernels.ScaleKernel(\n",
    "            gpytorch.kernels.RBFKernel())\n",
    "\n",
    "    def forward(self, x):\n",
    "        mean_x = self.mean_module(x)\n",
    "        covar_x = self.covar_module(x)\n",
    "        return gpytorch.distributions.MultivariateNormal(mean_x, covar_x)"
   ]
  },
  {
   "cell_type": "code",
   "execution_count": 5,
   "id": "f26ccead",
   "metadata": {},
   "outputs": [],
   "source": [
    "train_x = train_x.cuda()\n",
    "train_y = train_y.cuda()\n",
    "\n",
    "# initialize likelihood and model\n",
    "likelihood = gpytorch.likelihoods.GaussianLikelihood()\n",
    "model = ExactGPModel(train_x, train_y, likelihood)\n",
    "model = model.cuda()\n",
    "likelihood = likelihood.cuda()"
   ]
  },
  {
   "cell_type": "code",
   "execution_count": 6,
   "id": "26fe459b",
   "metadata": {},
   "outputs": [
    {
     "name": "stdout",
     "output_type": "stream",
     "text": [
      "Iter 1/100 - Loss: 0.791   signal:0.693   lengthscale: 0.693   noise: 0.693\n",
      "Iter 2/100 - Loss: 0.748   signal:0.744   lengthscale: 0.644   noise: 0.644\n",
      "Iter 3/100 - Loss: 0.708   signal:0.797   lengthscale: 0.599   noise: 0.598\n",
      "Iter 4/100 - Loss: 0.669   signal:0.849   lengthscale: 0.557   noise: 0.554\n",
      "Iter 5/100 - Loss: 0.631   signal:0.900   lengthscale: 0.520   noise: 0.513\n",
      "Iter 6/100 - Loss: 0.593   signal:0.949   lengthscale: 0.487   noise: 0.474\n",
      "Iter 7/100 - Loss: 0.555   signal:0.996   lengthscale: 0.457   noise: 0.437\n",
      "Iter 8/100 - Loss: 0.518   signal:1.039   lengthscale: 0.432   noise: 0.403\n",
      "Iter 9/100 - Loss: 0.480   signal:1.079   lengthscale: 0.409   noise: 0.370\n",
      "Iter 10/100 - Loss: 0.442   signal:1.117   lengthscale: 0.389   noise: 0.340\n",
      "Iter 11/100 - Loss: 0.405   signal:1.151   lengthscale: 0.372   noise: 0.312\n",
      "Iter 12/100 - Loss: 0.367   signal:1.183   lengthscale: 0.357   noise: 0.286\n",
      "Iter 13/100 - Loss: 0.329   signal:1.212   lengthscale: 0.344   noise: 0.262\n",
      "Iter 14/100 - Loss: 0.292   signal:1.239   lengthscale: 0.332   noise: 0.240\n",
      "Iter 15/100 - Loss: 0.255   signal:1.263   lengthscale: 0.322   noise: 0.219\n",
      "Iter 16/100 - Loss: 0.218   signal:1.286   lengthscale: 0.313   noise: 0.200\n",
      "Iter 17/100 - Loss: 0.182   signal:1.306   lengthscale: 0.305   noise: 0.182\n",
      "Iter 18/100 - Loss: 0.147   signal:1.325   lengthscale: 0.298   noise: 0.166\n",
      "Iter 19/100 - Loss: 0.112   signal:1.342   lengthscale: 0.292   noise: 0.152\n",
      "Iter 20/100 - Loss: 0.079   signal:1.357   lengthscale: 0.287   noise: 0.138\n",
      "Iter 21/100 - Loss: 0.047   signal:1.371   lengthscale: 0.282   noise: 0.126\n",
      "Iter 22/100 - Loss: 0.016   signal:1.384   lengthscale: 0.278   noise: 0.115\n",
      "Iter 23/100 - Loss: -0.013   signal:1.395   lengthscale: 0.275   noise: 0.105\n",
      "Iter 24/100 - Loss: -0.040   signal:1.405   lengthscale: 0.271   noise: 0.095\n",
      "Iter 25/100 - Loss: -0.065   signal:1.414   lengthscale: 0.269   noise: 0.087\n",
      "Iter 26/100 - Loss: -0.088   signal:1.422   lengthscale: 0.266   noise: 0.080\n",
      "Iter 27/100 - Loss: -0.109   signal:1.430   lengthscale: 0.264   noise: 0.073\n",
      "Iter 28/100 - Loss: -0.127   signal:1.436   lengthscale: 0.263   noise: 0.067\n",
      "Iter 29/100 - Loss: -0.143   signal:1.442   lengthscale: 0.261   noise: 0.061\n",
      "Iter 30/100 - Loss: -0.155   signal:1.446   lengthscale: 0.260   noise: 0.057\n",
      "Iter 31/100 - Loss: -0.165   signal:1.451   lengthscale: 0.259   noise: 0.052\n",
      "Iter 32/100 - Loss: -0.173   signal:1.454   lengthscale: 0.258   noise: 0.048\n",
      "Iter 33/100 - Loss: -0.177   signal:1.457   lengthscale: 0.258   noise: 0.045\n",
      "Iter 34/100 - Loss: -0.180   signal:1.460   lengthscale: 0.257   noise: 0.042\n",
      "Iter 35/100 - Loss: -0.180   signal:1.462   lengthscale: 0.257   noise: 0.040\n",
      "Iter 36/100 - Loss: -0.179   signal:1.463   lengthscale: 0.257   noise: 0.038\n",
      "Iter 37/100 - Loss: -0.176   signal:1.464   lengthscale: 0.257   noise: 0.036\n",
      "Iter 38/100 - Loss: -0.173   signal:1.465   lengthscale: 0.257   noise: 0.034\n",
      "Iter 39/100 - Loss: -0.169   signal:1.466   lengthscale: 0.258   noise: 0.033\n",
      "Iter 40/100 - Loss: -0.165   signal:1.466   lengthscale: 0.258   noise: 0.032\n",
      "Iter 41/100 - Loss: -0.162   signal:1.466   lengthscale: 0.258   noise: 0.031\n",
      "Iter 42/100 - Loss: -0.160   signal:1.465   lengthscale: 0.259   noise: 0.031\n",
      "Iter 43/100 - Loss: -0.159   signal:1.465   lengthscale: 0.259   noise: 0.031\n",
      "Iter 44/100 - Loss: -0.159   signal:1.464   lengthscale: 0.260   noise: 0.031\n",
      "Iter 45/100 - Loss: -0.160   signal:1.463   lengthscale: 0.261   noise: 0.031\n",
      "Iter 46/100 - Loss: -0.161   signal:1.461   lengthscale: 0.262   noise: 0.031\n",
      "Iter 47/100 - Loss: -0.163   signal:1.460   lengthscale: 0.262   noise: 0.032\n",
      "Iter 48/100 - Loss: -0.166   signal:1.458   lengthscale: 0.263   noise: 0.032\n",
      "Iter 49/100 - Loss: -0.168   signal:1.457   lengthscale: 0.264   noise: 0.033\n",
      "Iter 50/100 - Loss: -0.171   signal:1.455   lengthscale: 0.265   noise: 0.034\n",
      "Iter 51/100 - Loss: -0.173   signal:1.453   lengthscale: 0.266   noise: 0.035\n",
      "Iter 52/100 - Loss: -0.175   signal:1.451   lengthscale: 0.267   noise: 0.035\n",
      "Iter 53/100 - Loss: -0.177   signal:1.449   lengthscale: 0.268   noise: 0.036\n",
      "Iter 54/100 - Loss: -0.178   signal:1.447   lengthscale: 0.269   noise: 0.037\n",
      "Iter 55/100 - Loss: -0.179   signal:1.444   lengthscale: 0.270   noise: 0.038\n",
      "Iter 56/100 - Loss: -0.180   signal:1.442   lengthscale: 0.272   noise: 0.039\n",
      "Iter 57/100 - Loss: -0.180   signal:1.440   lengthscale: 0.273   noise: 0.040\n",
      "Iter 58/100 - Loss: -0.180   signal:1.437   lengthscale: 0.274   noise: 0.041\n",
      "Iter 59/100 - Loss: -0.180   signal:1.435   lengthscale: 0.276   noise: 0.042\n",
      "Iter 60/100 - Loss: -0.180   signal:1.432   lengthscale: 0.277   noise: 0.042\n",
      "Iter 61/100 - Loss: -0.179   signal:1.430   lengthscale: 0.278   noise: 0.043\n",
      "Iter 62/100 - Loss: -0.179   signal:1.427   lengthscale: 0.280   noise: 0.044\n",
      "Iter 63/100 - Loss: -0.179   signal:1.425   lengthscale: 0.281   noise: 0.044\n",
      "Iter 64/100 - Loss: -0.178   signal:1.422   lengthscale: 0.283   noise: 0.044\n",
      "Iter 65/100 - Loss: -0.178   signal:1.420   lengthscale: 0.284   noise: 0.044\n",
      "Iter 66/100 - Loss: -0.178   signal:1.417   lengthscale: 0.286   noise: 0.045\n",
      "Iter 67/100 - Loss: -0.178   signal:1.415   lengthscale: 0.287   noise: 0.045\n",
      "Iter 68/100 - Loss: -0.178   signal:1.412   lengthscale: 0.289   noise: 0.044\n",
      "Iter 69/100 - Loss: -0.178   signal:1.410   lengthscale: 0.290   noise: 0.044\n",
      "Iter 70/100 - Loss: -0.179   signal:1.407   lengthscale: 0.292   noise: 0.044\n",
      "Iter 71/100 - Loss: -0.179   signal:1.405   lengthscale: 0.294   noise: 0.044\n",
      "Iter 72/100 - Loss: -0.179   signal:1.403   lengthscale: 0.295   noise: 0.043\n",
      "Iter 73/100 - Loss: -0.179   signal:1.400   lengthscale: 0.297   noise: 0.043\n",
      "Iter 74/100 - Loss: -0.180   signal:1.398   lengthscale: 0.299   noise: 0.043\n",
      "Iter 75/100 - Loss: -0.180   signal:1.396   lengthscale: 0.301   noise: 0.042\n",
      "Iter 76/100 - Loss: -0.180   signal:1.393   lengthscale: 0.302   noise: 0.042\n",
      "Iter 77/100 - Loss: -0.180   signal:1.391   lengthscale: 0.304   noise: 0.042\n",
      "Iter 78/100 - Loss: -0.180   signal:1.389   lengthscale: 0.306   noise: 0.041\n",
      "Iter 79/100 - Loss: -0.180   signal:1.387   lengthscale: 0.308   noise: 0.041\n",
      "Iter 80/100 - Loss: -0.180   signal:1.385   lengthscale: 0.310   noise: 0.041\n",
      "Iter 81/100 - Loss: -0.180   signal:1.383   lengthscale: 0.311   noise: 0.040\n",
      "Iter 82/100 - Loss: -0.180   signal:1.381   lengthscale: 0.313   noise: 0.040\n",
      "Iter 83/100 - Loss: -0.180   signal:1.380   lengthscale: 0.315   noise: 0.040\n",
      "Iter 84/100 - Loss: -0.180   signal:1.378   lengthscale: 0.317   noise: 0.040\n",
      "Iter 85/100 - Loss: -0.180   signal:1.377   lengthscale: 0.319   noise: 0.040\n",
      "Iter 86/100 - Loss: -0.180   signal:1.375   lengthscale: 0.320   noise: 0.039\n",
      "Iter 87/100 - Loss: -0.180   signal:1.374   lengthscale: 0.322   noise: 0.039\n",
      "Iter 88/100 - Loss: -0.180   signal:1.372   lengthscale: 0.324   noise: 0.039\n",
      "Iter 89/100 - Loss: -0.180   signal:1.371   lengthscale: 0.326   noise: 0.039\n",
      "Iter 90/100 - Loss: -0.180   signal:1.370   lengthscale: 0.327   noise: 0.039\n",
      "Iter 91/100 - Loss: -0.180   signal:1.369   lengthscale: 0.329   noise: 0.039\n",
      "Iter 92/100 - Loss: -0.180   signal:1.369   lengthscale: 0.331   noise: 0.040\n",
      "Iter 93/100 - Loss: -0.180   signal:1.368   lengthscale: 0.332   noise: 0.040\n",
      "Iter 94/100 - Loss: -0.180   signal:1.367   lengthscale: 0.334   noise: 0.040\n",
      "Iter 95/100 - Loss: -0.180   signal:1.367   lengthscale: 0.335   noise: 0.040\n",
      "Iter 96/100 - Loss: -0.180   signal:1.367   lengthscale: 0.337   noise: 0.040\n",
      "Iter 97/100 - Loss: -0.180   signal:1.366   lengthscale: 0.338   noise: 0.040\n",
      "Iter 98/100 - Loss: -0.180   signal:1.366   lengthscale: 0.340   noise: 0.040\n",
      "Iter 99/100 - Loss: -0.180   signal:1.366   lengthscale: 0.341   noise: 0.040\n",
      "Iter 100/100 - Loss: -0.180   signal:1.367   lengthscale: 0.342   noise: 0.041\n"
     ]
    }
   ],
   "source": [
    "# Find optimal model hyperparameters\n",
    "model.train()\n",
    "likelihood.train()\n",
    "\n",
    "# Use the adam optimizer\n",
    "# Includes GaussianLikelihood parameters\n",
    "optimizer = torch.optim.Adam(model.parameters(), lr=0.1)\n",
    "\n",
    "# \"Loss\" for GPs - the marginal log likelihood\n",
    "mll = gpytorch.mlls.ExactMarginalLogLikelihood(likelihood, model)\n",
    "\n",
    "training_iter = 100\n",
    "for i in range(training_iter):\n",
    "    # Zero gradients from previous iteration\n",
    "    optimizer.zero_grad()\n",
    "    # Output from model\n",
    "    output = model(train_x)\n",
    "    # Calc loss and backprop gradients\n",
    "    loss = -mll(output, train_y)\n",
    "    loss.backward()\n",
    "    print('Iter %d/%d - Loss: %.3f   signal:%.3f   lengthscale: %.3f   noise: %.3f' % (\n",
    "        i + 1, training_iter, loss.item(),\n",
    "        model.covar_module.outputscale.item(),\n",
    "        model.covar_module.base_kernel.lengthscale.item(),\n",
    "        model.likelihood.noise.item()\n",
    "    ))\n",
    "    optimizer.step()"
   ]
  },
  {
   "cell_type": "code",
   "execution_count": 7,
   "id": "63936103",
   "metadata": {},
   "outputs": [],
   "source": [
    "test_x = torch.linspace(0, 1, 51).cuda()"
   ]
  },
  {
   "cell_type": "code",
   "execution_count": 8,
   "id": "c716c7cf",
   "metadata": {},
   "outputs": [],
   "source": [
    "# Get into evaluation (predictive posterior) mode\n",
    "model.eval()\n",
    "likelihood.eval()\n",
    "\n",
    "# Test points are regularly spaced along [0,1]\n",
    "# Make predictions by feeding model through likelihood\n",
    "with torch.no_grad(), gpytorch.settings.fast_pred_var():\n",
    "    observed_pred = likelihood(model(test_x))\n",
    "    mean = observed_pred.mean\n",
    "    lower, upper = observed_pred.confidence_region()"
   ]
  },
  {
   "cell_type": "code",
   "execution_count": 9,
   "id": "3aaaf0a7",
   "metadata": {},
   "outputs": [],
   "source": [
    "mean = mean.cpu()\n",
    "lower = lower.cpu()\n",
    "upper = upper.cpu()\n",
    "\n",
    "train_x = train_x.cpu()\n",
    "train_y = train_y.cpu()\n",
    "test_x = test_x.cpu()"
   ]
  },
  {
   "cell_type": "code",
   "execution_count": 10,
   "id": "b0b0ad56",
   "metadata": {},
   "outputs": [
    {
     "data": {
      "image/png": "[encoded data removed]",
      "text/plain": [
       "<Figure size 400x300 with 1 Axes>"
      ]
     },
     "metadata": {},
     "output_type": "display_data"
    }
   ],
   "source": [
    "with torch.no_grad():\n",
    "    # Initialize plot\n",
    "    f, ax = plt.subplots(1, 1, figsize=(4, 3))\n",
    "\n",
    "    # Plot training data as black stars\n",
    "    ax.plot(train_x.numpy(), train_y.numpy(), 'k*')\n",
    "    # Plot predictive means as blue line\n",
    "    ax.plot(test_x.numpy(), mean.numpy(), 'b')\n",
    "    # Shade between the lower and upper confidence bounds\n",
    "    ax.fill_between(test_x.numpy(), lower.numpy(), upper.numpy(), alpha=0.5)\n",
    "    ax.set_ylim([-3, 3])\n",
    "    ax.legend(['Observed Data', 'Mean', 'Confidence'])"
   ]
  }
 ],
 "metadata": {
  "kernelspec": {
   "display_name": "gp_inference_env",
   "language": "python",
   "name": "python3"
  },
  "language_info": {
   "codemirror_mode": {
    "name": "ipython",
    "version": 3
   },
   "file_extension": ".py",
   "mimetype": "text/x-python",
   "name": "python",
   "nbconvert_exporter": "python",
   "pygments_lexer": "ipython3",
   "version": "3.10.12"
  }
 },
 "nbformat": 4,
 "nbformat_minor": 5
}
