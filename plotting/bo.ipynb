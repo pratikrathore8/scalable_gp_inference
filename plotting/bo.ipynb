{
 "cells": [
  {
   "cell_type": "code",
   "execution_count": 8,
   "id": "641525e7",
   "metadata": {},
   "outputs": [
    {
     "name": "stdout",
     "output_type": "stream",
     "text": [
      "The autoreload extension is already loaded. To reload it, use:\n",
      "  %reload_ext autoreload\n"
     ]
    }
   ],
   "source": [
    "%load_ext autoreload\n",
    "%autoreload 2"
   ]
  },
  {
   "cell_type": "code",
   "execution_count": 9,
   "id": "10822610",
   "metadata": {},
   "outputs": [],
   "source": [
    "from constants import BASE_SAVE_DIR, SAVE_EXTENSION, PROJECT_NAME_BASE_BO, FONTSIZE\n",
    "from utils import render_in_latex, set_fontsize, get_save_path, get_runs, get_metrics_and_colors, get_metric_statistics, plot_metric_statistics, bar_metric_statistics"
   ]
  },
  {
   "cell_type": "code",
   "execution_count": 10,
   "id": "4c908db2",
   "metadata": {},
   "outputs": [],
   "source": [
    "metric = \"fn_max\"\n",
    "lengthscale = 3.0\n",
    "x_axis_name = \"num_acquisitions\""
   ]
  },
  {
   "cell_type": "code",
   "execution_count": 11,
   "id": "15900abd",
   "metadata": {},
   "outputs": [],
   "source": [
    "set_fontsize(FONTSIZE)\n",
    "render_in_latex()"
   ]
  },
  {
   "cell_type": "code",
   "execution_count": 12,
   "id": "e38a2b53",
   "metadata": {},
   "outputs": [],
   "source": [
    "runs = get_runs(PROJECT_NAME_BASE_BO + str(lengthscale), mode=\"bo\")\n",
    "max_num_acquisitions = max(\n",
    "    [run.run.summary[\"num_acquisitions\"] for run in runs])\n",
    "\n",
    "# Only keep runs with the maximum number of acquisitions -- this will exclude runs\n",
    "# that were unstable and ended up stopping early\n",
    "runs = [run for run in runs if run.run.summary[\"num_acquisitions\"] == max_num_acquisitions]\n",
    "\n",
    "# Split runs based on seeds\n",
    "runs_split = {}\n",
    "for run in runs:\n",
    "    seed_key = f\"Seed {run.run.config['seed']}\"\n",
    "    if seed_key not in runs_split:\n",
    "        runs_split[seed_key] = []\n",
    "    runs_split[seed_key].append(run)"
   ]
  },
  {
   "cell_type": "code",
   "execution_count": null,
   "id": "4240173e",
   "metadata": {},
   "outputs": [],
   "source": [
    "statistics_dicts = {}\n",
    "for seed_key, runs in runs_split.items():\n",
    "    metrics_dict, colors_dict = get_metrics_and_colors(runs, metric)\n",
    "    statistics_dicts[seed_key] = get_metric_statistics(metrics_dict)\n",
    "\n",
    "save_path = get_save_path(f\"{BASE_SAVE_DIR}/bo/lengthscale_{lengthscale}\", f\"{x_axis_name}.{SAVE_EXTENSION}\")"
   ]
  },
  {
   "cell_type": "code",
   "execution_count": null,
   "id": "93e708ae",
   "metadata": {},
   "outputs": [],
   "source": [
    "plot_metric_statistics(statistics_dicts, colors_dict, x_axis_name, use_min_time=False, save_path=save_path)"
   ]
  }
 ],
 "metadata": {
  "kernelspec": {
   "display_name": "gp_inference_env",
   "language": "python",
   "name": "python3"
  },
  "language_info": {
   "codemirror_mode": {
    "name": "ipython",
    "version": 3
   },
   "file_extension": ".py",
   "mimetype": "text/x-python",
   "name": "python",
   "nbconvert_exporter": "python",
   "pygments_lexer": "ipython3",
   "version": "3.10.12"
  }
 },
 "nbformat": 4,
 "nbformat_minor": 5
}
