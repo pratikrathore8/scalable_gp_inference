{
 "cells": [
  {
   "cell_type": "code",
   "execution_count": 1,
   "id": "d00bc13f",
   "metadata": {},
   "outputs": [],
   "source": [
    "%load_ext autoreload\n",
    "%autoreload 2"
   ]
  },
  {
   "cell_type": "code",
   "execution_count": 2,
   "id": "18469b9b",
   "metadata": {},
   "outputs": [],
   "source": [
    "import numpy as np\n",
    "import pandas as pd\n",
    "\n",
    "from plotting.constants import PROJECT_NAME_BASE, METRIC_NAME_MAP\n",
    "from plotting.utils import get_runs, get_metrics_and_colors, get_metric_statistics, _get_n_sci"
   ]
  },
  {
   "cell_type": "code",
   "execution_count": 3,
   "id": "35ed3d13",
   "metadata": {},
   "outputs": [],
   "source": [
    "datasets = [\"yolanda\", \"song\", \"benzene\",\n",
    "            \"malonaldehyde\", \"acsincome\", \"houseelec\"]\n",
    "metric = \"test_posterior_samples_mean_nll\" # or \"test_rmse\""
   ]
  },
  {
   "cell_type": "code",
   "execution_count": 4,
   "id": "10832072",
   "metadata": {},
   "outputs": [],
   "source": [
    "def get_dataset_results(dataset, metric):\n",
    "    runs = get_runs(PROJECT_NAME_BASE + dataset, mode=\"gp_inference\")\n",
    "    metrics_dict, _ = get_metrics_and_colors(runs, metric)\n",
    "    statistics_dict = get_metric_statistics(metrics_dict, skip_inconsistent=False)\n",
    "    size = runs[0].run.config[\"ntr\"]\n",
    "    return statistics_dict, size"
   ]
  },
  {
   "cell_type": "code",
   "execution_count": 5,
   "id": "e93a4234",
   "metadata": {},
   "outputs": [
    {
     "name": "stderr",
     "output_type": "stream",
     "text": [
      "/home/pratikr/scalable_gp_inference/plotting/metric_classes.py:77: UserWarning: Not all MetricData objects have the same steps. This may lead to incorrect results. This is likely because some runs were not finished.\n",
      "  warn(\n",
      "/home/pratikr/scalable_gp_inference/plotting/metric_classes.py:90: UserWarning: Returning None for the mean, min, and max data.\n",
      "  warn(\"Returning None for the mean, min, and max data.\")\n"
     ]
    }
   ],
   "source": [
    "statistics_dicts = {}\n",
    "size_dicts = {}\n",
    "\n",
    "for dataset in datasets:\n",
    "    statistics_dict, size = get_dataset_results(dataset, metric)\n",
    "    statistics_dicts[dataset] = statistics_dict\n",
    "    size_dicts[dataset] = size"
   ]
  },
  {
   "cell_type": "code",
   "execution_count": 6,
   "id": "409c00e5",
   "metadata": {},
   "outputs": [
    {
     "name": "stdout",
     "output_type": "stream",
     "text": [
      "Warning: SDD-100 did not finish for yolanda\n",
      "Warning: SDD-100 did not finish for song\n",
      "Warning: SDD-100 did not finish for benzene\n",
      "Warning: SDD-10 did not finish for malonaldehyde\n",
      "Warning: SDD-100 did not finish for malonaldehyde\n",
      "Warning: SDD-100 did not finish for acsincome\n",
      "Warning: SDD-100 did not finish for houseelec\n"
     ]
    }
   ],
   "source": [
    "# Extract final mean for each dataset + optimizer combo\n",
    "final_means = {}\n",
    "for dataset, statistics_dict in statistics_dicts.items():\n",
    "    final_means[dataset] = {}\n",
    "    for optimizer, stats in statistics_dict.items():\n",
    "        # print(f\"{optimizer} finished = {stats[0].finished}\")\n",
    "        if stats[0] is not None and stats[0].finished:\n",
    "            final_means[dataset][optimizer] = stats[0].metric_data[-1]\n",
    "        else:\n",
    "            print(f\"Warning: {optimizer} did not finish for {dataset}\")\n",
    "            final_means[dataset][optimizer] = \"Diverged\"\n",
    "            "
   ]
  },
  {
   "cell_type": "code",
   "execution_count": 7,
   "id": "777c4dd9",
   "metadata": {},
   "outputs": [],
   "source": [
    "# Format numbers to 3 decimal places, but leave \"Diverged\" as is\n",
    "def format_value(val):\n",
    "    if isinstance(val, (int, float, np.number)):\n",
    "        return f\"{val:.3f}\"\n",
    "    return val"
   ]
  },
  {
   "cell_type": "code",
   "execution_count": 8,
   "id": "8a940965",
   "metadata": {},
   "outputs": [
    {
     "name": "stdout",
     "output_type": "stream",
     "text": [
      "\\begin{tabular}{llcccccc}\n",
      "\\toprule\n",
      "& Dataset & yolanda & song & benzene & malonaldehyde & acsincome & houseelec \\\\\n",
      "& $n$ & $3.60 \\cdot 10^{5}$ & $4.64 \\cdot 10^{5}$ & $5.65 \\cdot 10^{5}$ & $8.94 \\cdot 10^{5}$ & $1.50 \\cdot 10^{6}$ & $1.84 \\cdot 10^{6}$ \\\\\n",
      "\\midrule\n",
      "\\multirow{6}{*}{\\rotatebox[origin=c]{90}{Test Mean NLL}} & \\texttt{ADASAP} & 1.179 & 1.121 & -2.673 & -2.259 & 1.229 & -2.346 \\\\\n",
      " & \\texttt{ADASAP-I} & 1.196 & 1.170 & -0.217 & 0.466 & 1.235 & -2.185 \\\\\n",
      " & SDD-1 & 1.225 & 1.203 & 0.531 & 0.903 & 1.242 & -0.281 \\\\\n",
      " & SDD-10 & 1.187 & 1.149 & -0.762 & Diverged & 1.232 & -1.804 \\\\\n",
      " & SDD-100 & Diverged & Diverged & Diverged & Diverged & Diverged & Diverged \\\\\n",
      " & PCG & 1.179 & 1.121 & -0.124 & 0.925 & 1.316 & 2.674 \\\\\n",
      "\\bottomrule\n",
      "\\end{tabular}\n"
     ]
    }
   ],
   "source": [
    "# Convert to DataFrame\n",
    "df = pd.DataFrame(final_means)\n",
    "df = df.map(format_value)\n",
    "\n",
    "# Generate LaTeX table with custom column headers including dataset sizes\n",
    "latex_code = r\"\\begin{tabular}{ll\" + \"c\" * len(df.columns) + \"}\\n\"\n",
    "latex_code += r\"\\toprule\" + \"\\n\"\n",
    "\n",
    "# Create the header row with dataset names\n",
    "header_row = r\"& Dataset & \"\n",
    "for col in df.columns:\n",
    "    header_row += f\"{col} & \"\n",
    "header_row = header_row[:-3] + r\" \\\\\" + \"\\n\"\n",
    "latex_code += header_row\n",
    "\n",
    "# Add the row with dataset sizes in scientific notation\n",
    "size_row = r\"& $n$ & \"\n",
    "for col in df.columns:\n",
    "    size_row += f\"${_get_n_sci(size_dicts.get(col, 0))}$ & \"\n",
    "size_row = size_row[:-3] + r\" \\\\\" + \"\\n\"\n",
    "latex_code += size_row\n",
    "\n",
    "# Add midrule\n",
    "latex_code += r\"\\midrule\" + \"\\n\"\n",
    "\n",
    "# Add the data rows with multirow for metric\n",
    "optimizers = df.index.tolist()\n",
    "num_optimizers = len(optimizers)\n",
    "metric_label = METRIC_NAME_MAP[metric]\n",
    "for i, idx in enumerate(optimizers):\n",
    "    if i == 0:  # First optimizer, add the multirow\n",
    "        multirow_part = f\"\\\\multirow{{{num_optimizers}}}{{*}}\"\n",
    "        rotatebox_part = f\"\\\\rotatebox[origin=c]{{90}}{{{metric_label}}}\"\n",
    "        data_row = f\"{multirow_part}{{{rotatebox_part}}} & {idx} & \"\n",
    "    else:  # Other optimizers\n",
    "        data_row = r\" & \" + f\"{idx} & \"\n",
    "\n",
    "    for col in df.columns:\n",
    "        data_row += f\"{df.loc[idx, col]} & \"\n",
    "    data_row = data_row[:-3] + r\" \\\\\" + \"\\n\"\n",
    "    latex_code += data_row\n",
    "\n",
    "# Finish the table\n",
    "latex_code += r\"\\bottomrule\" + \"\\n\"\n",
    "latex_code += r\"\\end{tabular}\"\n",
    "\n",
    "print(latex_code)"
   ]
  }
 ],
 "metadata": {
  "kernelspec": {
   "display_name": "gp_inference_env",
   "language": "python",
   "name": "python3"
  },
  "language_info": {
   "codemirror_mode": {
    "name": "ipython",
    "version": 3
   },
   "file_extension": ".py",
   "mimetype": "text/x-python",
   "name": "python",
   "nbconvert_exporter": "python",
   "pygments_lexer": "ipython3",
   "version": "3.10.12"
  }
 },
 "nbformat": 4,
 "nbformat_minor": 5
}
