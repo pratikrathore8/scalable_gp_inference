{
 "cells": [
  {
   "cell_type": "code",
   "execution_count": 1,
   "id": "27814d63",
   "metadata": {},
   "outputs": [],
   "source": [
    "%load_ext autoreload\n",
    "%autoreload 2"
   ]
  },
  {
   "cell_type": "code",
   "execution_count": 2,
   "id": "41b03b73",
   "metadata": {},
   "outputs": [],
   "source": [
    "from constants import BASE_SAVE_DIR, SAVE_EXTENSION, PROJECT_NAME_BASE, FONTSIZE\n",
    "from utils import render_in_latex, set_fontsize, get_save_path, get_runs, get_metrics_and_colors, get_metric_statistics, plot_metric_statistics, bar_metric_statistics"
   ]
  },
  {
   "cell_type": "code",
   "execution_count": 3,
   "id": "e34d660d",
   "metadata": {},
   "outputs": [],
   "source": [
    "dataset = \"houseelec\"\n",
    "metric = \"test_posterior_samples_mean_nll\"\n",
    "x_axis_name = \"time\""
   ]
  },
  {
   "cell_type": "code",
   "execution_count": 4,
   "id": "71695a11",
   "metadata": {},
   "outputs": [],
   "source": [
    "set_fontsize(FONTSIZE)\n",
    "render_in_latex()"
   ]
  },
  {
   "cell_type": "code",
   "execution_count": 5,
   "id": "d60e1b77",
   "metadata": {},
   "outputs": [
    {
     "name": "stderr",
     "output_type": "stream",
     "text": [
      "/home/pratikr/scalable_gp_inference/plotting/utils.py:127: UserWarning: Not all MetricData objects have the same steps. This may lead to incorrect results. This is likely because some runs were not finished. We will return None for the mean, min, and max data.\n",
      "  warnings.warn(\n",
      "/home/pratikr/scalable_gp_inference/plotting/utils.py:201: UserWarning: Skipping SDD-100 due to inconsistent metric data across runs.\n",
      "  warnings.warn(\n"
     ]
    }
   ],
   "source": [
    "runs = get_runs(PROJECT_NAME_BASE + dataset)\n",
    "metrics_dict, colors_dict = get_metrics_and_colors(runs, metric)\n",
    "statistics_dict = get_metric_statistics(metrics_dict)\n",
    "save_path_plot = get_save_path(f\"{BASE_SAVE_DIR}/{dataset}/{metric}\", f\"{x_axis_name}.{SAVE_EXTENSION}\")\n",
    "save_path_bar = get_save_path(\n",
    "    f\"{BASE_SAVE_DIR}/{dataset}/{metric}\", f\"bar.{SAVE_EXTENSION}\")"
   ]
  },
  {
   "cell_type": "code",
   "execution_count": 6,
   "id": "4fe19022",
   "metadata": {},
   "outputs": [],
   "source": [
    "plot_metric_statistics(statistics_dict, colors_dict, x_axis_name, dataset, save_path=save_path_plot)"
   ]
  },
  {
   "cell_type": "code",
   "execution_count": null,
   "id": "02770a6d",
   "metadata": {},
   "outputs": [],
   "source": [
    "bar_metric_statistics(statistics_dict, colors_dict, dataset, save_path=save_path_bar)"
   ]
  }
 ],
 "metadata": {
  "kernelspec": {
   "display_name": "gp_inference_env",
   "language": "python",
   "name": "python3"
  },
  "language_info": {
   "codemirror_mode": {
    "name": "ipython",
    "version": 3
   },
   "file_extension": ".py",
   "mimetype": "text/x-python",
   "name": "python",
   "nbconvert_exporter": "python",
   "pygments_lexer": "ipython3",
   "version": "3.10.12"
  }
 },
 "nbformat": 4,
 "nbformat_minor": 5
}
