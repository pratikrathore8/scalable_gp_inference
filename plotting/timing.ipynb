{
 "cells": [
  {
   "cell_type": "code",
   "execution_count": 13,
   "id": "3961fe52",
   "metadata": {},
   "outputs": [
    {
     "name": "stdout",
     "output_type": "stream",
     "text": [
      "The autoreload extension is already loaded. To reload it, use:\n",
      "  %reload_ext autoreload\n"
     ]
    }
   ],
   "source": [
    "%load_ext autoreload\n",
    "%autoreload 2"
   ]
  },
  {
   "cell_type": "code",
   "execution_count": 14,
   "id": "cb774d8b",
   "metadata": {},
   "outputs": [],
   "source": [
    "from constants import BASE_SAVE_DIR, SAVE_EXTENSION, PROJECT_NAME_BASE, FONTSIZE\n",
    "from utils import render_in_latex, set_fontsize, get_save_path, get_runs, plot_timing"
   ]
  },
  {
   "cell_type": "code",
   "execution_count": 15,
   "id": "87318e08",
   "metadata": {},
   "outputs": [],
   "source": [
    "dataset = \"taxi\"\n",
    "metric = \"rmse\" # We use this for compatibility, but it is not actually used for anything"
   ]
  },
  {
   "cell_type": "code",
   "execution_count": 16,
   "id": "2ecc90ad",
   "metadata": {},
   "outputs": [],
   "source": [
    "set_fontsize(FONTSIZE)\n",
    "render_in_latex()"
   ]
  },
  {
   "cell_type": "code",
   "execution_count": 17,
   "id": "543ffe62",
   "metadata": {},
   "outputs": [],
   "source": [
    "runs = get_runs(PROJECT_NAME_BASE + dataset + \"_timing\", mode=\"gp_inference\")\n",
    "save_path = get_save_path(f\"{BASE_SAVE_DIR}/scaling\", f\"{dataset}.{SAVE_EXTENSION}\")"
   ]
  },
  {
   "cell_type": "code",
   "execution_count": 18,
   "id": "28950852",
   "metadata": {},
   "outputs": [],
   "source": [
    "plot_timing(runs, save_path)"
   ]
  }
 ],
 "metadata": {
  "kernelspec": {
   "display_name": "gp_inference_env",
   "language": "python",
   "name": "python3"
  },
  "language_info": {
   "codemirror_mode": {
    "name": "ipython",
    "version": 3
   },
   "file_extension": ".py",
   "mimetype": "text/x-python",
   "name": "python",
   "nbconvert_exporter": "python",
   "pygments_lexer": "ipython3",
   "version": "3.10.12"
  }
 },
 "nbformat": 4,
 "nbformat_minor": 5
}
