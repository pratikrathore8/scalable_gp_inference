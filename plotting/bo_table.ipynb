{
 "cells": [
  {
   "cell_type": "code",
   "execution_count": 1,
   "id": "2159ef51",
   "metadata": {},
   "outputs": [],
   "source": [
    "%load_ext autoreload\n",
    "%autoreload 2"
   ]
  },
  {
   "cell_type": "code",
   "execution_count": 2,
   "id": "393e9c24",
   "metadata": {},
   "outputs": [],
   "source": [
    "import numpy as np\n",
    "\n",
    "from plotting.constants import PROJECT_NAME_BASE_BO\n",
    "from plotting.utils import get_runs, get_metrics_and_colors"
   ]
  },
  {
   "cell_type": "code",
   "execution_count": 3,
   "id": "b2d2118b",
   "metadata": {},
   "outputs": [],
   "source": [
    "metric = \"fn_max\"\n",
    "lengthscale = 2.0 # 3.0"
   ]
  },
  {
   "cell_type": "code",
   "execution_count": 4,
   "id": "ef294a45",
   "metadata": {},
   "outputs": [],
   "source": [
    "runs = get_runs(PROJECT_NAME_BASE_BO + str(lengthscale), mode=\"bo\")\n",
    "\n",
    "# Split runs based on seeds\n",
    "runs_split = {}\n",
    "for run in runs:\n",
    "    seed_key = f\"Seed {run.run.config['seed']}\"\n",
    "    if seed_key not in runs_split:\n",
    "        runs_split[seed_key] = []\n",
    "    runs_split[seed_key].append(run)"
   ]
  },
  {
   "cell_type": "code",
   "execution_count": 5,
   "id": "f26787e9",
   "metadata": {},
   "outputs": [
    {
     "name": "stdout",
     "output_type": "stream",
     "text": [
      "seed_key: Seed 0, random_search_baseline: 2.046401023864746\n",
      "key: PCG, data: 2.0522234439849854\n",
      "key: \\texttt{ADASAP}, data: 2.453432083129883\n",
      "key: \\texttt{ADASAP-I}, data: 2.350476026535034\n",
      "key: SDD-1, data: 2.326610803604126\n",
      "key: SDD-10, data: 2.046401023864746\n",
      "seed_key: Seed 1, random_search_baseline: 2.317646026611328\n",
      "key: PCG, data: 2.317646026611328\n",
      "key: \\texttt{ADASAP}, data: 2.4974818229675293\n",
      "key: \\texttt{ADASAP-I}, data: 2.3285958766937256\n",
      "key: SDD-1, data: 2.359241008758545\n",
      "key: SDD-10, data: 2.317646026611328\n",
      "seed_key: Seed 2, random_search_baseline: 1.8594634532928467\n",
      "key: PCG, data: 1.8594634532928467\n",
      "key: \\texttt{ADASAP}, data: 1.9792566299438477\n",
      "key: \\texttt{ADASAP-I}, data: 1.9380643367767334\n",
      "key: SDD-1, data: 1.9413827657699585\n",
      "key: SDD-10, data: 1.8594634532928467\n",
      "seed_key: Seed 3, random_search_baseline: 4.2918548583984375\n",
      "key: PCG, data: 4.2918548583984375\n",
      "key: \\texttt{ADASAP}, data: 4.593835353851318\n",
      "key: \\texttt{ADASAP-I}, data: 4.549937725067139\n",
      "key: SDD-1, data: 4.551758766174316\n",
      "key: SDD-10, data: 4.2918548583984375\n",
      "seed_key: Seed 4, random_search_baseline: 1.3592655658721924\n",
      "key: PCG, data: 1.3641332387924194\n",
      "key: \\texttt{ADASAP}, data: 1.5087394714355469\n",
      "key: \\texttt{ADASAP-I}, data: 1.4899808168411255\n",
      "key: SDD-1, data: 1.4480687379837036\n",
      "key: SDD-10, data: 1.3592655658721924\n",
      "{'PCG': [np.float64(0.284519996439568), np.float64(0.0), np.float64(0.0), np.float64(0.0), np.float64(0.3581105151518819)], '\\\\texttt{ADASAP}': [np.float64(19.890092631816376), np.float64(7.759415988952477), np.float64(6.442351767595336), np.float64(7.036130191167948), np.float64(10.996666826282942)], '\\\\texttt{ADASAP-I}': [np.float64(14.859013415465602), np.float64(0.47245567082594725), np.float64(4.22707331755812), np.float64(6.013317672280469), np.float64(9.616608722450625)], 'SDD-1': [np.float64(13.69280881272174), np.float64(1.794708150840168), np.float64(4.405534958594873), np.float64(6.0557478374948), np.float64(6.533173085608873)], 'SDD-10': [np.float64(0.0), np.float64(0.0), np.float64(0.0), np.float64(0.0), np.float64(0.0)]}\n"
     ]
    }
   ],
   "source": [
    "# Get percentage improvement over random search for each seed + optimizer combo\n",
    "percent_improvement = {}\n",
    "for seed_key, runs in runs_split.items():\n",
    "    metrics_dict, _ = get_metrics_and_colors(runs, metric)\n",
    "\n",
    "    random_search_baseline = metrics_dict[\"Random Search\"][0].metric_data[-1]\n",
    "    print(f\"seed_key: {seed_key}, random_search_baseline: {random_search_baseline}\")\n",
    "    for key, data in metrics_dict.items():\n",
    "        if len(data) != 1:\n",
    "            raise ValueError(\n",
    "                f\"Expected only one run for {key}, but got {len(data)}\"\n",
    "            )\n",
    "        \n",
    "        if key == \"Random Search\":\n",
    "            continue\n",
    "        # Calculate percent improvement\n",
    "        if key not in percent_improvement:\n",
    "            percent_improvement[key] = []\n",
    "        print(f\"key: {key}, data: {data[0].metric_data[-1]}\")\n",
    "        percent_improvement[key].append(\n",
    "            (data[0].metric_data[-1] - random_search_baseline) /\n",
    "            random_search_baseline * 100\n",
    "        )\n",
    "\n",
    "print(percent_improvement)"
   ]
  },
  {
   "cell_type": "code",
   "execution_count": 6,
   "id": "93a8bd90",
   "metadata": {},
   "outputs": [],
   "source": [
    "# Average percent improvement over all optimizers\n",
    "avg_percent_improvement = {}\n",
    "for key, values in percent_improvement.items():\n",
    "    avg_percent_improvement[key] = np.mean(values)"
   ]
  },
  {
   "cell_type": "code",
   "execution_count": 7,
   "id": "fd3a9658",
   "metadata": {},
   "outputs": [
    {
     "name": "stdout",
     "output_type": "stream",
     "text": [
      "{'PCG': np.float64(0.12852610231828998), '\\\\texttt{ADASAP}': np.float64(10.424931481163016), '\\\\texttt{ADASAP-I}': np.float64(7.037693759716153), 'SDD-1': np.float64(6.496394569052091), 'SDD-10': np.float64(0.0)}\n"
     ]
    }
   ],
   "source": [
    "print(avg_percent_improvement)"
   ]
  }
 ],
 "metadata": {
  "kernelspec": {
   "display_name": "gp_inference_env",
   "language": "python",
   "name": "python3"
  },
  "language_info": {
   "codemirror_mode": {
    "name": "ipython",
    "version": 3
   },
   "file_extension": ".py",
   "mimetype": "text/x-python",
   "name": "python",
   "nbconvert_exporter": "python",
   "pygments_lexer": "ipython3",
   "version": "3.10.12"
  }
 },
 "nbformat": 4,
 "nbformat_minor": 5
}
