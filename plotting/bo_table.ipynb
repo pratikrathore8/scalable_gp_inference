{
 "cells": [
  {
   "cell_type": "code",
   "execution_count": 1,
   "id": "2159ef51",
   "metadata": {},
   "outputs": [],
   "source": [
    "%load_ext autoreload\n",
    "%autoreload 2"
   ]
  },
  {
   "cell_type": "code",
   "execution_count": 2,
   "id": "393e9c24",
   "metadata": {},
   "outputs": [],
   "source": [
    "import numpy as np\n",
    "import pandas as pd\n",
    "\n",
    "from plotting.constants import PROJECT_NAME_BASE_BO\n",
    "from plotting.utils import get_runs, get_metrics_and_colors"
   ]
  },
  {
   "cell_type": "code",
   "execution_count": 3,
   "id": "b2d2118b",
   "metadata": {},
   "outputs": [],
   "source": [
    "metric = \"fn_max\"\n",
    "lengthscale = 3.0"
   ]
  },
  {
   "cell_type": "code",
   "execution_count": 4,
   "id": "ef294a45",
   "metadata": {},
   "outputs": [],
   "source": [
    "runs = get_runs(PROJECT_NAME_BASE_BO + str(lengthscale), mode=\"bo\")\n",
    "\n",
    "# Split runs based on seeds\n",
    "runs_split = {}\n",
    "for run in runs:\n",
    "    seed_key = f\"Seed {run.run.config['seed']}\"\n",
    "    if seed_key not in runs_split:\n",
    "        runs_split[seed_key] = []\n",
    "    runs_split[seed_key].append(run)"
   ]
  },
  {
   "cell_type": "code",
   "execution_count": null,
   "id": "f26787e9",
   "metadata": {},
   "outputs": [
    {
     "name": "stdout",
     "output_type": "stream",
     "text": [
      "{'PCG': [np.float64(12.173811979903853), np.float64(0.0), np.float64(7.170821371286662), np.float64(8.34721341026919), np.float64(0.0)], '\\\\texttt{ADASAP}': [np.float64(12.384485677750662), np.float64(7.98960866170164), np.float64(21.54122963064356), np.float64(13.465696095365235), np.float64(13.926247773579927)], '\\\\texttt{ADASAP-I}': [np.float64(9.753290776955584), np.float64(4.98972561317256), np.float64(17.180101981218538), np.float64(13.399674830593678), np.float64(11.004055354980528)], 'SDD-1': [np.float64(10.107639502263398), np.float64(5.891219123477629), np.float64(16.723147081329223), np.float64(13.366917715594855), np.float64(9.755035091622846)], 'SDD-10': [np.float64(0.0), np.float64(0.0), np.float64(0.0), np.float64(0.0), np.float64(0.0)]}\n"
     ]
    }
   ],
   "source": [
    "# Get percentage improvement over random search for each seed + optimizer combo\n",
    "percent_improvement = {}\n",
    "for seed_key, runs in runs_split.items():\n",
    "    metrics_dict, _ = get_metrics_and_colors(runs, metric)\n",
    "\n",
    "    random_search_baseline = metrics_dict[\"Random Search\"][0].metric_data[-1]\n",
    "    for key, data in metrics_dict.items():\n",
    "        if len(data) != 1:\n",
    "            raise ValueError(\n",
    "                f\"Expected only one run for {key}, but got {len(data)}\"\n",
    "            )\n",
    "        \n",
    "        if key == \"Random Search\":\n",
    "            continue\n",
    "        # Calculate percent improvement\n",
    "        if key not in percent_improvement:\n",
    "            percent_improvement[key] = []\n",
    "        percent_improvement[key].append(\n",
    "            (data[0].metric_data[-1] - random_search_baseline) /\n",
    "            random_search_baseline * 100\n",
    "        )\n",
    "\n",
    "print(percent_improvement)"
   ]
  },
  {
   "cell_type": "code",
   "execution_count": 6,
   "id": "93a8bd90",
   "metadata": {},
   "outputs": [],
   "source": [
    "# Average percent improvement over all optimizers\n",
    "avg_percent_improvement = {}\n",
    "for key, values in percent_improvement.items():\n",
    "    avg_percent_improvement[key] = np.mean(values)"
   ]
  },
  {
   "cell_type": "code",
   "execution_count": 7,
   "id": "fd3a9658",
   "metadata": {},
   "outputs": [
    {
     "name": "stdout",
     "output_type": "stream",
     "text": [
      "{'PCG': np.float64(5.538369352291942), '\\\\texttt{ADASAP}': np.float64(13.861453567808207), '\\\\texttt{ADASAP-I}': np.float64(11.265369711384178), 'SDD-1': np.float64(11.16879170285759), 'SDD-10': np.float64(0.0)}\n"
     ]
    }
   ],
   "source": [
    "print(avg_percent_improvement)"
   ]
  },
  {
   "cell_type": "code",
   "execution_count": null,
   "id": "dfb92a5f",
   "metadata": {},
   "outputs": [],
   "source": []
  }
 ],
 "metadata": {
  "kernelspec": {
   "display_name": "gp_inference_env",
   "language": "python",
   "name": "python3"
  },
  "language_info": {
   "codemirror_mode": {
    "name": "ipython",
    "version": 3
   },
   "file_extension": ".py",
   "mimetype": "text/x-python",
   "name": "python",
   "nbconvert_exporter": "python",
   "pygments_lexer": "ipython3",
   "version": "3.10.12"
  }
 },
 "nbformat": 4,
 "nbformat_minor": 5
}
