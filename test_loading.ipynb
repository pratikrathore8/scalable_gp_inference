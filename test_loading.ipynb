{
 "cells": [
  {
   "cell_type": "code",
   "execution_count": 1,
   "id": "34a5bf15",
   "metadata": {},
   "outputs": [],
   "source": [
    "import numpy as np\n",
    "\n",
    "from experiments.data_processing.datasets import UCIDataset, OpenMLDataset, SGDMLDataset"
   ]
  },
  {
   "cell_type": "code",
   "execution_count": 2,
   "id": "adb454d6",
   "metadata": {},
   "outputs": [],
   "source": [
    "data_dir = \"data/\""
   ]
  },
  {
   "cell_type": "markdown",
   "id": "8139f766",
   "metadata": {},
   "source": [
    "UCI"
   ]
  },
  {
   "cell_type": "code",
   "execution_count": 3,
   "id": "c8812695",
   "metadata": {},
   "outputs": [],
   "source": [
    "name = \"3droad\"\n",
    "data_folder_name = name\n",
    "target_column = 3\n",
    "datetime_columns = None\n",
    "skip_header = False\n",
    "drop_columns = [0]\n",
    "\n",
    "# name = \"song\"\n",
    "# data_folder_name = name\n",
    "# target_column = 0\n",
    "# datetime_columns = None\n",
    "# skip_header = False\n",
    "# drop_columns = None\n",
    "\n",
    "# name = \"houseelec\"\n",
    "# data_folder_name = name\n",
    "# target_column = 2\n",
    "# datetime_columns = [0, 1]\n",
    "# skip_header = True\n",
    "# drop_columns = None"
   ]
  },
  {
   "cell_type": "code",
   "execution_count": 4,
   "id": "29e1aee4",
   "metadata": {},
   "outputs": [
    {
     "name": "stdout",
     "output_type": "stream",
     "text": [
      "Loaded 3droad dataset with features shape (434874, 2), target shape (434874,)\n"
     ]
    }
   ],
   "source": [
    "dataset = UCIDataset(name=name, data_folder_name=data_folder_name)\n",
    "data = dataset.load(data_dir, target_column=target_column, datetime_columns=datetime_columns, drop_columns=drop_columns, skip_header=skip_header)\n",
    "print(f\"Loaded {name} dataset with features shape {data['X'].shape}, target shape {data['y'].shape}\")"
   ]
  },
  {
   "cell_type": "code",
   "execution_count": 5,
   "id": "43381e4d",
   "metadata": {},
   "outputs": [],
   "source": [
    "# data['X']"
   ]
  },
  {
   "cell_type": "code",
   "execution_count": 6,
   "id": "ae77949d",
   "metadata": {},
   "outputs": [
    {
     "name": "stdout",
     "output_type": "stream",
     "text": [
      "float64\n",
      "float64\n"
     ]
    }
   ],
   "source": [
    "print(data['X'].dtype)\n",
    "print(data['y'].dtype)"
   ]
  },
  {
   "cell_type": "code",
   "execution_count": 7,
   "id": "2b7ec83d",
   "metadata": {},
   "outputs": [
    {
     "name": "stdout",
     "output_type": "stream",
     "text": [
      "False\n",
      "False\n"
     ]
    }
   ],
   "source": [
    "print(np.isnan(data['X']).any())\n",
    "print(np.isnan(data['y']).any())"
   ]
  },
  {
   "cell_type": "code",
   "execution_count": null,
   "id": "cc0c68b1",
   "metadata": {},
   "outputs": [],
   "source": []
  }
 ],
 "metadata": {
  "kernelspec": {
   "display_name": "gp_inference_env",
   "language": "python",
   "name": "python3"
  },
  "language_info": {
   "codemirror_mode": {
    "name": "ipython",
    "version": 3
   },
   "file_extension": ".py",
   "mimetype": "text/x-python",
   "name": "python",
   "nbconvert_exporter": "python",
   "pygments_lexer": "ipython3",
   "version": "3.10.12"
  }
 },
 "nbformat": 4,
 "nbformat_minor": 5
}
