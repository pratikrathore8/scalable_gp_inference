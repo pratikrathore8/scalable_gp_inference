{
 "cells": [
  {
   "cell_type": "code",
   "execution_count": 1,
   "id": "34a5bf15",
   "metadata": {},
   "outputs": [],
   "source": [
    "import numpy as np\n",
    "import torch\n",
    "\n",
    "from experiments.data_processing.datasets import UCIDataset, OpenMLDataset, SGDMLDataset"
   ]
  },
  {
   "cell_type": "code",
   "execution_count": 2,
   "id": "066313c8",
   "metadata": {},
   "outputs": [],
   "source": [
    "def print_shapes(data):\n",
    "    for key, value in data.items():\n",
    "        if isinstance(value, torch.Tensor):\n",
    "            print(f\"{key}: {value.shape}, {value.device}\")\n",
    "        else:\n",
    "            raise ValueError(f\"Expected tensor, got {type(value)} for key: {key}\")"
   ]
  },
  {
   "cell_type": "code",
   "execution_count": 3,
   "id": "adb454d6",
   "metadata": {},
   "outputs": [],
   "source": [
    "split_proportion = 0.1\n",
    "split_shuffle = True\n",
    "loading_seed = 0\n",
    "\n",
    "data_dir = \"data/\"\n",
    "standardize = True\n",
    "dtype = torch.float32\n",
    "device = torch.device(\"cuda\" if torch.cuda.is_available() else \"cpu\")"
   ]
  },
  {
   "cell_type": "markdown",
   "id": "8139f766",
   "metadata": {},
   "source": [
    "UCI"
   ]
  },
  {
   "cell_type": "code",
   "execution_count": 4,
   "id": "c8812695",
   "metadata": {},
   "outputs": [],
   "source": [
    "# name = \"3droad\"\n",
    "# target_column = 3\n",
    "# datetime_columns = None\n",
    "# skip_header = False\n",
    "# drop_columns = [0]\n",
    "\n",
    "# name = \"song\"\n",
    "# target_column = 0\n",
    "# datetime_columns = None\n",
    "# skip_header = False\n",
    "# drop_columns = None\n",
    "\n",
    "name = \"houseelec\"\n",
    "target_column = 2\n",
    "datetime_columns = [0, 1]\n",
    "skip_header = True\n",
    "drop_columns = None\n",
    "\n",
    "kwargs = {\n",
    "    \"target_column\": target_column,\n",
    "    \"datetime_columns\": datetime_columns,\n",
    "    \"drop_columns\": drop_columns,\n",
    "    \"skip_header\": skip_header,\n",
    "}"
   ]
  },
  {
   "cell_type": "code",
   "execution_count": 5,
   "id": "29e1aee4",
   "metadata": {},
   "outputs": [
    {
     "name": "stderr",
     "output_type": "stream",
     "text": [
      "/home/pratikr/scalable_gp_inference/experiments/data_processing/utils.py:103: UserWarning: Parsing dates in %d/%m/%Y format when dayfirst=False (the default) was specified. Pass `dayfirst=True` or specify a format to silence this warning.\n",
      "  df[col] = pd.to_datetime(df[col], errors=\"coerce\")\n",
      "/home/pratikr/scalable_gp_inference/experiments/data_processing/utils.py:103: UserWarning: Could not infer format, so each element will be parsed individually, falling back to `dateutil`. To ensure parsing is consistent and as-expected, please specify a format.\n",
      "  df[col] = pd.to_datetime(df[col], errors=\"coerce\")\n"
     ]
    },
    {
     "name": "stdout",
     "output_type": "stream",
     "text": [
      "Xtr: torch.Size([1844352, 8]), cuda:0\n",
      "Xtst: torch.Size([204928, 8]), cuda:0\n",
      "ytr: torch.Size([1844352]), cuda:0\n",
      "ytst: torch.Size([204928]), cuda:0\n"
     ]
    }
   ],
   "source": [
    "dataset = UCIDataset(name=name, data_folder_name=name, split_proportion=split_proportion, split_shuffle=split_shuffle, loading_seed=loading_seed)\n",
    "data = dataset.load_torch(data_dir, standardize, dtype, device, **kwargs)\n",
    "print_shapes(data)"
   ]
  },
  {
   "cell_type": "markdown",
   "id": "04ec6150",
   "metadata": {},
   "source": [
    "OpenML"
   ]
  },
  {
   "cell_type": "code",
   "execution_count": 6,
   "id": "be95d24c",
   "metadata": {},
   "outputs": [],
   "source": [
    "name = \"acsincome\"\n",
    "\n",
    "# name = \"yolanda\""
   ]
  },
  {
   "cell_type": "code",
   "execution_count": 7,
   "id": "8740ac31",
   "metadata": {},
   "outputs": [
    {
     "name": "stdout",
     "output_type": "stream",
     "text": [
      "Xtr: torch.Size([1498050, 11]), cuda:0\n",
      "Xtst: torch.Size([166450, 11]), cuda:0\n",
      "ytr: torch.Size([1498050]), cuda:0\n",
      "ytst: torch.Size([166450]), cuda:0\n"
     ]
    }
   ],
   "source": [
    "dataset = OpenMLDataset(name=name, data_folder_name=name, split_proportion=split_proportion, split_shuffle=split_shuffle, loading_seed=loading_seed)\n",
    "data = dataset.load_torch(data_dir, standardize, dtype, device)\n",
    "print_shapes(data)"
   ]
  },
  {
   "cell_type": "markdown",
   "id": "4fb1382d",
   "metadata": {},
   "source": [
    "sGDML"
   ]
  },
  {
   "cell_type": "code",
   "execution_count": 8,
   "id": "45405c4e",
   "metadata": {},
   "outputs": [],
   "source": [
    "name = \"malonaldehyde\"\n",
    "\n",
    "# name = \"benzene\""
   ]
  },
  {
   "cell_type": "code",
   "execution_count": 9,
   "id": "6249c4de",
   "metadata": {},
   "outputs": [
    {
     "name": "stdout",
     "output_type": "stream",
     "text": [
      "Xtr: torch.Size([893913, 36]), cuda:0\n",
      "Xtst: torch.Size([99324, 36]), cuda:0\n",
      "ytr: torch.Size([893913]), cuda:0\n",
      "ytst: torch.Size([99324]), cuda:0\n"
     ]
    }
   ],
   "source": [
    "dataset = SGDMLDataset(name=name, data_folder_name=name, split_proportion=split_proportion, split_shuffle=split_shuffle, loading_seed=loading_seed)\n",
    "data = dataset.load_torch(data_dir, standardize, dtype, device)\n",
    "print_shapes(data)"
   ]
  }
 ],
 "metadata": {
  "kernelspec": {
   "display_name": "gp_inference_env",
   "language": "python",
   "name": "python3"
  },
  "language_info": {
   "codemirror_mode": {
    "name": "ipython",
    "version": 3
   },
   "file_extension": ".py",
   "mimetype": "text/x-python",
   "name": "python",
   "nbconvert_exporter": "python",
   "pygments_lexer": "ipython3",
   "version": "3.10.12"
  }
 },
 "nbformat": 4,
 "nbformat_minor": 5
}
