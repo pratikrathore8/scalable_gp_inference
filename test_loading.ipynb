{
 "cells": [
  {
   "cell_type": "code",
   "execution_count": 1,
   "id": "34a5bf15",
   "metadata": {},
   "outputs": [],
   "source": [
    "import numpy as np\n",
    "\n",
    "from experiments.data_processing.datasets import UCIDataset, OpenMLDataset, SGDMLDataset"
   ]
  },
  {
   "cell_type": "code",
   "execution_count": 2,
   "id": "adb454d6",
   "metadata": {},
   "outputs": [],
   "source": [
    "data_dir = \"data/\""
   ]
  },
  {
   "cell_type": "markdown",
   "id": "8139f766",
   "metadata": {},
   "source": [
    "UCI"
   ]
  },
  {
   "cell_type": "code",
   "execution_count": null,
   "id": "c8812695",
   "metadata": {},
   "outputs": [],
   "source": [
    "name = \"3droad\"\n",
    "target_column = 3\n",
    "datetime_columns = None\n",
    "skip_header = False\n",
    "drop_columns = [0]\n",
    "\n",
    "# name = \"song\"\n",
    "# target_column = 0\n",
    "# datetime_columns = None\n",
    "# skip_header = False\n",
    "# drop_columns = None\n",
    "\n",
    "# name = \"houseelec\"\n",
    "# target_column = 2\n",
    "# datetime_columns = [0, 1]\n",
    "# skip_header = True\n",
    "# drop_columns = None"
   ]
  },
  {
   "cell_type": "code",
   "execution_count": null,
   "id": "29e1aee4",
   "metadata": {},
   "outputs": [],
   "source": [
    "dataset = UCIDataset(name=name, data_folder_name=name)\n",
    "data = dataset.load(data_dir, target_column=target_column, datetime_columns=datetime_columns, drop_columns=drop_columns, skip_header=skip_header)\n",
    "print(f\"Loaded {name} dataset with features shape {data['X'].shape}, target shape {data['y'].shape}\")"
   ]
  },
  {
   "cell_type": "code",
   "execution_count": null,
   "id": "43381e4d",
   "metadata": {},
   "outputs": [],
   "source": [
    "# data['X']"
   ]
  },
  {
   "cell_type": "code",
   "execution_count": null,
   "id": "ae77949d",
   "metadata": {},
   "outputs": [],
   "source": [
    "print(data['X'].dtype)\n",
    "print(data['y'].dtype)"
   ]
  },
  {
   "cell_type": "code",
   "execution_count": null,
   "id": "2b7ec83d",
   "metadata": {},
   "outputs": [],
   "source": [
    "print(np.isnan(data['X']).any())\n",
    "print(np.isnan(data['y']).any())"
   ]
  },
  {
   "cell_type": "markdown",
   "id": "04ec6150",
   "metadata": {},
   "source": [
    "OpenML"
   ]
  },
  {
   "cell_type": "code",
   "execution_count": null,
   "id": "be95d24c",
   "metadata": {},
   "outputs": [],
   "source": [
    "# name = \"acsincome\"\n",
    "\n",
    "name = \"yolanda\""
   ]
  },
  {
   "cell_type": "code",
   "execution_count": null,
   "id": "8740ac31",
   "metadata": {},
   "outputs": [],
   "source": [
    "dataset = OpenMLDataset(name=name, data_folder_name=name)\n",
    "dataset.load(data_dir)"
   ]
  },
  {
   "cell_type": "markdown",
   "id": "4fb1382d",
   "metadata": {},
   "source": [
    "sGDML"
   ]
  },
  {
   "cell_type": "code",
   "execution_count": 7,
   "id": "45405c4e",
   "metadata": {},
   "outputs": [],
   "source": [
    "# name = \"malonaldehyde\"\n",
    "\n",
    "name = \"benzene\""
   ]
  },
  {
   "cell_type": "code",
   "execution_count": 8,
   "id": "6249c4de",
   "metadata": {},
   "outputs": [
    {
     "data": {
      "text/plain": [
       "{'X': array([[0.71583625, 0.41328185, 0.35790981, ..., 0.40306455, 0.23270894,\n",
       "         0.40306328],\n",
       "        [0.71548006, 0.41324121, 0.35799308, ..., 0.4035778 , 0.23281811,\n",
       "         0.40332741],\n",
       "        [0.71511935, 0.41320263, 0.35808022, ..., 0.40408442, 0.23292061,\n",
       "         0.40358199],\n",
       "        ...,\n",
       "        [0.71325787, 0.40677777, 0.34833163, ..., 0.38985611, 0.2311341 ,\n",
       "         0.40590851],\n",
       "        [0.71431578, 0.40702994, 0.34842423, ..., 0.39018342, 0.23119441,\n",
       "         0.40713231],\n",
       "        [0.71509649, 0.40730032, 0.34851631, ..., 0.39036595, 0.23127137,\n",
       "         0.40858057]], shape=(627983, 66)),\n",
       " 'y': array([-146536.1068, -146536.1192, -146536.099 , ..., -146528.199 ,\n",
       "        -146528.1944, -146528.1118], shape=(627983,))}"
      ]
     },
     "execution_count": 8,
     "metadata": {},
     "output_type": "execute_result"
    }
   ],
   "source": [
    "dataset = SGDMLDataset(name=name, data_folder_name=name)\n",
    "dataset.load(data_dir)"
   ]
  }
 ],
 "metadata": {
  "kernelspec": {
   "display_name": "gp_inference_env",
   "language": "python",
   "name": "python3"
  },
  "language_info": {
   "codemirror_mode": {
    "name": "ipython",
    "version": 3
   },
   "file_extension": ".py",
   "mimetype": "text/x-python",
   "name": "python",
   "nbconvert_exporter": "python",
   "pygments_lexer": "ipython3",
   "version": "3.10.12"
  }
 },
 "nbformat": 4,
 "nbformat_minor": 5
}
