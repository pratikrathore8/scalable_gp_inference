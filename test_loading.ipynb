{
 "cells": [
  {
   "cell_type": "code",
   "execution_count": 1,
   "id": "1a081ce1",
   "metadata": {},
   "outputs": [],
   "source": [
    "import matplotlib.pyplot as plt\n",
    "import torch\n",
    "\n",
    "from experiments.data_processing.dockstring_params import DOCKSTRING_DATASET_HPARAMS\n",
    "from experiments.data_processing.load_torch import LOADERS"
   ]
  },
  {
   "cell_type": "code",
   "execution_count": 2,
   "id": "f77bcf77",
   "metadata": {},
   "outputs": [
    {
     "data": {
      "text/plain": [
       "{'ESR2': <function experiments.data_processing.load_torch.load_torch_esr2(standardize: bool, dtype: torch.dtype, device: torch.device) -> tuple[torch.Tensor]>,\n",
       " 'F2': <function experiments.data_processing.load_torch.load_torch_f2(standardize: bool, dtype: torch.dtype, device: torch.device) -> tuple[torch.Tensor]>,\n",
       " 'KIT': <function experiments.data_processing.load_torch.load_torch_kit(standardize: bool, dtype: torch.dtype, device: torch.device) -> tuple[torch.Tensor]>,\n",
       " 'PARP1': <function experiments.data_processing.load_torch.load_torch_parp1(standardize: bool, dtype: torch.dtype, device: torch.device) -> tuple[torch.Tensor]>,\n",
       " 'PGR': <function experiments.data_processing.load_torch.load_torch_pgr(standardize: bool, dtype: torch.dtype, device: torch.device) -> tuple[torch.Tensor]>,\n",
       " 'acsincome': <function experiments.data_processing.load_torch.load_torch_acsincome(split_proportion: float, split_shuffle: bool, split_seed: int, standardize: bool, dtype: torch.dtype, device: torch.device) -> tuple[torch.Tensor]>,\n",
       " 'yolanda': <function experiments.data_processing.load_torch.load_torch_yolanda(split_proportion: float, split_shuffle: bool, split_seed: int, standardize: bool, dtype: torch.dtype, device: torch.device) -> tuple[torch.Tensor]>,\n",
       " 'malonaldehyde': <function experiments.data_processing.load_torch.load_torch_malonaldehyde(split_proportion: float, split_shuffle: bool, split_seed: int, standardize: bool, dtype: torch.dtype, device: torch.device) -> tuple[torch.Tensor]>,\n",
       " 'benzene': <function experiments.data_processing.load_torch.load_torch_benzene(split_proportion: float, split_shuffle: bool, split_seed: int, standardize: bool, dtype: torch.dtype, device: torch.device) -> tuple[torch.Tensor]>,\n",
       " 'taxi': <function experiments.data_processing.load_torch.load_torch_taxi(split_proportion: float, split_shuffle: bool, split_seed: int, standardize: bool, dtype: torch.dtype, device: torch.device) -> tuple[torch.Tensor]>,\n",
       " '3droad': <function experiments.data_processing.load_torch.load_torch_3droad(split_proportion: float, split_shuffle: bool, split_seed: int, standardize: bool, dtype: torch.dtype, device: torch.device) -> tuple[torch.Tensor]>,\n",
       " 'song': <function experiments.data_processing.load_torch.load_torch_song(split_proportion: float, split_shuffle: bool, split_seed: int, standardize: bool, dtype: torch.dtype, device: torch.device) -> tuple[torch.Tensor]>,\n",
       " 'houseelec': <function experiments.data_processing.load_torch.load_torch_houseelec(split_proportion: float, split_shuffle: bool, split_seed: int, standardize: bool, dtype: torch.dtype, device: torch.device) -> tuple[torch.Tensor]>}"
      ]
     },
     "execution_count": 2,
     "metadata": {},
     "output_type": "execute_result"
    }
   ],
   "source": [
    "LOADERS"
   ]
  },
  {
   "cell_type": "code",
   "execution_count": 3,
   "id": "6b39c443",
   "metadata": {},
   "outputs": [],
   "source": [
    "LOADERS = {\"3droad\": LOADERS[\"3droad\"]} # just use 3droad for now"
   ]
  },
  {
   "cell_type": "code",
   "execution_count": 4,
   "id": "baf67481",
   "metadata": {},
   "outputs": [],
   "source": [
    "split_proportion = 0.1\n",
    "split_shuffle = True\n",
    "split_seed = 0\n",
    "standardize = True\n",
    "dtype = torch.float32\n",
    "device = torch.device(\"cuda\" if torch.cuda.is_available() else \"cpu\")"
   ]
  },
  {
   "cell_type": "code",
   "execution_count": 5,
   "id": "32d2d4b2",
   "metadata": {},
   "outputs": [
    {
     "name": "stdout",
     "output_type": "stream",
     "text": [
      "Loading 3droad dataset...\n",
      "Loaded 3droad dataset, Xtr.shape=torch.Size([391386, 2]), Xtst.shape=torch.Size([43488, 2]), ytr.shape=torch.Size([391386]), ytst.shape=torch.Size([43488]), Xtr.dtype=torch.float32, Xtr.col_mean=tensor([7.7973e-11, 9.7466e-11], device='cuda:0'), ytr.mean=0.0, \n"
     ]
    }
   ],
   "source": [
    "for dataset_name, load_fn in LOADERS.items():\n",
    "    print(f\"Loading {dataset_name} dataset...\")\n",
    "    if dataset_name in list(DOCKSTRING_DATASET_HPARAMS.keys()):\n",
    "        dataset = load_fn(\n",
    "            standardize=standardize,\n",
    "            dtype=dtype,\n",
    "            device=device,\n",
    "        )\n",
    "    else:\n",
    "        dataset = load_fn(\n",
    "            split_proportion=split_proportion,\n",
    "            split_shuffle=split_shuffle,\n",
    "            split_seed=split_seed,\n",
    "            standardize=standardize,\n",
    "            dtype=dtype,\n",
    "            device=device,\n",
    "        )\n",
    "    print(f\"Loaded {dataset_name} dataset, Xtr.shape={dataset.Xtr.shape}, Xtst.shape={dataset.Xtst.shape}, \"\n",
    "          f\"ytr.shape={dataset.ytr.shape}, ytst.shape={dataset.ytst.shape}, Xtr.dtype={dataset.Xtr.dtype}, Xtr.col_mean={torch.mean(dataset.Xtr, dim=0)}, ytr.mean={torch.mean(dataset.ytr).item()}, \")\n"
   ]
  },
  {
   "cell_type": "code",
   "execution_count": 6,
   "id": "f43f98ed",
   "metadata": {},
   "outputs": [
    {
     "data": {
      "text/plain": [
       "(array([1.0000e+00, 2.0000e+00, 9.8000e+01, 3.1496e+04, 4.3700e+04,\n",
       "        3.4710e+04, 2.7152e+04, 2.6940e+04, 2.3545e+04, 2.2445e+04,\n",
       "        2.0523e+04, 1.9107e+04, 1.9782e+04, 1.7143e+04, 1.5101e+04,\n",
       "        1.2421e+04, 1.0570e+04, 9.0540e+03, 8.1960e+03, 7.4890e+03,\n",
       "        6.4240e+03, 5.7210e+03, 4.6230e+03, 3.8930e+03, 3.3560e+03,\n",
       "        3.1020e+03, 2.6630e+03, 2.1970e+03, 2.0690e+03, 1.8780e+03,\n",
       "        1.4020e+03, 1.0360e+03, 8.7500e+02, 6.4100e+02, 4.9400e+02,\n",
       "        4.3400e+02, 3.2500e+02, 2.1100e+02, 1.2600e+02, 1.3000e+02,\n",
       "        1.2900e+02, 8.5000e+01, 2.2000e+01, 1.2000e+01, 1.6000e+01,\n",
       "        1.3000e+01, 1.2000e+01, 6.0000e+00, 1.2000e+01, 4.0000e+00]),\n",
       " array([-1.65443194e+00, -1.50401521e+00, -1.35359859e+00, -1.20318186e+00,\n",
       "        -1.05276513e+00, -9.02348399e-01, -7.51931727e-01, -6.01515055e-01,\n",
       "        -4.51098323e-01, -3.00681591e-01, -1.50264859e-01,  1.51753426e-04,\n",
       "         1.50568485e-01,  3.00985217e-01,  4.51401830e-01,  6.01818681e-01,\n",
       "         7.52235293e-01,  9.02651906e-01,  1.05306876e+00,  1.20348537e+00,\n",
       "         1.35390222e+00,  1.50431883e+00,  1.65473545e+00,  1.80515230e+00,\n",
       "         1.95556891e+00,  2.10598564e+00,  2.25640249e+00,  2.40681934e+00,\n",
       "         2.55723572e+00,  2.70765257e+00,  2.85806942e+00,  3.00848579e+00,\n",
       "         3.15890265e+00,  3.30931950e+00,  3.45973587e+00,  3.61015272e+00,\n",
       "         3.76056957e+00,  3.91098595e+00,  4.06140280e+00,  4.21181965e+00,\n",
       "         4.36223650e+00,  4.51265287e+00,  4.66306973e+00,  4.81348658e+00,\n",
       "         4.96390295e+00,  5.11431980e+00,  5.26473665e+00,  5.41515303e+00,\n",
       "         5.56556988e+00,  5.71598673e+00,  5.86640310e+00]),\n",
       " <BarContainer object of 50 artists>)"
      ]
     },
     "execution_count": 6,
     "metadata": {},
     "output_type": "execute_result"
    },
    {
     "data": {
      "image/png": "[encoded data removed]",
      "text/plain": [
       "<Figure size 640x480 with 1 Axes>"
      ]
     },
     "metadata": {},
     "output_type": "display_data"
    }
   ],
   "source": [
    "plt.hist(dataset.ytr.cpu().numpy(), bins=50)"
   ]
  },
  {
   "cell_type": "code",
   "execution_count": null,
   "id": "04eae219",
   "metadata": {},
   "outputs": [],
   "source": []
  }
 ],
 "metadata": {
  "kernelspec": {
   "display_name": "gp_inference_env",
   "language": "python",
   "name": "python3"
  },
  "language_info": {
   "codemirror_mode": {
    "name": "ipython",
    "version": 3
   },
   "file_extension": ".py",
   "mimetype": "text/x-python",
   "name": "python",
   "nbconvert_exporter": "python",
   "pygments_lexer": "ipython3",
   "version": "3.10.12"
  }
 },
 "nbformat": 4,
 "nbformat_minor": 5
}
