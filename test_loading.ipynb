{
 "cells": [
  {
   "cell_type": "code",
   "execution_count": null,
   "id": "1a081ce1",
   "metadata": {},
   "outputs": [],
   "source": [
    "import torch\n",
    "\n",
    "from experiments.data_processing.load_torch import LOADERS"
   ]
  },
  {
   "cell_type": "code",
   "execution_count": null,
   "id": "f77bcf77",
   "metadata": {},
   "outputs": [],
   "source": [
    "LOADERS"
   ]
  },
  {
   "cell_type": "code",
   "execution_count": null,
   "id": "baf67481",
   "metadata": {},
   "outputs": [],
   "source": [
    "split_proportion = 0.1\n",
    "split_shuffle = True\n",
    "split_seed = 0\n",
    "standardize = True\n",
    "dtype = torch.float32\n",
    "device = torch.device(\"cuda\" if torch.cuda.is_available() else \"cpu\")"
   ]
  },
  {
   "cell_type": "code",
   "execution_count": null,
   "id": "32d2d4b2",
   "metadata": {},
   "outputs": [],
   "source": [
    "for dataset_name, load_fn in LOADERS.items():\n",
    "    print(f\"Loading {dataset_name} dataset...\")\n",
    "    dataset = load_fn(\n",
    "        split_proportion=split_proportion,\n",
    "        split_shuffle=split_shuffle,\n",
    "        split_seed=split_seed,\n",
    "        standardize=standardize,\n",
    "        dtype=dtype,\n",
    "        device=device,\n",
    "    )\n",
    "    print(f\"Loaded {dataset_name} dataset, Xtr.shape={dataset.Xtr.shape}, Xtst.shape={dataset.Xtst.shape}, \"\n",
    "          f\"ytr.shape={dataset.ytr.shape}, ytst.shape={dataset.ytst.shape}, Xtr.dtype={dataset.Xtr.dtype}, Xtr.col_mean={torch.mean(dataset.Xtr, dim=0)}, ytr.mean={torch.mean(dataset.ytr).item()}, \")\n"
   ]
  }
 ],
 "metadata": {
  "kernelspec": {
   "display_name": "gp_inference_env",
   "language": "python",
   "name": "python3"
  },
  "language_info": {
   "codemirror_mode": {
    "name": "ipython",
    "version": 3
   },
   "file_extension": ".py",
   "mimetype": "text/x-python",
   "name": "python",
   "nbconvert_exporter": "python",
   "pygments_lexer": "ipython3",
   "version": "3.10.12"
  }
 },
 "nbformat": 4,
 "nbformat_minor": 5
}
