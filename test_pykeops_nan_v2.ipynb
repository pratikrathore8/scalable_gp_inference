{
 "cells": [
  {
   "cell_type": "code",
   "execution_count": 1,
   "id": "fa1f0dc3",
   "metadata": {},
   "outputs": [],
   "source": [
    "import torch\n",
    "from pykeops.torch import LazyTensor\n",
    "\n",
    "from experiments.data_processing.load_torch import LOADERS\n",
    "from experiments.utils import get_gp_hparams"
   ]
  },
  {
   "cell_type": "code",
   "execution_count": 2,
   "id": "bd8c0075",
   "metadata": {},
   "outputs": [
    {
     "data": {
      "text/plain": [
       "<torch._C.Generator at 0x7f50bc0ff9f0>"
      ]
     },
     "execution_count": 2,
     "metadata": {},
     "output_type": "execute_result"
    }
   ],
   "source": [
    "seed = 0\n",
    "torch.manual_seed(seed)"
   ]
  },
  {
   "cell_type": "code",
   "execution_count": 3,
   "id": "c1051ca1",
   "metadata": {},
   "outputs": [],
   "source": [
    "split_proportion = 0.1\n",
    "split_shuffle = True\n",
    "standardize = True\n",
    "dtype = torch.float32\n",
    "device = torch.device(\"cuda\" if torch.cuda.is_available() else \"cpu\")"
   ]
  },
  {
   "cell_type": "code",
   "execution_count": 4,
   "id": "b23e3b04",
   "metadata": {},
   "outputs": [],
   "source": [
    "load_fn = LOADERS[\"yolanda\"]"
   ]
  },
  {
   "cell_type": "code",
   "execution_count": 5,
   "id": "15198b49",
   "metadata": {},
   "outputs": [],
   "source": [
    "dataset = load_fn(\n",
    "    split_proportion=split_proportion,\n",
    "    split_shuffle=split_shuffle,\n",
    "    split_seed=seed,\n",
    "    standardize=standardize,\n",
    "    dtype=dtype,\n",
    "    device=device,\n",
    ")"
   ]
  },
  {
   "cell_type": "code",
   "execution_count": 6,
   "id": "51f73056",
   "metadata": {},
   "outputs": [],
   "source": [
    "gp_hparams = get_gp_hparams(\"yolanda\", \"rbf\", seed).to(\n",
    "    device=device, dtype=dtype)"
   ]
  },
  {
   "cell_type": "code",
   "execution_count": 7,
   "id": "be5be4ab",
   "metadata": {},
   "outputs": [],
   "source": [
    "# Create sample data\n",
    "# n, d = 300000, 100\n",
    "# x = torch.randn(n, d)\n",
    "# y = torch.randn(n, d)\n",
    "n_lim = 2\n",
    "d_lim = 99\n",
    "x = dataset.Xtr[:n_lim, :d_lim]\n",
    "y = dataset.Xtr[:n_lim, :d_lim]\n",
    "n, d = x.shape\n",
    "\n",
    "# Convert to LazyTensors\n",
    "x_i = LazyTensor(x[:, None, :])  # (n, 1, d)\n",
    "y_j = LazyTensor(y[None, :, :])  # (1, n, d)\n",
    "\n",
    "# Create scaling factors\n",
    "# scales = torch.tensor([0.5, 2.0, 1.5])  # Different scale for each dimension\n",
    "# scales = torch.randn(d, device=device) ** 2  # Random scales for each dimension\n",
    "scales = 1 / gp_hparams.kernel_lengthscale[:d_lim]\n",
    "\n",
    "# Reshape scales to work with LazyTensors\n",
    "scales_k = LazyTensor(scales[None, None, :])  # (1, 1, d)\n",
    "\n",
    "# Scale columns\n",
    "# scaled_x_i = x_i * scales_k\n",
    "# scaled_y_j = y_j * scales_k\n",
    "scaled_diff = (x_i - y_j) * scales_k\n",
    "\n",
    "# Use in a computation (e.g., squared Euclidean distance with scaled columns)\n",
    "D_ij = (scaled_diff ** 2).sum(dim=2)\n",
    "D_ij = -D_ij / 2\n",
    "D_ij = D_ij.exp()\n",
    "\n",
    "# Multiplication by the constant is what creates nans\n",
    "D_ij = D_ij * gp_hparams.signal_variance\n",
    "# D_ij = D_ij * gp_hparams.signal_variance\n",
    "# signal_variance_lazy = LazyTensor(torch.tensor([gp_hparams.signal_variance], device=device, dtype=dtype)[None, None, None])\n",
    "# signal_variance = gp_hparams.signal_variance * torch.ones(y.shape[0], device=device, dtype=dtype)\n",
    "# signal_variance_lazy = LazyTensor(signal_variance[None, None, :])\n",
    "# print(D_ij.shape)\n",
    "# print(signal_variance_lazy.shape)\n",
    "# D_ij = D_ij * signal_variance_lazy"
   ]
  },
  {
   "cell_type": "code",
   "execution_count": 8,
   "id": "f52d44aa",
   "metadata": {},
   "outputs": [
    {
     "data": {
      "text/plain": [
       "pykeops.torch.lazytensor.LazyTensor.LazyTensor"
      ]
     },
     "execution_count": 8,
     "metadata": {},
     "output_type": "execute_result"
    }
   ],
   "source": [
    "type(D_ij)"
   ]
  },
  {
   "cell_type": "code",
   "execution_count": 9,
   "id": "918ed154",
   "metadata": {},
   "outputs": [
    {
     "name": "stdout",
     "output_type": "stream",
     "text": [
      "[pyKeOps] Warning : at least one of the input tensors is not contiguous. Consider using contiguous data arrays to avoid unnecessary copies.\n",
      "tensor([nan, nan], device='cuda:0')\n"
     ]
    }
   ],
   "source": [
    "w = torch.zeros(n, device=device, dtype=torch.float32)\n",
    "print(D_ij @ w)"
   ]
  }
 ],
 "metadata": {
  "kernelspec": {
   "display_name": "gp_inference_env",
   "language": "python",
   "name": "python3"
  },
  "language_info": {
   "codemirror_mode": {
    "name": "ipython",
    "version": 3
   },
   "file_extension": ".py",
   "mimetype": "text/x-python",
   "name": "python",
   "nbconvert_exporter": "python",
   "pygments_lexer": "ipython3",
   "version": "3.10.12"
  }
 },
 "nbformat": 4,
 "nbformat_minor": 5
}
