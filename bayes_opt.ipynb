{
 "cells": [
  {
   "cell_type": "code",
   "execution_count": 1,
   "id": "c1943006",
   "metadata": {},
   "outputs": [],
   "source": [
    "# %load_ext autoreload\n",
    "# %autoreload 2"
   ]
  },
  {
   "cell_type": "code",
   "execution_count": 2,
   "id": "55eaf952",
   "metadata": {},
   "outputs": [],
   "source": [
    "import torch\n",
    "from rlaopt.solvers import PCGConfig\n",
    "from rlaopt.preconditioners import NystromConfig\n",
    "from rlaopt.kernels import KernelConfig\n",
    "from scalable_gp_inference.bayes_opt.configs import BayesOptConfig, TSConfig\n",
    "from scalable_gp_inference.bayes_opt.core import BayesOpt\n"
   ]
  },
  {
   "cell_type": "code",
   "execution_count": 3,
   "id": "e7d9042a",
   "metadata": {},
   "outputs": [],
   "source": [
    "device = torch.device(\"cuda:1\")\n",
    "dtype = torch.float32\n",
    "seed = 3\n",
    "\n",
    "noise_variance = 1e-6\n",
    "lengthscale = 0.5\n",
    "pcg_iters = 10\n",
    "kernel_type = \"matern32\"\n",
    "n_steps = 2"
   ]
  },
  {
   "cell_type": "code",
   "execution_count": 4,
   "id": "54623e90",
   "metadata": {},
   "outputs": [
    {
     "data": {
      "text/plain": [
       "<torch._C.Generator at 0x7f54982ab990>"
      ]
     },
     "execution_count": 4,
     "metadata": {},
     "output_type": "execute_result"
    }
   ],
   "source": [
    "torch.set_default_dtype(dtype)\n",
    "torch.manual_seed(seed)"
   ]
  },
  {
   "cell_type": "code",
   "execution_count": 5,
   "id": "20cc3fa9",
   "metadata": {},
   "outputs": [],
   "source": [
    "kernel_config = KernelConfig(const_scaling=1.0, lengthscale=0.5)"
   ]
  },
  {
   "cell_type": "code",
   "execution_count": 6,
   "id": "1d64387f",
   "metadata": {},
   "outputs": [],
   "source": [
    "precond_config = NystromConfig(rank=100, rho=1e-6)"
   ]
  },
  {
   "cell_type": "code",
   "execution_count": 7,
   "id": "c7a505aa",
   "metadata": {},
   "outputs": [],
   "source": [
    "solver_config = PCGConfig(device=device, max_iters=pcg_iters, precond_config=precond_config, atol=1e-12, rtol=1e-12)"
   ]
  },
  {
   "cell_type": "code",
   "execution_count": 8,
   "id": "dcbda6d0",
   "metadata": {},
   "outputs": [],
   "source": [
    "bayes_config = BayesOptConfig(kernel_config=kernel_config, kernel_type=kernel_type, noise_variance=noise_variance)"
   ]
  },
  {
   "cell_type": "code",
   "execution_count": 9,
   "id": "582211c4",
   "metadata": {},
   "outputs": [],
   "source": [
    "ts_config = TSConfig()"
   ]
  },
  {
   "cell_type": "code",
   "execution_count": 10,
   "id": "fecbc063",
   "metadata": {},
   "outputs": [],
   "source": [
    "opt = BayesOpt(bayes_config, device=device, dtype=dtype)"
   ]
  },
  {
   "cell_type": "code",
   "execution_count": 11,
   "id": "1dbfc998",
   "metadata": {},
   "outputs": [],
   "source": [
    "for _ in range(n_steps):\n",
    "    opt.step(ts_config, solver_config)"
   ]
  },
  {
   "cell_type": "code",
   "execution_count": 12,
   "id": "ec602af6",
   "metadata": {},
   "outputs": [
    {
     "data": {
      "text/plain": [
       "BayesOptState(X=tensor([[0.8167, 0.2046, 0.1540,  ..., 0.4793, 0.9958, 0.1753],\n",
       "        [0.8405, 0.2477, 0.3528,  ..., 0.3110, 0.3280, 0.6987],\n",
       "        [0.3932, 0.3593, 0.3689,  ..., 0.6491, 0.6928, 0.8220],\n",
       "        ...,\n",
       "        [0.2336, 0.6829, 0.3219,  ..., 0.9858, 0.5706, 0.4936],\n",
       "        [0.7304, 0.7388, 0.3159,  ..., 0.9424, 0.8987, 0.3391],\n",
       "        [0.0000, 0.0000, 0.0747,  ..., 0.3552, 0.7572, 0.0650]],\n",
       "       device='cuda:1'), y=tensor([ 0.5317,  0.5933, -0.5143,  ..., -0.5360,  2.6070,  2.5071],\n",
       "       device='cuda:1'), rf_obj=<scalable_gp_inference.random_features.RandomFeatures object at 0x7f539f838a30>, w_true=tensor([-0.5162, -0.2217, -0.5594,  ...,  0.5392,  2.0194, -0.8012],\n",
       "       device='cuda:1'), fn_max=4.613733768463135, fn_argmax=31773)"
      ]
     },
     "execution_count": 12,
     "metadata": {},
     "output_type": "execute_result"
    }
   ],
   "source": [
    "opt.bo_state"
   ]
  },
  {
   "cell_type": "code",
   "execution_count": 13,
   "id": "a08fb30f",
   "metadata": {},
   "outputs": [
    {
     "data": {
      "text/plain": [
       "52000"
      ]
     },
     "execution_count": 13,
     "metadata": {},
     "output_type": "execute_result"
    }
   ],
   "source": [
    "len(opt.bo_state)"
   ]
  },
  {
   "cell_type": "code",
   "execution_count": 14,
   "id": "71fb882e",
   "metadata": {},
   "outputs": [
    {
     "data": {
      "text/plain": [
       "(array([ 13.,  66., 162., 331., 455., 484., 308., 125.,  44.,  12.]),\n",
       " array([-2.42711306, -1.79199612, -1.15687919, -0.52176225,  0.11335468,\n",
       "         0.74847174,  1.38358855,  2.01870537,  2.65382242,  3.28893948,\n",
       "         3.92405653]),\n",
       " <BarContainer object of 10 artists>)"
      ]
     },
     "execution_count": 14,
     "metadata": {},
     "output_type": "execute_result"
    },
    {
     "data": {
      "image/png": "[encoded data removed]",
      "text/plain": [
       "<Figure size 640x480 with 1 Axes>"
      ]
     },
     "metadata": {},
     "output_type": "display_data"
    }
   ],
   "source": [
    "import matplotlib.pyplot as plt\n",
    "\n",
    "plt.hist(opt.bo_state.y[50000:].cpu().numpy())"
   ]
  },
  {
   "cell_type": "code",
   "execution_count": 17,
   "id": "a7b16a4e",
   "metadata": {},
   "outputs": [
    {
     "data": {
      "text/plain": [
       "(array([3.3000e+01, 4.1400e+02, 3.3200e+03, 1.0879e+04, 1.6406e+04,\n",
       "        1.2953e+04, 4.9760e+03, 9.2100e+02, 8.9000e+01, 9.0000e+00]),\n",
       " array([-3.83145785, -2.98693871, -2.14241958, -1.29790044, -0.4533813 ,\n",
       "         0.39113784,  1.23565698,  2.08017612,  2.92469525,  3.76921439,\n",
       "         4.61373377]),\n",
       " <BarContainer object of 10 artists>)"
      ]
     },
     "execution_count": 17,
     "metadata": {},
     "output_type": "execute_result"
    },
    {
     "data": {
      "image/png": "[encoded data removed]",
      "text/plain": [
       "<Figure size 640x480 with 1 Axes>"
      ]
     },
     "metadata": {},
     "output_type": "display_data"
    }
   ],
   "source": [
    "plt.hist(opt.bo_state.y[:50000].cpu().numpy())"
   ]
  },
  {
   "cell_type": "code",
   "execution_count": 15,
   "id": "a7bbf66e",
   "metadata": {},
   "outputs": [
    {
     "name": "stdout",
     "output_type": "stream",
     "text": [
      "tensor(4.6137, device='cuda:1')\n"
     ]
    }
   ],
   "source": [
    "print(opt.bo_state.y[:50000].max())"
   ]
  },
  {
   "cell_type": "code",
   "execution_count": 16,
   "id": "07dcbd62",
   "metadata": {},
   "outputs": [
    {
     "name": "stdout",
     "output_type": "stream",
     "text": [
      "tensor(3.9241, device='cuda:1')\n"
     ]
    }
   ],
   "source": [
    "print(opt.bo_state.y[50000:].max())"
   ]
  }
 ],
 "metadata": {
  "kernelspec": {
   "display_name": "gp_inference_temp_env",
   "language": "python",
   "name": "python3"
  },
  "language_info": {
   "codemirror_mode": {
    "name": "ipython",
    "version": 3
   },
   "file_extension": ".py",
   "mimetype": "text/x-python",
   "name": "python",
   "nbconvert_exporter": "python",
   "pygments_lexer": "ipython3",
   "version": "3.10.12"
  }
 },
 "nbformat": 4,
 "nbformat_minor": 5
}
