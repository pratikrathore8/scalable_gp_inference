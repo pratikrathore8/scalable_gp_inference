{
 "cells": [
  {
   "cell_type": "code",
   "execution_count": 1,
   "id": "c1943006",
   "metadata": {},
   "outputs": [],
   "source": [
    "# %load_ext autoreload\n",
    "# %autoreload 2"
   ]
  },
  {
   "cell_type": "code",
   "execution_count": 2,
   "id": "55eaf952",
   "metadata": {},
   "outputs": [],
   "source": [
    "import torch\n",
    "from rlaopt.solvers import PCGConfig, SAPConfig, SAPAccelConfig\n",
    "from rlaopt.preconditioners import NystromConfig\n",
    "from rlaopt.kernels import KernelConfig\n",
    "from scalable_gp_inference.bayes_opt.configs import BayesOptConfig, TSConfig\n",
    "from scalable_gp_inference.bayes_opt.core import BayesOpt\n"
   ]
  },
  {
   "cell_type": "code",
   "execution_count": 3,
   "id": "e7d9042a",
   "metadata": {},
   "outputs": [],
   "source": [
    "device = torch.device(\"cuda:1\")\n",
    "dtype = torch.float32\n",
    "seed = 4\n",
    "\n",
    "noise_variance = 1e-6\n",
    "lengthscale = 0.5\n",
    "pcg_iters = 10\n",
    "num_blocks = 5\n",
    "kernel_type = \"matern32\"\n",
    "n_steps = 2"
   ]
  },
  {
   "cell_type": "code",
   "execution_count": 4,
   "id": "54623e90",
   "metadata": {},
   "outputs": [
    {
     "data": {
      "text/plain": [
       "<torch._C.Generator at 0x7f0bcf7b3990>"
      ]
     },
     "execution_count": 4,
     "metadata": {},
     "output_type": "execute_result"
    }
   ],
   "source": [
    "torch.set_default_dtype(dtype)\n",
    "torch.manual_seed(seed)"
   ]
  },
  {
   "cell_type": "code",
   "execution_count": 5,
   "id": "20cc3fa9",
   "metadata": {},
   "outputs": [],
   "source": [
    "kernel_config = KernelConfig(const_scaling=1.0, lengthscale=lengthscale)"
   ]
  },
  {
   "cell_type": "code",
   "execution_count": 6,
   "id": "1d64387f",
   "metadata": {},
   "outputs": [],
   "source": [
    "precond_config = NystromConfig(rank=100, rho=noise_variance)"
   ]
  },
  {
   "cell_type": "code",
   "execution_count": 7,
   "id": "dcbda6d0",
   "metadata": {},
   "outputs": [],
   "source": [
    "bayes_config = BayesOptConfig(kernel_config=kernel_config, kernel_type=kernel_type, noise_variance=noise_variance)"
   ]
  },
  {
   "cell_type": "code",
   "execution_count": 8,
   "id": "582211c4",
   "metadata": {},
   "outputs": [],
   "source": [
    "ts_config = TSConfig()"
   ]
  },
  {
   "cell_type": "code",
   "execution_count": 9,
   "id": "fecbc063",
   "metadata": {},
   "outputs": [],
   "source": [
    "opt = BayesOpt(bayes_config, device=device, dtype=dtype)"
   ]
  },
  {
   "cell_type": "code",
   "execution_count": 10,
   "id": "97704bcc",
   "metadata": {},
   "outputs": [
    {
     "data": {
      "text/plain": [
       "BayesOptState(X=tensor([[0.1324, 0.9975, 0.9055,  ..., 0.0950, 0.1201, 0.0398],\n",
       "        [0.0035, 0.6365, 0.7550,  ..., 0.3010, 0.7070, 0.9050],\n",
       "        [0.3070, 0.6371, 0.7869,  ..., 0.7716, 0.4719, 0.6068],\n",
       "        ...,\n",
       "        [0.5992, 0.3048, 0.3650,  ..., 0.2779, 0.1351, 0.2537],\n",
       "        [0.5670, 0.4210, 0.4183,  ..., 0.2964, 0.3108, 0.8408],\n",
       "        [0.3181, 0.9759, 0.9053,  ..., 0.2570, 0.2531, 0.5466]],\n",
       "       device='cuda:1'), y=tensor([ 2.7331,  0.3682,  1.2351,  ..., -0.4443,  0.6552,  0.6054],\n",
       "       device='cuda:1'), rf_obj=<scalable_gp_inference.random_features.RandomFeatures object at 0x7f0ad06fcd90>, w_true=tensor([-0.2938,  0.7819, -1.4731,  ..., -0.6513,  1.7750, -0.8584],\n",
       "       device='cuda:1'), fn_max=3.9183528423309326, fn_argmax=27273)"
      ]
     },
     "execution_count": 10,
     "metadata": {},
     "output_type": "execute_result"
    }
   ],
   "source": [
    "opt.bo_state"
   ]
  },
  {
   "cell_type": "code",
   "execution_count": 11,
   "id": "1dbfc998",
   "metadata": {},
   "outputs": [],
   "source": [
    "for _ in range(n_steps):\n",
    "    # solver_config = PCGConfig(device=device, max_iters=pcg_iters,\n",
    "                            #   precond_config=precond_config, atol=1e-12, rtol=1e-12)\n",
    "    solver_config = SAPConfig(device=device, max_iters=pcg_iters * num_blocks, atol=1e-12, rtol=1e-12, \n",
    "                              precond_config=precond_config, blk_sz=len(opt.bo_state) // num_blocks,\n",
    "                              accel=True, accel_config=SAPAccelConfig(mu=noise_variance, nu=num_blocks*1.0))\n",
    "    opt.step(ts_config, solver_config)"
   ]
  },
  {
   "cell_type": "code",
   "execution_count": 12,
   "id": "ec602af6",
   "metadata": {},
   "outputs": [
    {
     "data": {
      "text/plain": [
       "BayesOptState(X=tensor([[0.1324, 0.9975, 0.9055,  ..., 0.0950, 0.1201, 0.0398],\n",
       "        [0.0035, 0.6365, 0.7550,  ..., 0.3010, 0.7070, 0.9050],\n",
       "        [0.3070, 0.6371, 0.7869,  ..., 0.7716, 0.4719, 0.6068],\n",
       "        ...,\n",
       "        [0.5506, 0.4720, 0.6627,  ..., 0.6290, 0.3234, 0.2112],\n",
       "        [0.4585, 0.5690, 0.5668,  ..., 0.3973, 0.4051, 0.3152],\n",
       "        [0.8503, 0.9059, 0.9608,  ..., 0.9240, 1.0000, 0.4712]],\n",
       "       device='cuda:1'), y=tensor([ 2.7331,  0.3682,  1.2351,  ...,  0.2122,  0.8166, -1.8864],\n",
       "       device='cuda:1'), rf_obj=<scalable_gp_inference.random_features.RandomFeatures object at 0x7f0ad06fcd90>, w_true=tensor([-0.2938,  0.7819, -1.4731,  ..., -0.6513,  1.7750, -0.8584],\n",
       "       device='cuda:1'), fn_max=4.108039379119873, fn_argmax=51357)"
      ]
     },
     "execution_count": 12,
     "metadata": {},
     "output_type": "execute_result"
    }
   ],
   "source": [
    "opt.bo_state"
   ]
  },
  {
   "cell_type": "code",
   "execution_count": 13,
   "id": "a08fb30f",
   "metadata": {},
   "outputs": [
    {
     "data": {
      "text/plain": [
       "52000"
      ]
     },
     "execution_count": 13,
     "metadata": {},
     "output_type": "execute_result"
    }
   ],
   "source": [
    "len(opt.bo_state)"
   ]
  },
  {
   "cell_type": "code",
   "execution_count": 14,
   "id": "71fb882e",
   "metadata": {},
   "outputs": [
    {
     "data": {
      "text/plain": [
       "(array([ 1.,  0.,  1.,  0.,  0.,  2.,  0.,  0.,  1.,  0.,  2.,  2.,  1.,\n",
       "         3.,  2.,  1.,  4.,  1.,  3.,  9.,  5.,  8.,  7., 10., 10., 13.,\n",
       "        10., 11., 10., 10., 18., 32., 20., 28., 31., 27., 48., 46., 41.,\n",
       "        38., 46., 54., 44., 53., 51., 65., 52., 55., 46., 63., 51., 42.,\n",
       "        55., 51., 42., 42., 46., 49., 39., 33., 43., 31., 42., 47., 38.,\n",
       "        28., 32., 33., 27., 15., 26., 22., 18., 16., 22., 20., 18., 14.,\n",
       "        13., 12.,  9.,  9.,  7.,  5.,  3.,  2.,  3.,  2.,  0.,  1.,  3.,\n",
       "         1.,  0.,  1.,  0.,  0.,  1.,  0.,  0.,  1.]),\n",
       " array([-2.80057931, -2.73149323, -2.66240692, -2.59332085, -2.52423453,\n",
       "        -2.45514846, -2.38606215, -2.31697607, -2.24788976, -2.17880368,\n",
       "        -2.10971737, -2.04063129, -1.9715451 , -1.90245891, -1.83337271,\n",
       "        -1.76428652, -1.69520032, -1.62611413, -1.55702794, -1.48794174,\n",
       "        -1.41885555, -1.34976935, -1.28068316, -1.21159697, -1.14251089,\n",
       "        -1.0734247 , -1.0043385 , -0.93525231, -0.86616611, -0.7970798 ,\n",
       "        -0.72799373, -0.65890741, -0.58982134, -0.52073526, -0.45164895,\n",
       "        -0.38256288, -0.31347656, -0.24439049, -0.17530417, -0.1062181 ,\n",
       "        -0.03713179,  0.03195429,  0.1010406 ,  0.17012668,  0.23921299,\n",
       "         0.30829906,  0.37738538,  0.44647145,  0.51555753,  0.58464384,\n",
       "         0.65372992,  0.72281623,  0.7919023 ,  0.86098862,  0.93007469,\n",
       "         0.99916101,  1.06824708,  1.13733339,  1.20641971,  1.27550578,\n",
       "         1.34459186,  1.41367793,  1.48276448,  1.55185056,  1.62093663,\n",
       "         1.69002271,  1.75910878,  1.82819533,  1.89728141,  1.96636748,\n",
       "         2.03545356,  2.10454011,  2.17362618,  2.24271226,  2.31179833,\n",
       "         2.38088489,  2.44997096,  2.51905704,  2.58814311,  2.65722966,\n",
       "         2.72631574,  2.79540181,  2.86448789,  2.93357396,  3.00266051,\n",
       "         3.07174659,  3.14083266,  3.20991874,  3.27900529,  3.34809136,\n",
       "         3.41717744,  3.48626351,  3.55535007,  3.62443614,  3.69352221,\n",
       "         3.76260829,  3.83169436,  3.90078092,  3.96986699,  4.03895283,\n",
       "         4.10803938]),\n",
       " <BarContainer object of 100 artists>)"
      ]
     },
     "execution_count": 14,
     "metadata": {},
     "output_type": "execute_result"
    },
    {
     "data": {
      "image/png": "[encoded data removed]",
      "text/plain": [
       "<Figure size 640x480 with 1 Axes>"
      ]
     },
     "metadata": {},
     "output_type": "display_data"
    }
   ],
   "source": [
    "import matplotlib.pyplot as plt\n",
    "\n",
    "plt.hist(opt.bo_state.y[50000:].cpu().numpy(), bins=100)"
   ]
  },
  {
   "cell_type": "code",
   "execution_count": 15,
   "id": "a7b16a4e",
   "metadata": {},
   "outputs": [
    {
     "data": {
      "text/plain": [
       "(array([2.000e+00, 0.000e+00, 0.000e+00, 0.000e+00, 1.000e+00, 2.000e+00,\n",
       "        4.000e+00, 3.000e+00, 7.000e+00, 7.000e+00, 8.000e+00, 5.000e+00,\n",
       "        1.400e+01, 2.200e+01, 3.100e+01, 4.000e+01, 3.800e+01, 5.100e+01,\n",
       "        7.200e+01, 8.400e+01, 1.170e+02, 1.240e+02, 1.460e+02, 1.830e+02,\n",
       "        2.480e+02, 2.760e+02, 3.430e+02, 3.700e+02, 4.600e+02, 5.050e+02,\n",
       "        5.660e+02, 6.820e+02, 7.010e+02, 8.500e+02, 8.960e+02, 9.360e+02,\n",
       "        1.020e+03, 1.192e+03, 1.180e+03, 1.304e+03, 1.347e+03, 1.441e+03,\n",
       "        1.425e+03, 1.533e+03, 1.511e+03, 1.596e+03, 1.583e+03, 1.615e+03,\n",
       "        1.588e+03, 1.556e+03, 1.587e+03, 1.539e+03, 1.505e+03, 1.452e+03,\n",
       "        1.409e+03, 1.285e+03, 1.203e+03, 1.209e+03, 1.090e+03, 1.031e+03,\n",
       "        9.440e+02, 8.700e+02, 8.070e+02, 7.260e+02, 6.870e+02, 5.960e+02,\n",
       "        5.410e+02, 5.070e+02, 4.480e+02, 3.910e+02, 3.440e+02, 2.870e+02,\n",
       "        2.640e+02, 2.140e+02, 2.240e+02, 1.930e+02, 1.490e+02, 1.290e+02,\n",
       "        1.150e+02, 1.020e+02, 1.040e+02, 6.600e+01, 6.100e+01, 3.500e+01,\n",
       "        3.900e+01, 3.700e+01, 2.900e+01, 2.500e+01, 1.800e+01, 1.300e+01,\n",
       "        1.500e+01, 7.000e+00, 5.000e+00, 3.000e+00, 1.000e+00, 3.000e+00,\n",
       "        2.000e+00, 2.000e+00, 1.000e+00, 1.000e+00]),\n",
       " array([-3.5825994 , -3.50758982, -3.43258047, -3.35757089, -3.2825613 ,\n",
       "        -3.20755172, -3.13254213, -3.05753279, -2.9825232 , -2.90751362,\n",
       "        -2.83250427, -2.75749469, -2.6824851 , -2.60747552, -2.53246593,\n",
       "        -2.45745659, -2.382447  , -2.30743742, -2.23242807, -2.15741849,\n",
       "        -2.08240891, -2.00739932, -1.93238986, -1.85738039, -1.78237081,\n",
       "        -1.70736122, -1.63235176, -1.55734229, -1.48233271, -1.40732312,\n",
       "        -1.33231378, -1.25730419, -1.18229461, -1.10728502, -1.03227544,\n",
       "        -0.95726609, -0.88225651, -0.80724692, -0.73223758, -0.65722799,\n",
       "        -0.58221841, -0.50720882, -0.43219924, -0.35718989, -0.28218031,\n",
       "        -0.20717072, -0.13216138, -0.05715179,  0.01785779,  0.09286737,\n",
       "         0.16787696,  0.2428863 ,  0.31789589,  0.39290547,  0.46791482,\n",
       "         0.54292464,  0.61793399,  0.69294333,  0.76795316,  0.8429625 ,\n",
       "         0.91797185,  0.99298167,  1.06799102,  1.14300084,  1.21801019,\n",
       "         1.29301953,  1.36802936,  1.4430387 ,  1.51804852,  1.59305787,\n",
       "         1.66806722,  1.74307704,  1.81808639,  1.89309573,  1.96810555,\n",
       "         2.0431149 ,  2.11812425,  2.19313407,  2.26814342,  2.34315324,\n",
       "         2.41816258,  2.49317193,  2.56818175,  2.6431911 ,  2.71820092,\n",
       "         2.79321027,  2.86821961,  2.94322944,  3.01823878,  3.09324813,\n",
       "         3.16825795,  3.2432673 ,  3.31827664,  3.39328647,  3.46829581,\n",
       "         3.54330564,  3.61831498,  3.69332433,  3.76833415,  3.8433435 ,\n",
       "         3.91835284]),\n",
       " <BarContainer object of 100 artists>)"
      ]
     },
     "execution_count": 15,
     "metadata": {},
     "output_type": "execute_result"
    },
    {
     "data": {
      "image/png": "[encoded data removed]",
      "text/plain": [
       "<Figure size 640x480 with 1 Axes>"
      ]
     },
     "metadata": {},
     "output_type": "display_data"
    }
   ],
   "source": [
    "plt.hist(opt.bo_state.y[:50000].cpu().numpy(), bins=100)"
   ]
  },
  {
   "cell_type": "code",
   "execution_count": 16,
   "id": "a7bbf66e",
   "metadata": {},
   "outputs": [
    {
     "name": "stdout",
     "output_type": "stream",
     "text": [
      "tensor(3.9184, device='cuda:1')\n"
     ]
    }
   ],
   "source": [
    "print(opt.bo_state.y[:50000].max())"
   ]
  },
  {
   "cell_type": "code",
   "execution_count": 17,
   "id": "07dcbd62",
   "metadata": {},
   "outputs": [
    {
     "name": "stdout",
     "output_type": "stream",
     "text": [
      "tensor(4.1080, device='cuda:1')\n"
     ]
    }
   ],
   "source": [
    "print(opt.bo_state.y[50000:].max())"
   ]
  }
 ],
 "metadata": {
  "kernelspec": {
   "display_name": "gp_inference_temp_env",
   "language": "python",
   "name": "python3"
  },
  "language_info": {
   "codemirror_mode": {
    "name": "ipython",
    "version": 3
   },
   "file_extension": ".py",
   "mimetype": "text/x-python",
   "name": "python",
   "nbconvert_exporter": "python",
   "pygments_lexer": "ipython3",
   "version": "3.10.12"
  }
 },
 "nbformat": 4,
 "nbformat_minor": 5
}
