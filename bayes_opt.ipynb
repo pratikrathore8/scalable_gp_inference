{
 "cells": [
  {
   "cell_type": "code",
   "execution_count": 1,
   "id": "c1943006",
   "metadata": {},
   "outputs": [],
   "source": [
    "# %load_ext autoreload\n",
    "# %autoreload 2"
   ]
  },
  {
   "cell_type": "code",
   "execution_count": 2,
   "id": "55eaf952",
   "metadata": {},
   "outputs": [],
   "source": [
    "import torch\n",
    "from rlaopt.solvers import PCGConfig, SAPConfig, SAPAccelConfig\n",
    "from rlaopt.preconditioners import NystromConfig\n",
    "from rlaopt.kernels import KernelConfig\n",
    "from scalable_gp_inference.bayes_opt.configs import BayesOptConfig, TSConfig\n",
    "from scalable_gp_inference.bayes_opt.core import BayesOpt\n"
   ]
  },
  {
   "cell_type": "code",
   "execution_count": 3,
   "id": "e7d9042a",
   "metadata": {},
   "outputs": [],
   "source": [
    "device = torch.device(\"cuda:1\")\n",
    "dtype = torch.float32\n",
    "seed = 4\n",
    "\n",
    "noise_variance = 1e-6\n",
    "lengthscale = 0.5\n",
    "pcg_iters = 10\n",
    "num_blocks = 5\n",
    "kernel_type = \"matern32\"\n",
    "n_steps = 2"
   ]
  },
  {
   "cell_type": "code",
   "execution_count": 4,
   "id": "54623e90",
   "metadata": {},
   "outputs": [
    {
     "data": {
      "text/plain": [
       "<torch._C.Generator at 0x7f8fe7fb7990>"
      ]
     },
     "execution_count": 4,
     "metadata": {},
     "output_type": "execute_result"
    }
   ],
   "source": [
    "torch.set_default_dtype(dtype)\n",
    "torch.manual_seed(seed)"
   ]
  },
  {
   "cell_type": "code",
   "execution_count": 5,
   "id": "20cc3fa9",
   "metadata": {},
   "outputs": [],
   "source": [
    "kernel_config = KernelConfig(const_scaling=1.0, lengthscale=lengthscale)"
   ]
  },
  {
   "cell_type": "code",
   "execution_count": 6,
   "id": "1d64387f",
   "metadata": {},
   "outputs": [],
   "source": [
    "precond_config = NystromConfig(rank=100, rho=noise_variance)"
   ]
  },
  {
   "cell_type": "code",
   "execution_count": 7,
   "id": "dcbda6d0",
   "metadata": {},
   "outputs": [],
   "source": [
    "bayes_config = BayesOptConfig(kernel_config=kernel_config, kernel_type=kernel_type, noise_variance=noise_variance)"
   ]
  },
  {
   "cell_type": "code",
   "execution_count": 8,
   "id": "582211c4",
   "metadata": {},
   "outputs": [],
   "source": [
    "ts_config = TSConfig()"
   ]
  },
  {
   "cell_type": "code",
   "execution_count": 9,
   "id": "fecbc063",
   "metadata": {},
   "outputs": [],
   "source": [
    "opt = BayesOpt(bayes_config, device=device, dtype=dtype)"
   ]
  },
  {
   "cell_type": "code",
   "execution_count": 10,
   "id": "97704bcc",
   "metadata": {},
   "outputs": [
    {
     "data": {
      "text/plain": [
       "BayesOptState(X=tensor([[0.1324, 0.9975, 0.9055,  ..., 0.0950, 0.1201, 0.0398],\n",
       "        [0.0035, 0.6365, 0.7550,  ..., 0.3010, 0.7070, 0.9050],\n",
       "        [0.3070, 0.6371, 0.7869,  ..., 0.7716, 0.4719, 0.6068],\n",
       "        ...,\n",
       "        [0.5992, 0.3048, 0.3650,  ..., 0.2779, 0.1351, 0.2537],\n",
       "        [0.5670, 0.4210, 0.4183,  ..., 0.2964, 0.3108, 0.8408],\n",
       "        [0.3181, 0.9759, 0.9053,  ..., 0.2570, 0.2531, 0.5466]],\n",
       "       device='cuda:1'), y=tensor([ 2.7331,  0.3682,  1.2351,  ..., -0.4443,  0.6552,  0.6054],\n",
       "       device='cuda:1'), rf_obj=<scalable_gp_inference.random_features.RandomFeatures object at 0x7f8ef02e0d60>, w_true=tensor([-0.2938,  0.7819, -1.4731,  ..., -0.6513,  1.7750, -0.8584],\n",
       "       device='cuda:1'), fn_max=3.9183528423309326, fn_argmax=27273)"
      ]
     },
     "execution_count": 10,
     "metadata": {},
     "output_type": "execute_result"
    }
   ],
   "source": [
    "opt.bo_state"
   ]
  },
  {
   "cell_type": "code",
   "execution_count": 11,
   "id": "1dbfc998",
   "metadata": {},
   "outputs": [],
   "source": [
    "for _ in range(n_steps):\n",
    "    solver_config = PCGConfig(device=device, max_iters=pcg_iters,\n",
    "                              precond_config=precond_config, atol=1e-12, rtol=1e-12)\n",
    "    # solver_config = SAPConfig(device=device, max_iters=pcg_iters * num_blocks, atol=1e-12, rtol=1e-12, \n",
    "    #                           precond_config=precond_config, blk_sz=len(opt.bo_state) // num_blocks,\n",
    "    #                           accel=True, accel_config=SAPAccelConfig(mu=noise_variance, nu=num_blocks*1.0))\n",
    "    opt.step(ts_config, solver_config)"
   ]
  },
  {
   "cell_type": "code",
   "execution_count": 12,
   "id": "ec602af6",
   "metadata": {},
   "outputs": [
    {
     "data": {
      "text/plain": [
       "BayesOptState(X=tensor([[0.1324, 0.9975, 0.9055,  ..., 0.0950, 0.1201, 0.0398],\n",
       "        [0.0035, 0.6365, 0.7550,  ..., 0.3010, 0.7070, 0.9050],\n",
       "        [0.3070, 0.6371, 0.7869,  ..., 0.7716, 0.4719, 0.6068],\n",
       "        ...,\n",
       "        [0.9995, 0.0075, 0.5988,  ..., 0.9943, 0.9967, 0.9022],\n",
       "        [0.4729, 0.0354, 0.7793,  ..., 0.1981, 1.0000, 0.3750],\n",
       "        [0.0943, 0.9602, 0.0639,  ..., 0.3269, 0.9766, 0.7273]],\n",
       "       device='cuda:1'), y=tensor([2.7331, 0.3682, 1.2351,  ..., 2.7706, 1.1118, 1.2367], device='cuda:1'), rf_obj=<scalable_gp_inference.random_features.RandomFeatures object at 0x7f8ef02e0d60>, w_true=tensor([-0.2938,  0.7819, -1.4731,  ..., -0.6513,  1.7750, -0.8584],\n",
       "       device='cuda:1'), fn_max=3.9183528423309326, fn_argmax=27273)"
      ]
     },
     "execution_count": 12,
     "metadata": {},
     "output_type": "execute_result"
    }
   ],
   "source": [
    "opt.bo_state"
   ]
  },
  {
   "cell_type": "code",
   "execution_count": 13,
   "id": "a08fb30f",
   "metadata": {},
   "outputs": [
    {
     "data": {
      "text/plain": [
       "52000"
      ]
     },
     "execution_count": 13,
     "metadata": {},
     "output_type": "execute_result"
    }
   ],
   "source": [
    "len(opt.bo_state)"
   ]
  },
  {
   "cell_type": "code",
   "execution_count": 14,
   "id": "71fb882e",
   "metadata": {},
   "outputs": [
    {
     "data": {
      "text/plain": [
       "(array([ 1.,  1.,  0.,  0.,  0.,  0.,  0.,  0.,  3.,  1.,  2.,  0.,  0.,\n",
       "         0.,  4.,  3.,  1.,  5.,  7., 12.,  5.,  8., 10., 12., 11., 10.,\n",
       "        15., 12., 20., 23., 28., 23., 23., 29., 29., 27., 29., 44., 29.,\n",
       "        39., 52., 35., 48., 55., 62., 38., 53., 69., 41., 50., 57., 46.,\n",
       "        56., 47., 55., 55., 52., 52., 41., 46., 42., 39., 55., 26., 37.,\n",
       "        26., 25., 22., 22., 17., 19., 26., 17.,  9., 10., 12., 14., 22.,\n",
       "        14.,  9.,  4.,  5., 14.,  7.,  3.,  2.,  5.,  3.,  5.,  1.,  3.,\n",
       "         1.,  2.,  2.,  0.,  1.,  1.,  0.,  1.,  1.]),\n",
       " array([-2.96988225e+00, -2.90243864e+00, -2.83499479e+00, -2.76755118e+00,\n",
       "        -2.70010734e+00, -2.63266373e+00, -2.56521988e+00, -2.49777627e+00,\n",
       "        -2.43033266e+00, -2.36288881e+00, -2.29544497e+00, -2.22800136e+00,\n",
       "        -2.16055775e+00, -2.09311390e+00, -2.02567029e+00, -1.95822656e+00,\n",
       "        -1.89078283e+00, -1.82333910e+00, -1.75589538e+00, -1.68845165e+00,\n",
       "        -1.62100792e+00, -1.55356431e+00, -1.48612058e+00, -1.41867685e+00,\n",
       "        -1.35123312e+00, -1.28378940e+00, -1.21634567e+00, -1.14890194e+00,\n",
       "        -1.08145833e+00, -1.01401460e+00, -9.46570873e-01, -8.79127026e-01,\n",
       "        -8.11683416e-01, -7.44239807e-01, -6.76795959e-01, -6.09352350e-01,\n",
       "        -5.41908503e-01, -4.74464893e-01, -4.07021046e-01, -3.39577436e-01,\n",
       "        -2.72133589e-01, -2.04689980e-01, -1.37246370e-01, -6.98025227e-02,\n",
       "        -2.35891342e-03,  6.50849342e-02,  1.32528543e-01,  1.99972391e-01,\n",
       "         2.67416000e-01,  3.34859610e-01,  4.02303457e-01,  4.69747066e-01,\n",
       "         5.37190914e-01,  6.04634523e-01,  6.72078371e-01,  7.39521980e-01,\n",
       "         8.06965590e-01,  8.74409437e-01,  9.41853046e-01,  1.00929689e+00,\n",
       "         1.07674050e+00,  1.14418435e+00,  1.21162820e+00,  1.27907157e+00,\n",
       "         1.34651542e+00,  1.41395926e+00,  1.48140264e+00,  1.54884648e+00,\n",
       "         1.61629033e+00,  1.68373418e+00,  1.75117755e+00,  1.81862140e+00,\n",
       "         1.88606524e+00,  1.95350862e+00,  2.02095246e+00,  2.08839631e+00,\n",
       "         2.15584016e+00,  2.22328353e+00,  2.29072738e+00,  2.35817122e+00,\n",
       "         2.42561507e+00,  2.49305844e+00,  2.56050229e+00,  2.62794614e+00,\n",
       "         2.69538951e+00,  2.76283336e+00,  2.83027720e+00,  2.89772105e+00,\n",
       "         2.96516442e+00,  3.03260827e+00,  3.10005212e+00,  3.16749549e+00,\n",
       "         3.23493934e+00,  3.30238318e+00,  3.36982703e+00,  3.43727040e+00,\n",
       "         3.50471425e+00,  3.57215810e+00,  3.63960147e+00,  3.70704532e+00,\n",
       "         3.77448916e+00]),\n",
       " <BarContainer object of 100 artists>)"
      ]
     },
     "execution_count": 14,
     "metadata": {},
     "output_type": "execute_result"
    },
    {
     "data": {
      "image/png": "[encoded data removed]",
      "text/plain": [
       "<Figure size 640x480 with 1 Axes>"
      ]
     },
     "metadata": {},
     "output_type": "display_data"
    }
   ],
   "source": [
    "import matplotlib.pyplot as plt\n",
    "\n",
    "plt.hist(opt.bo_state.y[50000:].cpu().numpy(), bins=100)"
   ]
  },
  {
   "cell_type": "code",
   "execution_count": 15,
   "id": "a7b16a4e",
   "metadata": {},
   "outputs": [
    {
     "data": {
      "text/plain": [
       "(array([2.000e+00, 0.000e+00, 0.000e+00, 0.000e+00, 1.000e+00, 2.000e+00,\n",
       "        4.000e+00, 3.000e+00, 7.000e+00, 7.000e+00, 8.000e+00, 5.000e+00,\n",
       "        1.400e+01, 2.200e+01, 3.100e+01, 4.000e+01, 3.800e+01, 5.100e+01,\n",
       "        7.200e+01, 8.400e+01, 1.170e+02, 1.240e+02, 1.460e+02, 1.830e+02,\n",
       "        2.480e+02, 2.760e+02, 3.430e+02, 3.700e+02, 4.600e+02, 5.050e+02,\n",
       "        5.660e+02, 6.820e+02, 7.010e+02, 8.500e+02, 8.960e+02, 9.360e+02,\n",
       "        1.020e+03, 1.192e+03, 1.180e+03, 1.304e+03, 1.347e+03, 1.441e+03,\n",
       "        1.425e+03, 1.533e+03, 1.511e+03, 1.596e+03, 1.583e+03, 1.615e+03,\n",
       "        1.588e+03, 1.556e+03, 1.587e+03, 1.539e+03, 1.505e+03, 1.452e+03,\n",
       "        1.409e+03, 1.285e+03, 1.203e+03, 1.209e+03, 1.090e+03, 1.031e+03,\n",
       "        9.440e+02, 8.700e+02, 8.070e+02, 7.260e+02, 6.870e+02, 5.960e+02,\n",
       "        5.410e+02, 5.070e+02, 4.480e+02, 3.910e+02, 3.440e+02, 2.870e+02,\n",
       "        2.640e+02, 2.140e+02, 2.240e+02, 1.930e+02, 1.490e+02, 1.290e+02,\n",
       "        1.150e+02, 1.020e+02, 1.040e+02, 6.600e+01, 6.100e+01, 3.500e+01,\n",
       "        3.900e+01, 3.700e+01, 2.900e+01, 2.500e+01, 1.800e+01, 1.300e+01,\n",
       "        1.500e+01, 7.000e+00, 5.000e+00, 3.000e+00, 1.000e+00, 3.000e+00,\n",
       "        2.000e+00, 2.000e+00, 1.000e+00, 1.000e+00]),\n",
       " array([-3.5825994 , -3.50758982, -3.43258047, -3.35757089, -3.2825613 ,\n",
       "        -3.20755172, -3.13254213, -3.05753279, -2.9825232 , -2.90751362,\n",
       "        -2.83250427, -2.75749469, -2.6824851 , -2.60747552, -2.53246593,\n",
       "        -2.45745659, -2.382447  , -2.30743742, -2.23242807, -2.15741849,\n",
       "        -2.08240891, -2.00739932, -1.93238986, -1.85738039, -1.78237081,\n",
       "        -1.70736122, -1.63235176, -1.55734229, -1.48233271, -1.40732312,\n",
       "        -1.33231378, -1.25730419, -1.18229461, -1.10728502, -1.03227544,\n",
       "        -0.95726609, -0.88225651, -0.80724692, -0.73223758, -0.65722799,\n",
       "        -0.58221841, -0.50720882, -0.43219924, -0.35718989, -0.28218031,\n",
       "        -0.20717072, -0.13216138, -0.05715179,  0.01785779,  0.09286737,\n",
       "         0.16787696,  0.2428863 ,  0.31789589,  0.39290547,  0.46791482,\n",
       "         0.54292464,  0.61793399,  0.69294333,  0.76795316,  0.8429625 ,\n",
       "         0.91797185,  0.99298167,  1.06799102,  1.14300084,  1.21801019,\n",
       "         1.29301953,  1.36802936,  1.4430387 ,  1.51804852,  1.59305787,\n",
       "         1.66806722,  1.74307704,  1.81808639,  1.89309573,  1.96810555,\n",
       "         2.0431149 ,  2.11812425,  2.19313407,  2.26814342,  2.34315324,\n",
       "         2.41816258,  2.49317193,  2.56818175,  2.6431911 ,  2.71820092,\n",
       "         2.79321027,  2.86821961,  2.94322944,  3.01823878,  3.09324813,\n",
       "         3.16825795,  3.2432673 ,  3.31827664,  3.39328647,  3.46829581,\n",
       "         3.54330564,  3.61831498,  3.69332433,  3.76833415,  3.8433435 ,\n",
       "         3.91835284]),\n",
       " <BarContainer object of 100 artists>)"
      ]
     },
     "execution_count": 15,
     "metadata": {},
     "output_type": "execute_result"
    },
    {
     "data": {
      "image/png": "[encoded data removed]",
      "text/plain": [
       "<Figure size 640x480 with 1 Axes>"
      ]
     },
     "metadata": {},
     "output_type": "display_data"
    }
   ],
   "source": [
    "plt.hist(opt.bo_state.y[:50000].cpu().numpy(), bins=100)"
   ]
  },
  {
   "cell_type": "code",
   "execution_count": 16,
   "id": "a7bbf66e",
   "metadata": {},
   "outputs": [
    {
     "name": "stdout",
     "output_type": "stream",
     "text": [
      "tensor(3.9184, device='cuda:1')\n"
     ]
    }
   ],
   "source": [
    "print(opt.bo_state.y[:50000].max())"
   ]
  },
  {
   "cell_type": "code",
   "execution_count": 17,
   "id": "07dcbd62",
   "metadata": {},
   "outputs": [
    {
     "name": "stdout",
     "output_type": "stream",
     "text": [
      "tensor(3.7745, device='cuda:1')\n"
     ]
    }
   ],
   "source": [
    "print(opt.bo_state.y[50000:].max())"
   ]
  }
 ],
 "metadata": {
  "kernelspec": {
   "display_name": "gp_inference_temp_env",
   "language": "python",
   "name": "python3"
  },
  "language_info": {
   "codemirror_mode": {
    "name": "ipython",
    "version": 3
   },
   "file_extension": ".py",
   "mimetype": "text/x-python",
   "name": "python",
   "nbconvert_exporter": "python",
   "pygments_lexer": "ipython3",
   "version": "3.10.12"
  }
 },
 "nbformat": 4,
 "nbformat_minor": 5
}
