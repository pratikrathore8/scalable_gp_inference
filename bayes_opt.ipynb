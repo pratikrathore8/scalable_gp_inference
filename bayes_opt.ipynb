{
 "cells": [
  {
   "cell_type": "code",
   "execution_count": 1,
   "id": "c1943006",
   "metadata": {},
   "outputs": [],
   "source": [
    "%load_ext autoreload\n",
    "%autoreload 2"
   ]
  },
  {
   "cell_type": "code",
   "execution_count": 2,
   "id": "55eaf952",
   "metadata": {},
   "outputs": [],
   "source": [
    "import torch\n",
    "from rlaopt.solvers import PCGConfig\n",
    "from rlaopt.preconditioners import NystromConfig\n",
    "from rlaopt.kernels import KernelConfig\n",
    "from scalable_gp_inference.bayes_opt.configs import BayesOptConfig, TSConfig\n",
    "from scalable_gp_inference.bayes_opt.core import BayesOpt"
   ]
  },
  {
   "cell_type": "code",
   "execution_count": 3,
   "id": "e7d9042a",
   "metadata": {},
   "outputs": [],
   "source": [
    "device = torch.device(\"cuda:1\")\n",
    "dtype = torch.float32\n",
    "seed = 1\n",
    "\n",
    "noise_variance = 1e-6\n",
    "lengthscale = 0.5\n",
    "pcg_iters = 10\n",
    "kernel_type = \"matern32\"\n",
    "n_steps = 2"
   ]
  },
  {
   "cell_type": "code",
   "execution_count": 4,
   "id": "54623e90",
   "metadata": {},
   "outputs": [
    {
     "data": {
      "text/plain": [
       "<torch._C.Generator at 0x7f173b2ee530>"
      ]
     },
     "execution_count": 4,
     "metadata": {},
     "output_type": "execute_result"
    }
   ],
   "source": [
    "torch.set_default_dtype(dtype)\n",
    "torch.manual_seed(seed)"
   ]
  },
  {
   "cell_type": "code",
   "execution_count": 5,
   "id": "20cc3fa9",
   "metadata": {},
   "outputs": [],
   "source": [
    "kernel_config = KernelConfig(const_scaling=1.0, lengthscale=0.5)"
   ]
  },
  {
   "cell_type": "code",
   "execution_count": 6,
   "id": "1d64387f",
   "metadata": {},
   "outputs": [],
   "source": [
    "precond_config = NystromConfig(rank=100, rho=1e-6)"
   ]
  },
  {
   "cell_type": "code",
   "execution_count": 7,
   "id": "c7a505aa",
   "metadata": {},
   "outputs": [],
   "source": [
    "solver_config = PCGConfig(device=device, max_iters=pcg_iters, precond_config=precond_config, atol=1e-12, rtol=1e-12)"
   ]
  },
  {
   "cell_type": "code",
   "execution_count": 8,
   "id": "dcbda6d0",
   "metadata": {},
   "outputs": [],
   "source": [
    "bayes_config = BayesOptConfig(kernel_config=kernel_config, kernel_type=kernel_type, noise_variance=noise_variance)"
   ]
  },
  {
   "cell_type": "code",
   "execution_count": 9,
   "id": "582211c4",
   "metadata": {},
   "outputs": [],
   "source": [
    "ts_config = TSConfig()"
   ]
  },
  {
   "cell_type": "code",
   "execution_count": 10,
   "id": "fecbc063",
   "metadata": {},
   "outputs": [],
   "source": [
    "opt = BayesOpt(bayes_config, device=device, dtype=dtype)"
   ]
  },
  {
   "cell_type": "code",
   "execution_count": null,
   "id": "1dbfc998",
   "metadata": {},
   "outputs": [
    {
     "name": "stdout",
     "output_type": "stream",
     "text": [
      "forming linear system\n",
      "solving linear system\n",
      "solved linear system\n",
      "getting acquisition points\n",
      "got acquisition functions\n"
     ]
    }
   ],
   "source": [
    "for _ in range(n_steps):\n",
    "    opt.step(ts_config, solver_config)"
   ]
  },
  {
   "cell_type": "code",
   "execution_count": null,
   "id": "ec602af6",
   "metadata": {},
   "outputs": [
    {
     "data": {
      "text/plain": [
       "BayesOptState(X=tensor([[0.8903, 0.0275, 0.9031,  ..., 0.9047, 0.3370, 0.0347],\n",
       "        [0.6334, 0.0201, 0.9307,  ..., 0.5992, 0.6501, 0.3025],\n",
       "        [0.7642, 0.5446, 0.1114,  ..., 0.7429, 0.4303, 0.0995],\n",
       "        ...,\n",
       "        [0.9827, 0.0000, 0.1321,  ..., 1.0000, 0.9088, 0.4597],\n",
       "        [0.0589, 1.0000, 0.2143,  ..., 0.2280, 0.9990, 0.0673],\n",
       "        [0.0260, 0.2768, 0.6275,  ..., 0.0000, 0.8207, 0.2150]],\n",
       "       device='cuda:1'), y=tensor([ 0.7093, -0.4982,  0.7995,  ...,  0.4701,  1.2483,  0.4890],\n",
       "       device='cuda:1'), rf_obj=<scalable_gp_inference.random_features.RandomFeatures object at 0x7f5723e2b370>, w_true=tensor([-0.6340, -0.6431, -0.6420,  ...,  0.1254,  1.2263, -0.9960],\n",
       "       device='cuda:1'), fn_max=3.9219515323638916, fn_argmax=51949)"
      ]
     },
     "execution_count": 12,
     "metadata": {},
     "output_type": "execute_result"
    }
   ],
   "source": [
    "opt.bo_state"
   ]
  },
  {
   "cell_type": "code",
   "execution_count": null,
   "id": "a08fb30f",
   "metadata": {},
   "outputs": [
    {
     "data": {
      "text/plain": [
       "52000"
      ]
     },
     "execution_count": 13,
     "metadata": {},
     "output_type": "execute_result"
    }
   ],
   "source": [
    "len(opt.bo_state)"
   ]
  },
  {
   "cell_type": "code",
   "execution_count": null,
   "id": "71fb882e",
   "metadata": {},
   "outputs": [
    {
     "data": {
      "text/plain": [
       "(array([ 37., 107., 323., 437., 472., 346., 192.,  67.,  15.,   4.]),\n",
       " array([-2.0102632 , -1.41704178, -0.82382023, -0.23059869,  0.36262274,\n",
       "         0.95584416,  1.54906583,  2.14228702,  2.73550868,  3.32873034,\n",
       "         3.92195153]),\n",
       " <BarContainer object of 10 artists>)"
      ]
     },
     "execution_count": 14,
     "metadata": {},
     "output_type": "execute_result"
    },
    {
     "data": {
      "image/png": "[encoded data removed]",
      "text/plain": [
       "<Figure size 640x480 with 1 Axes>"
      ]
     },
     "metadata": {},
     "output_type": "display_data"
    }
   ],
   "source": [
    "import matplotlib.pyplot as plt\n",
    "\n",
    "plt.hist(opt.bo_state.y[50000:].cpu().numpy())"
   ]
  },
  {
   "cell_type": "code",
   "execution_count": null,
   "id": "a7bbf66e",
   "metadata": {},
   "outputs": [
    {
     "name": "stdout",
     "output_type": "stream",
     "text": [
      "tensor(3.8244, device='cuda:1')\n"
     ]
    }
   ],
   "source": [
    "print(opt.bo_state.y[:50000].max())"
   ]
  },
  {
   "cell_type": "code",
   "execution_count": null,
   "id": "07dcbd62",
   "metadata": {},
   "outputs": [
    {
     "name": "stdout",
     "output_type": "stream",
     "text": [
      "tensor(3.9220, device='cuda:1')\n"
     ]
    }
   ],
   "source": [
    "print(opt.bo_state.y[50000:].max())"
   ]
  }
 ],
 "metadata": {
  "kernelspec": {
   "display_name": "gp_inf",
   "language": "python",
   "name": "python3"
  },
  "language_info": {
   "codemirror_mode": {
    "name": "ipython",
    "version": 3
   },
   "file_extension": ".py",
   "mimetype": "text/x-python",
   "name": "python",
   "nbconvert_exporter": "python",
   "pygments_lexer": "ipython3",
   "version": "3.10.12"
  }
 },
 "nbformat": 4,
 "nbformat_minor": 5
}
