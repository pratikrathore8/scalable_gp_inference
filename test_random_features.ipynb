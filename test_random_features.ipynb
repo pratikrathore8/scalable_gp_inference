{
 "cells": [
  {
   "cell_type": "code",
   "execution_count": 1,
   "id": "2c268764",
   "metadata": {},
   "outputs": [],
   "source": [
    "from functools import partial\n",
    "from typing import Union\n",
    "\n",
    "from rlaopt.kernels import RBFLinOp, Matern12LinOp, Matern32LinOp, Matern52LinOp\n",
    "import torch\n",
    "from torch.distributions import Distribution, Normal, StudentT"
   ]
  },
  {
   "cell_type": "code",
   "execution_count": 2,
   "id": "98f06204",
   "metadata": {},
   "outputs": [],
   "source": [
    "# dist = Normal(torch.tensor([0.0], device=\"cpu\"), torch.tensor([1.0], device=\"cpu\"))\n",
    "# sample = dist.sample((1000,))\n",
    "# print(sample.shape)\n",
    "# print(type(sample))\n",
    "# print(type(sample.shape[0]))\n",
    "# print(sample.device)"
   ]
  },
  {
   "cell_type": "code",
   "execution_count": 3,
   "id": "49413b7e",
   "metadata": {},
   "outputs": [],
   "source": [
    "def _random_features(X: torch.Tensor, lengthscale: Union[float, torch.Tensor], num_features: int, Omega_dist: Distribution) -> torch.Tensor:\n",
    "    X_whitened = X / lengthscale\n",
    "\n",
    "    scale_factor = (2.0 / num_features) ** 0.5\n",
    "    # Omega = Omega_fn(X_whitened.shape[1], num_features, device=X.device, dtype=X.dtype)\n",
    "    # The sample method adds an extra dimension since the distribution parameters are tensors, so we need to squeeze it out\n",
    "    Omega = Omega_dist.sample((X_whitened.shape[1], num_features)).squeeze(-1)\n",
    "    B = 2 * torch.pi * torch.rand(num_features, device=X.device, dtype=X.dtype)\n",
    "    return scale_factor * torch.cos(X_whitened @ Omega + B)\n",
    "\n",
    "\n",
    "def rbf_random_features(X: torch.Tensor, lengthscale: Union[float, torch.Tensor], num_features: int) -> torch.Tensor:\n",
    "    loc = torch.tensor([0.0], device=X.device, dtype=X.dtype)\n",
    "    scale = torch.tensor([1.0], device=X.device, dtype=X.dtype)\n",
    "    return _random_features(X, lengthscale, num_features, Normal(loc=loc, scale=scale))\n",
    "\n",
    "\n",
    "def matern_random_features(X: torch.Tensor, lengthscale: Union[float, torch.Tensor], num_features: int, nu: float) -> torch.Tensor:\n",
    "    df = torch.tensor([2.0 * nu], device=X.device, dtype=X.dtype)\n",
    "    loc = torch.tensor([0.0], device=X.device, dtype=X.dtype)\n",
    "    scale = torch.tensor([1.0], device=X.device, dtype=X.dtype)\n",
    "    return _random_features(X, lengthscale, num_features, StudentT(df=df, loc=loc, scale=scale))"
   ]
  },
  {
   "cell_type": "code",
   "execution_count": 4,
   "id": "baf4ccbd",
   "metadata": {},
   "outputs": [
    {
     "data": {
      "text/plain": [
       "<torch._C.Generator at 0x7f08a41b3910>"
      ]
     },
     "execution_count": 4,
     "metadata": {},
     "output_type": "execute_result"
    }
   ],
   "source": [
    "torch.set_default_dtype(torch.float64)\n",
    "torch.manual_seed(0)"
   ]
  },
  {
   "cell_type": "code",
   "execution_count": 5,
   "id": "93b589b2",
   "metadata": {},
   "outputs": [],
   "source": [
    "device = torch.device(\"cuda:0\")\n",
    "\n",
    "n = 4\n",
    "d = 10\n",
    "lengthscale_scalar = 0.1\n",
    "lengthscale_tensor = torch.tensor([0.1, 0.2, 0.1, 0.2, 0.1, 0.2, 0.1, 0.2, 0.1, 0.2], device=device)\n",
    "num_features = 10 ** 4\n",
    "\n",
    "X = torch.randn(n, d, device=device) / (d ** 0.5)"
   ]
  },
  {
   "cell_type": "code",
   "execution_count": 6,
   "id": "64eedb3c",
   "metadata": {},
   "outputs": [],
   "source": [
    "def test_rf_fn(kernel_linop_class, rf_fn, X, lengthscale, num_features):\n",
    "    kernel_linop = kernel_linop_class(X, X, {\"lengthscale\": lengthscale})\n",
    "    K_true = kernel_linop @ torch.eye(kernel_linop.shape[1], device=kernel_linop.device)\n",
    "    K_rf = rf_fn(X, lengthscale, num_features)\n",
    "    K_approx = K_rf @ K_rf.T\n",
    "    return K_true - K_approx"
   ]
  },
  {
   "cell_type": "markdown",
   "id": "d5b1aacc",
   "metadata": {},
   "source": [
    "RBF"
   ]
  },
  {
   "cell_type": "code",
   "execution_count": 7,
   "id": "8d3f143d",
   "metadata": {},
   "outputs": [
    {
     "name": "stdout",
     "output_type": "stream",
     "text": [
      "tensor([[-0.0158,  0.0121, -0.0035, -0.0098],\n",
      "        [ 0.0121, -0.0066, -0.0117,  0.0070],\n",
      "        [-0.0035, -0.0117, -0.0100, -0.0114],\n",
      "        [-0.0098,  0.0070, -0.0114, -0.0047]], device='cuda:0')\n"
     ]
    }
   ],
   "source": [
    "diff = test_rf_fn(RBFLinOp, rbf_random_features, X, lengthscale_scalar, num_features)\n",
    "print(diff)"
   ]
  },
  {
   "cell_type": "code",
   "execution_count": 8,
   "id": "ebcb061a",
   "metadata": {},
   "outputs": [
    {
     "name": "stdout",
     "output_type": "stream",
     "text": [
      "tensor([[ 7.9411e-03, -4.5772e-03, -1.5838e-05, -1.0340e-02],\n",
      "        [-4.5772e-03,  5.4056e-03, -6.2336e-03, -8.8580e-03],\n",
      "        [-1.5838e-05, -6.2336e-03, -7.7012e-04, -1.0339e-02],\n",
      "        [-1.0340e-02, -8.8580e-03, -1.0339e-02, -4.6142e-03]], device='cuda:0')\n"
     ]
    }
   ],
   "source": [
    "diff = test_rf_fn(RBFLinOp, rbf_random_features, X, lengthscale_tensor, num_features)\n",
    "print(diff)"
   ]
  },
  {
   "cell_type": "markdown",
   "id": "59fbb5bf",
   "metadata": {},
   "source": [
    "Matern-1/2"
   ]
  },
  {
   "cell_type": "code",
   "execution_count": 9,
   "id": "b0679c33",
   "metadata": {},
   "outputs": [
    {
     "name": "stdout",
     "output_type": "stream",
     "text": [
      "tensor([[ 0.0031,  0.0043, -0.0163,  0.0186],\n",
      "        [ 0.0043, -0.0081, -0.0039, -0.0091],\n",
      "        [-0.0163, -0.0039,  0.0038,  0.0081],\n",
      "        [ 0.0186, -0.0091,  0.0081, -0.0021]], device='cuda:0')\n"
     ]
    }
   ],
   "source": [
    "diff = test_rf_fn(Matern12LinOp, partial(matern_random_features, nu=0.5), X, lengthscale_scalar, num_features)\n",
    "print(diff)"
   ]
  },
  {
   "cell_type": "code",
   "execution_count": 10,
   "id": "ba7e0ed2",
   "metadata": {},
   "outputs": [
    {
     "name": "stdout",
     "output_type": "stream",
     "text": [
      "tensor([[ 0.0105, -0.0141, -0.0017,  0.0171],\n",
      "        [-0.0141,  0.0008,  0.0049,  0.0120],\n",
      "        [-0.0017,  0.0049, -0.0037,  0.0197],\n",
      "        [ 0.0171,  0.0120,  0.0197,  0.0113]], device='cuda:0')\n"
     ]
    }
   ],
   "source": [
    "diff = test_rf_fn(Matern12LinOp, partial(matern_random_features, nu=0.5), X, lengthscale_tensor, num_features)\n",
    "print(diff)"
   ]
  },
  {
   "cell_type": "markdown",
   "id": "015626f9",
   "metadata": {},
   "source": [
    "Matern-3/2"
   ]
  },
  {
   "cell_type": "code",
   "execution_count": 11,
   "id": "d5bc72d1",
   "metadata": {},
   "outputs": [
    {
     "name": "stdout",
     "output_type": "stream",
     "text": [
      "tensor([[ 0.0064,  0.0125,  0.0196,  0.0030],\n",
      "        [ 0.0125,  0.0041, -0.0010, -0.0057],\n",
      "        [ 0.0196, -0.0010,  0.0041,  0.0064],\n",
      "        [ 0.0030, -0.0057,  0.0064, -0.0028]], device='cuda:0')\n"
     ]
    }
   ],
   "source": [
    "diff = test_rf_fn(Matern32LinOp, partial(matern_random_features, nu=1.5), X, lengthscale_scalar, num_features)\n",
    "print(diff)"
   ]
  },
  {
   "cell_type": "code",
   "execution_count": 12,
   "id": "489a8edf",
   "metadata": {},
   "outputs": [
    {
     "name": "stdout",
     "output_type": "stream",
     "text": [
      "tensor([[-0.0005,  0.0175, -0.0043,  0.0197],\n",
      "        [ 0.0175,  0.0012, -0.0235,  0.0093],\n",
      "        [-0.0043, -0.0235,  0.0167,  0.0104],\n",
      "        [ 0.0197,  0.0093,  0.0104, -0.0039]], device='cuda:0')\n"
     ]
    }
   ],
   "source": [
    "diff = test_rf_fn(Matern32LinOp, partial(matern_random_features, nu=1.5), X, lengthscale_tensor, num_features)\n",
    "print(diff)"
   ]
  },
  {
   "cell_type": "markdown",
   "id": "cafbea01",
   "metadata": {},
   "source": [
    "Matern-5/2"
   ]
  },
  {
   "cell_type": "code",
   "execution_count": 13,
   "id": "85c46c7e",
   "metadata": {},
   "outputs": [
    {
     "name": "stdout",
     "output_type": "stream",
     "text": [
      "tensor([[-0.0039,  0.0058,  0.0098,  0.0099],\n",
      "        [ 0.0058,  0.0100, -0.0125, -0.0098],\n",
      "        [ 0.0098, -0.0125,  0.0105, -0.0118],\n",
      "        [ 0.0099, -0.0098, -0.0118,  0.0099]], device='cuda:0')\n"
     ]
    }
   ],
   "source": [
    "diff = test_rf_fn(Matern52LinOp, partial(matern_random_features, nu=2.5), X, lengthscale_scalar, num_features)\n",
    "print(diff)"
   ]
  },
  {
   "cell_type": "code",
   "execution_count": 14,
   "id": "b1c6874a",
   "metadata": {},
   "outputs": [
    {
     "name": "stdout",
     "output_type": "stream",
     "text": [
      "tensor([[-0.0076,  0.0013,  0.0163, -0.0114],\n",
      "        [ 0.0013,  0.0046, -0.0240,  0.0043],\n",
      "        [ 0.0163, -0.0240,  0.0068,  0.0110],\n",
      "        [-0.0114,  0.0043,  0.0110,  0.0072]], device='cuda:0')\n"
     ]
    }
   ],
   "source": [
    "diff = test_rf_fn(Matern52LinOp, partial(matern_random_features, nu=2.5), X, lengthscale_tensor, num_features)\n",
    "print(diff)"
   ]
  }
 ],
 "metadata": {
  "kernelspec": {
   "display_name": "gp_inference_env",
   "language": "python",
   "name": "python3"
  },
  "language_info": {
   "codemirror_mode": {
    "name": "ipython",
    "version": 3
   },
   "file_extension": ".py",
   "mimetype": "text/x-python",
   "name": "python",
   "nbconvert_exporter": "python",
   "pygments_lexer": "ipython3",
   "version": "3.10.12"
  }
 },
 "nbformat": 4,
 "nbformat_minor": 5
}
