{
 "cells": [
  {
   "cell_type": "code",
   "execution_count": null,
   "id": "77ad1080",
   "metadata": {},
   "outputs": [],
   "source": [
    "import torch\n",
    "\n",
    "from rlaopt.solvers import PCGConfig, SAPConfig, SAPAccelConfig\n",
    "from rlaopt.preconditioners import NystromConfig\n",
    "\n",
    "from scalable_gp_inference.kernel_linsys import KernelLinSys"
   ]
  },
  {
   "cell_type": "code",
   "execution_count": null,
   "id": "ee8e1f74",
   "metadata": {},
   "outputs": [],
   "source": [
    "torch.set_default_dtype(torch.float64)\n",
    "torch.manual_seed(0)"
   ]
  },
  {
   "cell_type": "code",
   "execution_count": null,
   "id": "4dda6ffe",
   "metadata": {},
   "outputs": [],
   "source": [
    "device = torch.device(\"cuda\" if torch.cuda.is_available() else \"cpu\")\n",
    "n_chunks = 5\n",
    "\n",
    "n = 1000000\n",
    "d = 3\n",
    "k = 10\n",
    "reg = 1e-8 * n\n",
    "kernel_type = \"rbf\"\n",
    "kernel_lengthscale = torch.tensor([1.0, 2.0, 3.0], device=device)\n",
    "residual_tracking_idx = None\n",
    "distributed = True\n",
    "devices = set([torch.device(f\"cuda:{i}\") for i in range(n_chunks)])\n",
    "\n",
    "X = torch.randn(n, d, device=device)\n",
    "B = torch.randn(n, k, device=device)"
   ]
  },
  {
   "cell_type": "code",
   "execution_count": null,
   "id": "fb98cb3c",
   "metadata": {},
   "outputs": [],
   "source": [
    "kernel_linsys = KernelLinSys(X, B, reg, kernel_type, kernel_lengthscale, \n",
    "                            residual_tracking_idx, distributed, devices)"
   ]
  },
  {
   "cell_type": "code",
   "execution_count": null,
   "id": "034bd56b",
   "metadata": {},
   "outputs": [],
   "source": [
    "nystrom_config = NystromConfig(rank=100, rho=reg, damping_mode=\"adaptive\")\n",
    "accel_config = SAPAccelConfig(mu=reg, nu=10.0)\n",
    "solver_config = SAPConfig(\n",
    "    precond_config=nystrom_config,\n",
    "    max_iters=300,\n",
    "    atol=1e-6,\n",
    "    rtol=1e-6,\n",
    "    blk_sz=n // 10,\n",
    "    accel_config=accel_config,\n",
    "    device=device,\n",
    ")\n",
    "# solver_config = PCGConfig(\n",
    "#     precond_config=nystrom_config,\n",
    "#     max_iters=1000,\n",
    "#     atol=1e-6,\n",
    "#     rtol=1e-6,\n",
    "#     device=device,\n",
    "# )"
   ]
  },
  {
   "cell_type": "code",
   "execution_count": null,
   "id": "42ee750a",
   "metadata": {},
   "outputs": [],
   "source": [
    "solution, log = kernel_linsys.solve(\n",
    "                    solver_config=solver_config,\n",
    "                    W_init=torch.zeros_like(B),\n",
    "                    log_in_wandb=True,\n",
    "                    wandb_init_kwargs={\"project\": \"test_krr_linsys_class\"},\n",
    "                )"
   ]
  },
  {
   "cell_type": "code",
   "execution_count": null,
   "id": "c6a9f791",
   "metadata": {},
   "outputs": [],
   "source": [
    "final_log_entry = log[list(log.keys())[-1]]\n",
    "print(\"Final log entry key:\", list(log.keys())[-1])\n",
    "print(\"Final log entry:\", final_log_entry)"
   ]
  }
 ],
 "metadata": {
  "kernelspec": {
   "display_name": "gp_inference_env",
   "language": "python",
   "name": "python3"
  },
  "language_info": {
   "codemirror_mode": {
    "name": "ipython",
    "version": 3
   },
   "file_extension": ".py",
   "mimetype": "text/x-python",
   "name": "python",
   "nbconvert_exporter": "python",
   "pygments_lexer": "ipython3",
   "version": "3.10.12"
  }
 },
 "nbformat": 4,
 "nbformat_minor": 5
}
