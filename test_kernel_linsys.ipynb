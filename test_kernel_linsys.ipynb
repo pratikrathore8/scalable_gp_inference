{
 "cells": [
  {
   "cell_type": "code",
   "execution_count": 1,
   "id": "77ad1080",
   "metadata": {},
   "outputs": [],
   "source": [
    "import torch\n",
    "\n",
    "from rlaopt.solvers import PCGConfig, SAPConfig, SAPAccelConfig\n",
    "from rlaopt.preconditioners import NystromConfig\n",
    "\n",
    "from scalable_gp_inference.kernel_linsys import KernelLinSys"
   ]
  },
  {
   "cell_type": "code",
   "execution_count": 2,
   "id": "ee8e1f74",
   "metadata": {},
   "outputs": [
    {
     "data": {
      "text/plain": [
       "<torch._C.Generator at 0x7f5593ba78d0>"
      ]
     },
     "execution_count": 2,
     "metadata": {},
     "output_type": "execute_result"
    }
   ],
   "source": [
    "torch.set_default_dtype(torch.float64)\n",
    "torch.manual_seed(0)"
   ]
  },
  {
   "cell_type": "code",
   "execution_count": 3,
   "id": "4dda6ffe",
   "metadata": {},
   "outputs": [],
   "source": [
    "n = 10000\n",
    "d = 3\n",
    "k = 10\n",
    "reg = 1e-6 * n\n",
    "kernel_type = \"rbf\"\n",
    "kernel_lengthscale = 1.0\n",
    "residual_tracking_idx = None\n",
    "distributed = False\n",
    "devices = None\n",
    "device = torch.device(\"cuda\" if torch.cuda.is_available() else \"cpu\")\n",
    "\n",
    "X = torch.randn(n, d, device=device)\n",
    "B = torch.randn(n, k, device=device)"
   ]
  },
  {
   "cell_type": "code",
   "execution_count": 4,
   "id": "fb98cb3c",
   "metadata": {},
   "outputs": [],
   "source": [
    "kernel_linsys = KernelLinSys(X, B, reg, kernel_type, kernel_lengthscale, \n",
    "                            residual_tracking_idx, distributed, devices)"
   ]
  },
  {
   "cell_type": "code",
   "execution_count": 5,
   "id": "034bd56b",
   "metadata": {},
   "outputs": [],
   "source": [
    "nystrom_config = NystromConfig(rank=100, rho=reg, damping_mode=\"adaptive\")\n",
    "# accel_config = SAPAccelConfig(mu=reg, nu=10.0)\n",
    "# solver_config = SAPConfig(\n",
    "#     precond_config=nystrom_config,\n",
    "#     max_iters=1000,\n",
    "#     atol=1e-6,\n",
    "#     rtol=1e-6,\n",
    "#     blk_sz=n // 10,\n",
    "#     accel_config=accel_config,\n",
    "#     device=device,\n",
    "# )\n",
    "solver_config = PCGConfig(\n",
    "    precond_config=nystrom_config,\n",
    "    max_iters=1000,\n",
    "    atol=1e-6,\n",
    "    rtol=1e-6,\n",
    "    device=device,\n",
    ")"
   ]
  },
  {
   "cell_type": "code",
   "execution_count": 6,
   "id": "42ee750a",
   "metadata": {},
   "outputs": [
    {
     "name": "stderr",
     "output_type": "stream",
     "text": [
      "\u001b[34m\u001b[1mwandb\u001b[0m: Using wandb-core as the SDK backend.  Please refer to https://wandb.me/wandb-core for more information.\n",
      "\u001b[34m\u001b[1mwandb\u001b[0m: Currently logged in as: \u001b[33mpratikrathore8\u001b[0m (\u001b[33msketchy-opts\u001b[0m) to \u001b[32mhttps://api.wandb.ai\u001b[0m. Use \u001b[1m`wandb login --relogin`\u001b[0m to force relogin\n"
     ]
    },
    {
     "data": {
      "text/html": [
       "Tracking run with wandb version 0.19.9"
      ],
      "text/plain": [
       "<IPython.core.display.HTML object>"
      ]
     },
     "metadata": {},
     "output_type": "display_data"
    },
    {
     "data": {
      "text/html": [
       "Run data is saved locally in <code>/home/pratikr/scalable_gp_inference/wandb/run-20250410_190230-qj57osts</code>"
      ],
      "text/plain": [
       "<IPython.core.display.HTML object>"
      ]
     },
     "metadata": {},
     "output_type": "display_data"
    },
    {
     "data": {
      "text/html": [
       "Syncing run <strong><a href='https://wandb.ai/sketchy-opts/test_krr_linsys_class/runs/qj57osts' target=\"_blank\">fallen-hill-16</a></strong> to <a href='https://wandb.ai/sketchy-opts/test_krr_linsys_class' target=\"_blank\">Weights & Biases</a> (<a href='https://wandb.me/developer-guide' target=\"_blank\">docs</a>)<br>"
      ],
      "text/plain": [
       "<IPython.core.display.HTML object>"
      ]
     },
     "metadata": {},
     "output_type": "display_data"
    },
    {
     "data": {
      "text/html": [
       " View project at <a href='https://wandb.ai/sketchy-opts/test_krr_linsys_class' target=\"_blank\">https://wandb.ai/sketchy-opts/test_krr_linsys_class</a>"
      ],
      "text/plain": [
       "<IPython.core.display.HTML object>"
      ]
     },
     "metadata": {},
     "output_type": "display_data"
    },
    {
     "data": {
      "text/html": [
       " View run at <a href='https://wandb.ai/sketchy-opts/test_krr_linsys_class/runs/qj57osts' target=\"_blank\">https://wandb.ai/sketchy-opts/test_krr_linsys_class/runs/qj57osts</a>"
      ],
      "text/plain": [
       "<IPython.core.display.HTML object>"
      ]
     },
     "metadata": {},
     "output_type": "display_data"
    },
    {
     "name": "stdout",
     "output_type": "stream",
     "text": [
      "[pyKeOps] Warning : at least one of the input tensors is not contiguous. Consider using contiguous data arrays to avoid unnecessary copies.\n"
     ]
    },
    {
     "name": "stderr",
     "output_type": "stream",
     "text": [
      "\u001b[34m\u001b[1mwandb\u001b[0m: \u001b[32m\u001b[41mERROR\u001b[0m The nbformat package was not found. It is required to save notebook history.\n"
     ]
    },
    {
     "data": {
      "text/html": [],
      "text/plain": [
       "<IPython.core.display.HTML object>"
      ]
     },
     "metadata": {},
     "output_type": "display_data"
    },
    {
     "data": {
      "text/html": [
       "<br>    <style><br>        .wandb-row {<br>            display: flex;<br>            flex-direction: row;<br>            flex-wrap: wrap;<br>            justify-content: flex-start;<br>            width: 100%;<br>        }<br>        .wandb-col {<br>            display: flex;<br>            flex-direction: column;<br>            flex-basis: 100%;<br>            flex: 1;<br>            padding: 10px;<br>        }<br>    </style><br><div class=\"wandb-row\"><div class=\"wandb-col\"><h3>Run history:</h3><br/><table class=\"wandb\"><tr><td>cum_time</td><td>▁▂▃▄▅▆▇█</td></tr><tr><td>iter_time</td><td>█▃▁▁▁▁▁▁</td></tr></table><br/></div><div class=\"wandb-col\"><h3>Run summary:</h3><br/><table class=\"wandb\"><tr><td>cum_time</td><td>2.30414</td></tr><tr><td>iter_time</td><td>0.24615</td></tr></table><br/></div></div>"
      ],
      "text/plain": [
       "<IPython.core.display.HTML object>"
      ]
     },
     "metadata": {},
     "output_type": "display_data"
    },
    {
     "data": {
      "text/html": [
       " View run <strong style=\"color:#cdcd00\">fallen-hill-16</strong> at: <a href='https://wandb.ai/sketchy-opts/test_krr_linsys_class/runs/qj57osts' target=\"_blank\">https://wandb.ai/sketchy-opts/test_krr_linsys_class/runs/qj57osts</a><br> View project at: <a href='https://wandb.ai/sketchy-opts/test_krr_linsys_class' target=\"_blank\">https://wandb.ai/sketchy-opts/test_krr_linsys_class</a><br>Synced 5 W&B file(s), 0 media file(s), 0 artifact file(s) and 0 other file(s)"
      ],
      "text/plain": [
       "<IPython.core.display.HTML object>"
      ]
     },
     "metadata": {},
     "output_type": "display_data"
    },
    {
     "data": {
      "text/html": [
       "Find logs at: <code>./wandb/run-20250410_190230-qj57osts/logs</code>"
      ],
      "text/plain": [
       "<IPython.core.display.HTML object>"
      ]
     },
     "metadata": {},
     "output_type": "display_data"
    },
    {
     "data": {
      "text/plain": [
       "(tensor([[  38.5156,   28.1211,   93.2924,  ...,   12.6360, -108.1160,\n",
       "            87.4385],\n",
       "         [  30.0534,   35.5796,  187.8935,  ..., -154.0083,  -73.0118,\n",
       "           187.8499],\n",
       "         [-180.4548,   97.5761, -223.6069,  ...,  -43.8714,   43.5497,\n",
       "          -103.3113],\n",
       "         ...,\n",
       "         [ -89.7680,  -98.5448,  134.6107,  ...,   48.5665,  -34.9134,\n",
       "           104.2638],\n",
       "         [  99.1478,   87.0454,   -7.8039,  ...,  182.6885, -172.6538,\n",
       "          -177.6213],\n",
       "         [ -72.3226,   96.8327,   -6.3978,  ..., -222.5742,   36.8841,\n",
       "            56.9417]], device='cuda:0'),\n",
       " {0: {'iter_time': 0.5092678070068359,\n",
       "   'cum_time': 0.5092678070068359,\n",
       "   'metrics': {'internal_metrics': {'abs_res': tensor([100.1735,  99.6921, 100.2273, 100.2879, 101.1664, 100.2388, 100.5417,\n",
       "              99.1263,  98.5769, 100.1025], device='cuda:0'),\n",
       "     'rel_res': tensor([1., 1., 1., 1., 1., 1., 1., 1., 1., 1.], device='cuda:0')}}},\n",
       "  10: {'iter_time': 0.3170309066772461,\n",
       "   'cum_time': 0.826298713684082,\n",
       "   'metrics': {'internal_metrics': {'abs_res': tensor([ 96.2000, 112.9599, 106.7692, 104.6521,  91.9962, 101.0510,  83.2854,\n",
       "             103.2830,  95.2086,  94.0827], device='cuda:0'),\n",
       "     'rel_res': tensor([0.9603, 1.1331, 1.0653, 1.0435, 0.9094, 1.0081, 0.8284, 1.0419, 0.9658,\n",
       "             0.9399], device='cuda:0')}}},\n",
       "  20: {'iter_time': 0.2458503246307373,\n",
       "   'cum_time': 1.0721490383148193,\n",
       "   'metrics': {'internal_metrics': {'abs_res': tensor([22.5811, 19.7104, 24.9295, 17.3539, 21.6287, 19.4446, 20.3901, 14.7259,\n",
       "             19.2376, 20.6609], device='cuda:0'),\n",
       "     'rel_res': tensor([0.2254, 0.1977, 0.2487, 0.1730, 0.2138, 0.1940, 0.2028, 0.1486, 0.1952,\n",
       "             0.2064], device='cuda:0')}}},\n",
       "  30: {'iter_time': 0.24599099159240723,\n",
       "   'cum_time': 1.3181400299072266,\n",
       "   'metrics': {'internal_metrics': {'abs_res': tensor([ 2.3515,  2.4675,  5.0031,  4.3136,  2.9888, 10.1605,  5.4225,  2.3397,\n",
       "              3.7109,  3.9532], device='cuda:0'),\n",
       "     'rel_res': tensor([0.0235, 0.0248, 0.0499, 0.0430, 0.0295, 0.1014, 0.0539, 0.0236, 0.0376,\n",
       "             0.0395], device='cuda:0')}}},\n",
       "  40: {'iter_time': 0.24796056747436523,\n",
       "   'cum_time': 1.5661005973815918,\n",
       "   'metrics': {'internal_metrics': {'abs_res': tensor([0.1075, 0.0905, 0.0874, 0.1203, 0.1959, 0.1080, 0.0786, 0.1103, 0.1140,\n",
       "             0.1291], device='cuda:0'),\n",
       "     'rel_res': tensor([0.0011, 0.0009, 0.0009, 0.0012, 0.0019, 0.0011, 0.0008, 0.0011, 0.0012,\n",
       "             0.0013], device='cuda:0')}}},\n",
       "  50: {'iter_time': 0.2459108829498291,\n",
       "   'cum_time': 1.812011480331421,\n",
       "   'metrics': {'internal_metrics': {'abs_res': tensor([0.0022, 0.0028, 0.0020, 0.0108, 0.0107, 0.0039, 0.0040, 0.0017, 0.0048,\n",
       "             0.0032], device='cuda:0'),\n",
       "     'rel_res': tensor([2.1737e-05, 2.7999e-05, 1.9641e-05, 1.0800e-04, 1.0616e-04, 3.8493e-05,\n",
       "             3.9643e-05, 1.7213e-05, 4.8661e-05, 3.1596e-05], device='cuda:0')}}},\n",
       "  60: {'iter_time': 0.24598479270935059,\n",
       "   'cum_time': 2.0579962730407715,\n",
       "   'metrics': {'internal_metrics': {'abs_res': tensor([0.0007, 0.0003, 0.0004, 0.0006, 0.0006, 0.0003, 0.0003, 0.0002, 0.0004,\n",
       "             0.0003], device='cuda:0'),\n",
       "     'rel_res': tensor([7.2575e-06, 3.1133e-06, 3.5344e-06, 5.7116e-06, 5.9308e-06, 2.9342e-06,\n",
       "             2.5704e-06, 2.4583e-06, 4.1789e-06, 3.3290e-06], device='cuda:0')}}},\n",
       "  70: {'iter_time': 0.24614596366882324,\n",
       "   'cum_time': 2.3041422367095947,\n",
       "   'metrics': {'internal_metrics': {'abs_res': tensor([2.3544e-05, 2.3128e-05, 1.3434e-05, 3.5385e-05, 1.8293e-05, 1.9887e-05,\n",
       "             2.8760e-05, 1.7548e-05, 4.0300e-05, 2.7092e-05], device='cuda:0'),\n",
       "     'rel_res': tensor([2.3503e-07, 2.3200e-07, 1.3404e-07, 3.5284e-07, 1.8082e-07, 1.9839e-07,\n",
       "             2.8606e-07, 1.7703e-07, 4.0881e-07, 2.7064e-07], device='cuda:0')}}}})"
      ]
     },
     "execution_count": 6,
     "metadata": {},
     "output_type": "execute_result"
    }
   ],
   "source": [
    "kernel_linsys.solve(\n",
    "    solver_config=solver_config,\n",
    "    W_init=torch.zeros_like(B),\n",
    "    log_in_wandb=True,\n",
    "    wandb_init_kwargs={\"project\": \"test_krr_linsys_class\"},\n",
    ")"
   ]
  }
 ],
 "metadata": {
  "kernelspec": {
   "display_name": "gp_inference_env",
   "language": "python",
   "name": "python3"
  },
  "language_info": {
   "codemirror_mode": {
    "name": "ipython",
    "version": 3
   },
   "file_extension": ".py",
   "mimetype": "text/x-python",
   "name": "python",
   "nbconvert_exporter": "python",
   "pygments_lexer": "ipython3",
   "version": "3.10.12"
  }
 },
 "nbformat": 4,
 "nbformat_minor": 5
}
