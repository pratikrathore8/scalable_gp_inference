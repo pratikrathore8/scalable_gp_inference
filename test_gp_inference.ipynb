{
 "cells": [
  {
   "cell_type": "code",
   "execution_count": null,
   "id": "b3f098b8",
   "metadata": {},
   "outputs": [],
   "source": [
    "import numpy as np\n",
    "import torch\n",
    "\n",
    "from rlaopt.solvers import PCGConfig, SAPConfig, SAPAccelConfig\n",
    "from rlaopt.preconditioners import NystromConfig\n",
    "\n",
    "from scalable_gp_inference.hparam_training import train_exact_gp_subsampled\n",
    "from scalable_gp_inference.gp_inference import GPInference\n",
    "from scalable_gp_inference.sdd_config import SDDConfig\n",
    "\n",
    "from experiments.data_processing.load_torch import LOADERS"
   ]
  },
  {
   "cell_type": "code",
   "execution_count": null,
   "id": "8541ab9b",
   "metadata": {},
   "outputs": [],
   "source": [
    "seed = 0"
   ]
  },
  {
   "cell_type": "code",
   "execution_count": null,
   "id": "e6905ed6",
   "metadata": {},
   "outputs": [],
   "source": [
    "torch.set_default_dtype(torch.float64)\n",
    "torch.manual_seed(seed)"
   ]
  },
  {
   "cell_type": "code",
   "execution_count": null,
   "id": "51c93b34",
   "metadata": {},
   "outputs": [],
   "source": [
    "device = torch.device(\"cuda:1\")\n",
    "\n",
    "dataset_name = \"3droad\"\n",
    "data = LOADERS[dataset_name](split_proportion=0.1, split_shuffle=True, split_seed=seed, standardize=True, dtype=torch.float64, device=device)\n",
    "Xtr = data.Xtr\n",
    "ytr = data.ytr\n",
    "Xtst = data.Xtst\n",
    "ytst = data.ytst\n",
    "\n",
    "kernel_type = \"matern32\"\n",
    "distributed = True\n",
    "devices = set([torch.device(\"cuda:1\"), torch.device(\"cuda:3\"), torch.device(\"cuda:4\")])\n",
    "num_posterior_samples = 64\n",
    "num_random_features = 64\n",
    "\n",
    "subsample_size = 10000"
   ]
  },
  {
   "cell_type": "code",
   "execution_count": null,
   "id": "a17d3d2c",
   "metadata": {},
   "outputs": [],
   "source": [
    "hparams = train_exact_gp_subsampled(Xtr=Xtr, ytr=ytr, kernel_type=kernel_type, opt_hparams={\"lr\": 0.1},\n",
    "            training_iters=100, subsample_size=subsample_size, num_trials=1)"
   ]
  },
  {
   "cell_type": "code",
   "execution_count": null,
   "id": "4f6bc3e2",
   "metadata": {},
   "outputs": [],
   "source": [
    "print(hparams)"
   ]
  },
  {
   "cell_type": "code",
   "execution_count": null,
   "id": "5532086b",
   "metadata": {},
   "outputs": [],
   "source": [
    "gp_inference_model = GPInference(\n",
    "    Xtr=Xtr,\n",
    "    ytr=ytr,\n",
    "    Xtst=Xtst,\n",
    "    ytst=ytst,\n",
    "    kernel_type=kernel_type,\n",
    "    kernel_hparams=hparams,\n",
    "    num_posterior_samples=num_posterior_samples,\n",
    "    num_random_features=num_random_features,\n",
    "    distributed=distributed,\n",
    "    devices=devices,\n",
    ")"
   ]
  },
  {
   "cell_type": "code",
   "execution_count": null,
   "id": "d1a42755",
   "metadata": {},
   "outputs": [],
   "source": [
    "max_iters = 1000\n",
    "nystrom_config = NystromConfig(rank=100, rho=hparams.noise_variance, damping_mode=\"adaptive\")\n",
    "accel_config = SAPAccelConfig(mu=hparams.noise_variance, nu=10.0)\n",
    "solver_config = SAPConfig(\n",
    "    precond_config=nystrom_config,\n",
    "    max_iters=max_iters,\n",
    "    atol=1e-6,\n",
    "    rtol=1e-6,\n",
    "    blk_sz=Xtr.shape[0] // 10,\n",
    "    accel_config=accel_config,\n",
    "    device=device,\n",
    ")\n",
    "# solver_config = SDDConfig(\n",
    "#     momentum=0.9,\n",
    "#     step_size=100 / Xtr.shape[0],\n",
    "#     theta=100 / max_iters,\n",
    "#     blk_size=Xtr.shape[0] // 10,\n",
    "#     max_iters=max_iters,\n",
    "#     device=device,\n",
    "#     atol=1e-6,\n",
    "#     rtol=1e-6,\n",
    "# )\n",
    "# solver_config = PCGConfig(\n",
    "#     precond_config=nystrom_config,\n",
    "#     max_iters=max_iters,\n",
    "#     atol=1e-6,\n",
    "#     rtol=1e-6,\n",
    "#     device=device,\n",
    "# )"
   ]
  },
  {
   "cell_type": "code",
   "execution_count": null,
   "id": "fcaceb21",
   "metadata": {},
   "outputs": [],
   "source": [
    "results = gp_inference_model.perform_inference(\n",
    "    solver_config=solver_config,\n",
    "    W_init=None,\n",
    "    use_full_kernel=False,\n",
    "    eval_freq=10,\n",
    "    log_in_wandb=True,\n",
    ")"
   ]
  }
 ],
 "metadata": {
  "kernelspec": {
   "display_name": "gp_inference_env",
   "language": "python",
   "name": "python3"
  },
  "language_info": {
   "codemirror_mode": {
    "name": "ipython",
    "version": 3
   },
   "file_extension": ".py",
   "mimetype": "text/x-python",
   "name": "python",
   "nbconvert_exporter": "python",
   "pygments_lexer": "ipython3",
   "version": "3.10.12"
  }
 },
 "nbformat": 4,
 "nbformat_minor": 5
}
