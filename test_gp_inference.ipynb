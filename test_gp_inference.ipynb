{
 "cells": [
  {
   "cell_type": "code",
   "execution_count": 1,
   "id": "b3f098b8",
   "metadata": {},
   "outputs": [],
   "source": [
    "import torch\n",
    "\n",
    "from rlaopt.solvers import PCGConfig, SAPConfig, SAPAccelConfig\n",
    "from rlaopt.preconditioners import NystromConfig\n",
    "\n",
    "from scalable_gp_inference.hparam_training import train_exact_gp_subsampled\n",
    "from scalable_gp_inference.gp_inference import GPInference"
   ]
  },
  {
   "cell_type": "code",
   "execution_count": 2,
   "id": "e6905ed6",
   "metadata": {},
   "outputs": [
    {
     "data": {
      "text/plain": [
       "<torch._C.Generator at 0x7f3e380ab8b0>"
      ]
     },
     "execution_count": 2,
     "metadata": {},
     "output_type": "execute_result"
    }
   ],
   "source": [
    "torch.set_default_dtype(torch.float64)\n",
    "torch.manual_seed(0)"
   ]
  },
  {
   "cell_type": "code",
   "execution_count": 3,
   "id": "51c93b34",
   "metadata": {},
   "outputs": [],
   "source": [
    "device = torch.device(\"cuda:2\")\n",
    "\n",
    "ntr = 10000\n",
    "ntst = 1000\n",
    "d = 3\n",
    "data_noise = 0.04\n",
    "\n",
    "freqs = 2 * torch.pi * torch.randn(d)\n",
    "Xtr = torch.linspace(0, 1, ntr).unsqueeze(1).expand(-1, d)\n",
    "Xtst = torch.linspace(0, 1, ntst).unsqueeze(1).expand(-1, d)\n",
    "ytr = torch.sin(Xtr @ freqs) + torch.randn(Xtr.shape[0]) * (data_noise ** 0.5)\n",
    "ytst = torch.sin(Xtst @ freqs) + torch.randn(Xtst.shape[0]) * (data_noise ** 0.5)\n",
    "\n",
    "Xtr = Xtr.to(device)\n",
    "Xtst = Xtst.to(device)\n",
    "ytr = ytr.to(device)\n",
    "ytst = ytst.to(device)\n",
    "\n",
    "\n",
    "kernel_type = \"rbf\"\n",
    "distributed = True\n",
    "devices = set([torch.device(\"cuda:2\"), torch.device(\"cuda:3\"), torch.device(\"cuda:4\")])\n",
    "num_posterior_samples = 64\n",
    "num_random_features = 64"
   ]
  },
  {
   "cell_type": "code",
   "execution_count": 4,
   "id": "a17d3d2c",
   "metadata": {},
   "outputs": [],
   "source": [
    "hparams = train_exact_gp_subsampled(Xtr=Xtr, ytr=ytr, kernel_type=kernel_type, opt_hparams={\"lr\": 0.1},\n",
    "            training_iters=100, subsample_size=Xtr.shape[0], num_trials=1)"
   ]
  },
  {
   "cell_type": "code",
   "execution_count": 5,
   "id": "4f6bc3e2",
   "metadata": {},
   "outputs": [
    {
     "name": "stdout",
     "output_type": "stream",
     "text": [
      "GPHparams(signal_variance=1.340938055313761, kernel_lengthscale=tensor([0.6043, 0.6043, 0.6043], device='cuda:2'), noise_variance=0.04129490914970158)\n"
     ]
    }
   ],
   "source": [
    "print(hparams)"
   ]
  },
  {
   "cell_type": "code",
   "execution_count": 6,
   "id": "5532086b",
   "metadata": {},
   "outputs": [],
   "source": [
    "gp_inference_model = GPInference(\n",
    "    Xtr=Xtr,\n",
    "    ytr=ytr,\n",
    "    Xtst=Xtst,\n",
    "    ytst=ytst,\n",
    "    kernel_type=kernel_type,\n",
    "    kernel_hparams=hparams,\n",
    "    num_posterior_samples=num_posterior_samples,\n",
    "    num_random_features=num_random_features,\n",
    "    distributed=distributed,\n",
    "    devices=devices,\n",
    ")"
   ]
  },
  {
   "cell_type": "code",
   "execution_count": 7,
   "id": "d1a42755",
   "metadata": {},
   "outputs": [],
   "source": [
    "nystrom_config = NystromConfig(rank=100, rho=hparams.noise_variance, damping_mode=\"adaptive\")\n",
    "accel_config = SAPAccelConfig(mu=hparams.noise_variance, nu=10.0)\n",
    "solver_config = SAPConfig(\n",
    "    precond_config=nystrom_config,\n",
    "    max_iters=1000,\n",
    "    atol=1e-6,\n",
    "    rtol=1e-6,\n",
    "    blk_sz=ntr // 10,\n",
    "    accel_config=accel_config,\n",
    "    device=device,\n",
    ")\n",
    "# solver_config = PCGConfig(\n",
    "#     precond_config=nystrom_config,\n",
    "#     max_iters=1000,\n",
    "#     atol=1e-6,\n",
    "#     rtol=1e-6,\n",
    "#     device=device,\n",
    "# )"
   ]
  },
  {
   "cell_type": "code",
   "execution_count": 8,
   "id": "fcaceb21",
   "metadata": {},
   "outputs": [
    {
     "name": "stdout",
     "output_type": "stream",
     "text": [
      "Initialized with clean caches. PID: 2554832\n",
      "Initialized with clean caches. PID: 2554832\n"
     ]
    },
    {
     "name": "stderr",
     "output_type": "stream",
     "text": [
      "\u001b[34m\u001b[1mwandb\u001b[0m: Using wandb-core as the SDK backend.  Please refer to https://wandb.me/wandb-core for more information.\n",
      "\u001b[34m\u001b[1mwandb\u001b[0m: Currently logged in as: \u001b[33mpratikrathore8\u001b[0m (\u001b[33msketchy-opts\u001b[0m) to \u001b[32mhttps://api.wandb.ai\u001b[0m. Use \u001b[1m`wandb login --relogin`\u001b[0m to force relogin\n"
     ]
    },
    {
     "data": {
      "text/html": [
       "creating run (0.0s)"
      ],
      "text/plain": [
       "<IPython.core.display.HTML object>"
      ]
     },
     "metadata": {},
     "output_type": "display_data"
    },
    {
     "data": {
      "text/html": [
       "Tracking run with wandb version 0.19.9"
      ],
      "text/plain": [
       "<IPython.core.display.HTML object>"
      ]
     },
     "metadata": {},
     "output_type": "display_data"
    },
    {
     "data": {
      "text/html": [
       "Run data is saved locally in <code>/home/pratikr/scalable_gp_inference/wandb/run-20250422_151110-4pzwqnd1</code>"
      ],
      "text/plain": [
       "<IPython.core.display.HTML object>"
      ]
     },
     "metadata": {},
     "output_type": "display_data"
    },
    {
     "data": {
      "text/html": [
       "Syncing run <strong><a href='https://wandb.ai/sketchy-opts/scalable_gp_inference/runs/4pzwqnd1' target=\"_blank\">azure-hill-22</a></strong> to <a href='https://wandb.ai/sketchy-opts/scalable_gp_inference' target=\"_blank\">Weights & Biases</a> (<a href='https://wandb.me/developer-guide' target=\"_blank\">docs</a>)<br>"
      ],
      "text/plain": [
       "<IPython.core.display.HTML object>"
      ]
     },
     "metadata": {},
     "output_type": "display_data"
    },
    {
     "data": {
      "text/html": [
       " View project at <a href='https://wandb.ai/sketchy-opts/scalable_gp_inference' target=\"_blank\">https://wandb.ai/sketchy-opts/scalable_gp_inference</a>"
      ],
      "text/plain": [
       "<IPython.core.display.HTML object>"
      ]
     },
     "metadata": {},
     "output_type": "display_data"
    },
    {
     "data": {
      "text/html": [
       " View run at <a href='https://wandb.ai/sketchy-opts/scalable_gp_inference/runs/4pzwqnd1' target=\"_blank\">https://wandb.ai/sketchy-opts/scalable_gp_inference/runs/4pzwqnd1</a>"
      ],
      "text/plain": [
       "<IPython.core.display.HTML object>"
      ]
     },
     "metadata": {},
     "output_type": "display_data"
    },
    {
     "name": "stdout",
     "output_type": "stream",
     "text": [
      "[PID 2557937] Computing kernel for device cuda:2...\n",
      "[PID 2557937] Kernel cached. Cache size: 1\n",
      "[PID 2557939] Computing kernel for device cuda:4...\n",
      "[PID 2557939] Kernel cached. Cache size: 1\n",
      "[PID 2557938] Computing kernel for device cuda:3...\n",
      "[PID 2557938] Kernel cached. Cache size: 1\n",
      "[PID 2557953] Computing kernel for device cuda:3...\n",
      "[PID 2557953] Kernel cached. Cache size: 1\n",
      "[PID 2557952] Computing kernel for device cuda:2...\n",
      "[PID 2557952] Kernel cached. Cache size: 1\n",
      "[PID 2557954] Computing kernel for device cuda:4...\n",
      "[PID 2557954] Kernel cached. Cache size: 1\n",
      "[PID 2557953] Using cached kernel for device cuda:3\n",
      "[PID 2557954] Using cached kernel for device cuda:4\n",
      "[PID 2557952] Using cached kernel for device cuda:2\n",
      "[PID 2557938] Using cached kernel for device cuda:3\n",
      "[PID 2557937] Using cached kernel for device cuda:2\n",
      "[PID 2557939] Using cached kernel for device cuda:4\n",
      "[PID 2557937] Using cached kernel for device cuda:2\n",
      "[PID 2557938] Using cached kernel for device cuda:3\n",
      "[PID 2557939] Using cached kernel for device cuda:4\n",
      "[PID 2557952] Using cached kernel for device cuda:2\n",
      "[PID 2557953] Using cached kernel for device cuda:3\n",
      "[PID 2557954] Using cached kernel for device cuda:4\n",
      "[PID 2557952] Using cached kernel for device cuda:2\n",
      "[PID 2557953] Using cached kernel for device cuda:3\n",
      "[PID 2557954] Using cached kernel for device cuda:4\n",
      "[PID 2557937] Using cached kernel for device cuda:2\n",
      "[PID 2557938] Using cached kernel for device cuda:3\n",
      "[PID 2557939] Using cached kernel for device cuda:4\n",
      "[PID 2557937] Using cached kernel for device cuda:2\n",
      "[PID 2557938] Using cached kernel for device cuda:3\n",
      "[PID 2557939] Using cached kernel for device cuda:4\n",
      "[PID 2557952] Using cached kernel for device cuda:2\n",
      "[PID 2557953] Using cached kernel for device cuda:3\n",
      "[PID 2557954] Using cached kernel for device cuda:4\n",
      "[PID 2557952] Using cached kernel for device cuda:2\n",
      "[PID 2557953] Using cached kernel for device cuda:3\n",
      "[PID 2557954] Using cached kernel for device cuda:4\n",
      "[PID 2557937] Using cached kernel for device cuda:2\n",
      "[PID 2557938] Using cached kernel for device cuda:3\n",
      "[PID 2557939] Using cached kernel for device cuda:4\n",
      "[PID 2557937] Using cached kernel for device cuda:2\n",
      "[PID 2557939] Using cached kernel for device cuda:4[PID 2557938] Using cached kernel for device cuda:3\n",
      "\n",
      "[PID 2557952] Using cached kernel for device cuda:2\n",
      "[PID 2557953] Using cached kernel for device cuda:3\n",
      "[PID 2557954] Using cached kernel for device cuda:4\n",
      "[PID 2557952] Using cached kernel for device cuda:2\n",
      "[PID 2557953] Using cached kernel for device cuda:3\n",
      "[PID 2557954] Using cached kernel for device cuda:4\n",
      "[PID 2557937] Using cached kernel for device cuda:2\n",
      "[PID 2557938] Using cached kernel for device cuda:3\n",
      "[PID 2557939] Using cached kernel for device cuda:4\n",
      "[PID 2557937] Using cached kernel for device cuda:2\n",
      "[PID 2557938] Using cached kernel for device cuda:3\n",
      "[PID 2557939] Using cached kernel for device cuda:4\n",
      "[PID 2557952] Using cached kernel for device cuda:2\n",
      "[PID 2557953] Using cached kernel for device cuda:3\n",
      "[PID 2557954] Using cached kernel for device cuda:4\n",
      "[PID 2557952] Using cached kernel for device cuda:2\n",
      "[PID 2557953] Using cached kernel for device cuda:3\n",
      "[PID 2557954] Using cached kernel for device cuda:4\n",
      "[PID 2557937] Using cached kernel for device cuda:2\n",
      "[PID 2557938] Using cached kernel for device cuda:3\n",
      "[PID 2557939] Using cached kernel for device cuda:4\n",
      "[PID 2557937] Using cached kernel for device cuda:2\n",
      "[PID 2557938] Using cached kernel for device cuda:3\n",
      "[PID 2557939] Using cached kernel for device cuda:4\n",
      "[PID 2557952] Using cached kernel for device cuda:2\n",
      "[PID 2557953] Using cached kernel for device cuda:3\n",
      "[PID 2557954] Using cached kernel for device cuda:4\n",
      "[PID 2557952] Using cached kernel for device cuda:2\n",
      "[PID 2557953] Using cached kernel for device cuda:3\n",
      "[PID 2557954] Using cached kernel for device cuda:4\n",
      "[PID 2557937] Using cached kernel for device cuda:2\n",
      "[PID 2557938] Using cached kernel for device cuda:3\n",
      "[PID 2557939] Using cached kernel for device cuda:4\n",
      "[PID 2557937] Using cached kernel for device cuda:2\n",
      "[PID 2557938] Using cached kernel for device cuda:3\n",
      "[PID 2557939] Using cached kernel for device cuda:4\n",
      "[PID 2557952] Using cached kernel for device cuda:2\n",
      "[PID 2557953] Using cached kernel for device cuda:3\n",
      "[PID 2557954] Using cached kernel for device cuda:4\n",
      "[PID 2557953] Using cached kernel for device cuda:3\n",
      "[PID 2557952] Using cached kernel for device cuda:2\n",
      "[PID 2557954] Using cached kernel for device cuda:4\n",
      "[PID 2557937] Using cached kernel for device cuda:2\n",
      "[PID 2557938] Using cached kernel for device cuda:3\n",
      "[PID 2557939] Using cached kernel for device cuda:4\n",
      "[PID 2557937] Using cached kernel for device cuda:2\n",
      "[PID 2557938] Using cached kernel for device cuda:3\n",
      "[PID 2557939] Using cached kernel for device cuda:4\n",
      "[PID 2557953] Using cached kernel for device cuda:3\n",
      "[PID 2557952] Using cached kernel for device cuda:2\n",
      "[PID 2557954] Using cached kernel for device cuda:4\n",
      "[PID 2557952] Using cached kernel for device cuda:2\n",
      "[PID 2557953] Using cached kernel for device cuda:3\n",
      "[PID 2557954] Using cached kernel for device cuda:4\n",
      "[PID 2557938] Using cached kernel for device cuda:3\n",
      "[PID 2557937] Using cached kernel for device cuda:2\n",
      "[PID 2557939] Using cached kernel for device cuda:4\n",
      "[PID 2557937] Using cached kernel for device cuda:2\n",
      "[PID 2557939] Using cached kernel for device cuda:4\n",
      "[PID 2557938] Using cached kernel for device cuda:3\n",
      "[PID 2557953] Using cached kernel for device cuda:3\n",
      "[PID 2557952] Using cached kernel for device cuda:2\n",
      "[PID 2557954] Using cached kernel for device cuda:4\n",
      "[PID 2557952] Using cached kernel for device cuda:2\n",
      "[PID 2557953] Using cached kernel for device cuda:3\n",
      "[PID 2557954] Using cached kernel for device cuda:4\n",
      "[PID 2557937] Using cached kernel for device cuda:2\n",
      "[PID 2557938] Using cached kernel for device cuda:3\n",
      "[PID 2557939] Using cached kernel for device cuda:4\n",
      "[PID 2557937] Using cached kernel for device cuda:2\n",
      "[PID 2557938] Using cached kernel for device cuda:3\n",
      "[PID 2557939] Using cached kernel for device cuda:4\n",
      "[PID 2557952] Using cached kernel for device cuda:2[PID 2557953] Using cached kernel for device cuda:3\n",
      "\n",
      "[PID 2557954] Using cached kernel for device cuda:4\n",
      "[PID 2557952] Using cached kernel for device cuda:2\n",
      "[PID 2557953] Using cached kernel for device cuda:3\n",
      "[PID 2557954] Using cached kernel for device cuda:4\n",
      "[PID 2557937] Using cached kernel for device cuda:2\n",
      "[PID 2557938] Using cached kernel for device cuda:3\n",
      "[PID 2557939] Using cached kernel for device cuda:4\n",
      "[PID 2557937] Using cached kernel for device cuda:2\n",
      "[PID 2557938] Using cached kernel for device cuda:3\n",
      "[PID 2557939] Using cached kernel for device cuda:4\n",
      "[PID 2557953] Using cached kernel for device cuda:3\n",
      "[PID 2557952] Using cached kernel for device cuda:2\n",
      "[PID 2557954] Using cached kernel for device cuda:4\n",
      "[PID 2557952] Using cached kernel for device cuda:2\n",
      "[PID 2557953] Using cached kernel for device cuda:3\n",
      "[PID 2557954] Using cached kernel for device cuda:4\n",
      "[PID 2557937] Using cached kernel for device cuda:2\n",
      "[PID 2557938] Using cached kernel for device cuda:3\n",
      "[PID 2557939] Using cached kernel for device cuda:4\n",
      "[PID 2557937] Using cached kernel for device cuda:2\n",
      "[PID 2557938] Using cached kernel for device cuda:3\n",
      "[PID 2557939] Using cached kernel for device cuda:4\n",
      "[PID 2557953] Using cached kernel for device cuda:3[PID 2557952] Using cached kernel for device cuda:2\n",
      "\n",
      "[PID 2557954] Using cached kernel for device cuda:4\n",
      "[PID 2557952] Using cached kernel for device cuda:2\n",
      "[PID 2557953] Using cached kernel for device cuda:3\n",
      "[PID 2557954] Using cached kernel for device cuda:4\n",
      "[PID 2557937] Using cached kernel for device cuda:2\n",
      "[PID 2557938] Using cached kernel for device cuda:3\n",
      "[PID 2557939] Using cached kernel for device cuda:4\n",
      "[PID 2557937] Using cached kernel for device cuda:2\n",
      "[PID 2557938] Using cached kernel for device cuda:3\n",
      "[PID 2557939] Using cached kernel for device cuda:4\n",
      "[PID 2557952] Using cached kernel for device cuda:2\n",
      "[PID 2557954] Using cached kernel for device cuda:4\n",
      "[PID 2557953] Using cached kernel for device cuda:3\n",
      "[PID 2557952] Using cached kernel for device cuda:2\n",
      "[PID 2557953] Using cached kernel for device cuda:3\n",
      "[PID 2557954] Using cached kernel for device cuda:4\n",
      "[PID 2557938] Using cached kernel for device cuda:3\n",
      "[PID 2557937] Using cached kernel for device cuda:2\n",
      "[PID 2557939] Using cached kernel for device cuda:4\n",
      "[PID 2557937] Using cached kernel for device cuda:2\n",
      "[PID 2557938] Using cached kernel for device cuda:3\n",
      "[PID 2557939] Using cached kernel for device cuda:4\n",
      "[PID 2557953] Using cached kernel for device cuda:3\n",
      "[PID 2557952] Using cached kernel for device cuda:2\n",
      "[PID 2557954] Using cached kernel for device cuda:4\n",
      "[PID 2557953] Using cached kernel for device cuda:3\n",
      "[PID 2557952] Using cached kernel for device cuda:2\n",
      "[PID 2557954] Using cached kernel for device cuda:4\n",
      "[PID 2557938] Using cached kernel for device cuda:3\n",
      "[PID 2557937] Using cached kernel for device cuda:2\n",
      "[PID 2557939] Using cached kernel for device cuda:4\n",
      "[PID 2557937] Using cached kernel for device cuda:2\n",
      "[PID 2557938] Using cached kernel for device cuda:3\n",
      "[PID 2557939] Using cached kernel for device cuda:4\n",
      "[PID 2557952] Using cached kernel for device cuda:2\n",
      "[PID 2557954] Using cached kernel for device cuda:4\n",
      "[PID 2557953] Using cached kernel for device cuda:3\n",
      "[PID 2557952] Using cached kernel for device cuda:2\n",
      "[PID 2557953] Using cached kernel for device cuda:3\n",
      "[PID 2557954] Using cached kernel for device cuda:4\n",
      "[PID 2557938] Using cached kernel for device cuda:3\n",
      "[PID 2557937] Using cached kernel for device cuda:2\n",
      "[PID 2557939] Using cached kernel for device cuda:4\n",
      "[PID 2557937] Using cached kernel for device cuda:2[PID 2557938] Using cached kernel for device cuda:3\n",
      "\n",
      "[PID 2557939] Using cached kernel for device cuda:4\n",
      "[PID 2557952] Using cached kernel for device cuda:2\n",
      "[PID 2557953] Using cached kernel for device cuda:3\n",
      "[PID 2557954] Using cached kernel for device cuda:4\n",
      "[PID 2557952] Using cached kernel for device cuda:2\n",
      "[PID 2557953] Using cached kernel for device cuda:3\n",
      "[PID 2557954] Using cached kernel for device cuda:4\n",
      "[PID 2557937] Using cached kernel for device cuda:2\n",
      "[PID 2557938] Using cached kernel for device cuda:3\n",
      "[PID 2557939] Using cached kernel for device cuda:4\n",
      "[PID 2557939] Using cached kernel for device cuda:4\n",
      "[PID 2557937] Using cached kernel for device cuda:2\n",
      "[PID 2557938] Using cached kernel for device cuda:3\n",
      "[PID 2557953] Using cached kernel for device cuda:3\n",
      "[PID 2557952] Using cached kernel for device cuda:2\n",
      "[PID 2557954] Using cached kernel for device cuda:4\n",
      "[PID 2557952] Using cached kernel for device cuda:2\n",
      "[PID 2557953] Using cached kernel for device cuda:3\n",
      "[PID 2557954] Using cached kernel for device cuda:4\n",
      "[PID 2557937] Using cached kernel for device cuda:2\n",
      "[PID 2557938] Using cached kernel for device cuda:3\n",
      "[PID 2557939] Using cached kernel for device cuda:4\n",
      "[PID 2557937] Using cached kernel for device cuda:2\n",
      "[PID 2557938] Using cached kernel for device cuda:3\n",
      "[PID 2557939] Using cached kernel for device cuda:4\n",
      "[PID 2557952] Using cached kernel for device cuda:2\n",
      "[PID 2557953] Using cached kernel for device cuda:3\n",
      "[PID 2557954] Using cached kernel for device cuda:4\n",
      "[PID 2557952] Using cached kernel for device cuda:2\n",
      "[PID 2557953] Using cached kernel for device cuda:3\n",
      "[PID 2557954] Using cached kernel for device cuda:4\n",
      "[PID 2557937] Using cached kernel for device cuda:2\n",
      "[PID 2557938] Using cached kernel for device cuda:3\n",
      "[PID 2557939] Using cached kernel for device cuda:4\n",
      "[PID 2557937] Using cached kernel for device cuda:2\n",
      "[PID 2557938] Using cached kernel for device cuda:3\n",
      "[PID 2557939] Using cached kernel for device cuda:4\n",
      "[PID 2557952] Using cached kernel for device cuda:2\n",
      "[PID 2557953] Using cached kernel for device cuda:3\n",
      "[PID 2557954] Using cached kernel for device cuda:4\n",
      "[PID 2557952] Using cached kernel for device cuda:2\n",
      "[PID 2557953] Using cached kernel for device cuda:3\n",
      "[PID 2557954] Using cached kernel for device cuda:4\n",
      "[PID 2557937] Using cached kernel for device cuda:2\n",
      "[PID 2557938] Using cached kernel for device cuda:3\n",
      "[PID 2557939] Using cached kernel for device cuda:4\n",
      "[PID 2557937] Using cached kernel for device cuda:2\n",
      "[PID 2557938] Using cached kernel for device cuda:3\n",
      "[PID 2557939] Using cached kernel for device cuda:4\n",
      "[PID 2557954] Using cached kernel for device cuda:4\n",
      "[PID 2557952] Using cached kernel for device cuda:2\n",
      "[PID 2557953] Using cached kernel for device cuda:3\n",
      "[PID 2557952] Using cached kernel for device cuda:2\n",
      "[PID 2557953] Using cached kernel for device cuda:3\n",
      "[PID 2557954] Using cached kernel for device cuda:4\n",
      "[PID 2557937] Using cached kernel for device cuda:2\n",
      "[PID 2557938] Using cached kernel for device cuda:3\n",
      "[PID 2557939] Using cached kernel for device cuda:4\n",
      "[PID 2557937] Using cached kernel for device cuda:2\n",
      "[PID 2557938] Using cached kernel for device cuda:3\n",
      "[PID 2557939] Using cached kernel for device cuda:4\n",
      "[PID 2557952] Using cached kernel for device cuda:2\n",
      "[PID 2557953] Using cached kernel for device cuda:3\n",
      "[PID 2557954] Using cached kernel for device cuda:4\n",
      "[PID 2557952] Using cached kernel for device cuda:2\n",
      "[PID 2557953] Using cached kernel for device cuda:3\n",
      "[PID 2557954] Using cached kernel for device cuda:4\n",
      "[PID 2557937] Using cached kernel for device cuda:2\n",
      "[PID 2557938] Using cached kernel for device cuda:3\n",
      "[PID 2557939] Using cached kernel for device cuda:4\n",
      "[PID 2557937] Using cached kernel for device cuda:2\n",
      "[PID 2557939] Using cached kernel for device cuda:4\n",
      "[PID 2557938] Using cached kernel for device cuda:3\n",
      "[PID 2557953] Using cached kernel for device cuda:3\n",
      "[PID 2557952] Using cached kernel for device cuda:2\n",
      "[PID 2557954] Using cached kernel for device cuda:4\n",
      "[PID 2557953] Using cached kernel for device cuda:3\n",
      "[PID 2557952] Using cached kernel for device cuda:2\n",
      "[PID 2557954] Using cached kernel for device cuda:4\n",
      "[PID 2557937] Using cached kernel for device cuda:2\n",
      "[PID 2557938] Using cached kernel for device cuda:3\n",
      "[PID 2557939] Using cached kernel for device cuda:4\n",
      "[PID 2557937] Using cached kernel for device cuda:2\n",
      "[PID 2557938] Using cached kernel for device cuda:3\n",
      "[PID 2557939] Using cached kernel for device cuda:4\n",
      "[PID 2557953] Using cached kernel for device cuda:3\n",
      "[PID 2557952] Using cached kernel for device cuda:2\n",
      "[PID 2557954] Using cached kernel for device cuda:4\n",
      "[PID 2557952] Using cached kernel for device cuda:2\n",
      "[PID 2557953] Using cached kernel for device cuda:3\n",
      "[PID 2557954] Using cached kernel for device cuda:4\n",
      "[PID 2557937] Using cached kernel for device cuda:2\n",
      "[PID 2557938] Using cached kernel for device cuda:3\n",
      "[PID 2557939] Using cached kernel for device cuda:4\n",
      "[PID 2557937] Using cached kernel for device cuda:2\n",
      "[PID 2557938] Using cached kernel for device cuda:3\n",
      "[PID 2557939] Using cached kernel for device cuda:4\n",
      "[PID 2557952] Using cached kernel for device cuda:2\n",
      "[PID 2557953] Using cached kernel for device cuda:3\n",
      "[PID 2557954] Using cached kernel for device cuda:4\n",
      "[PID 2557952] Using cached kernel for device cuda:2\n",
      "[PID 2557953] Using cached kernel for device cuda:3\n",
      "[PID 2557954] Using cached kernel for device cuda:4\n",
      "[PID 2557937] Using cached kernel for device cuda:2\n",
      "[PID 2557938] Using cached kernel for device cuda:3\n",
      "[PID 2557939] Using cached kernel for device cuda:4\n",
      "[PID 2557937] Using cached kernel for device cuda:2\n",
      "[PID 2557938] Using cached kernel for device cuda:3\n",
      "[PID 2557939] Using cached kernel for device cuda:4\n",
      "[PID 2557952] Using cached kernel for device cuda:2\n",
      "[PID 2557953] Using cached kernel for device cuda:3\n",
      "[PID 2557954] Using cached kernel for device cuda:4\n",
      "[PID 2557952] Using cached kernel for device cuda:2\n",
      "[PID 2557953] Using cached kernel for device cuda:3\n",
      "[PID 2557954] Using cached kernel for device cuda:4\n",
      "[PID 2557937] Using cached kernel for device cuda:2\n",
      "[PID 2557938] Using cached kernel for device cuda:3\n",
      "[PID 2557939] Using cached kernel for device cuda:4\n"
     ]
    },
    {
     "name": "stderr",
     "output_type": "stream",
     "text": [
      "\u001b[34m\u001b[1mwandb\u001b[0m: \u001b[32m\u001b[41mERROR\u001b[0m The nbformat package was not found. It is required to save notebook history.\n"
     ]
    },
    {
     "data": {
      "text/html": [],
      "text/plain": [
       "<IPython.core.display.HTML object>"
      ]
     },
     "metadata": {},
     "output_type": "display_data"
    },
    {
     "data": {
      "text/html": [
       "<br>    <style><br>        .wandb-row {<br>            display: flex;<br>            flex-direction: row;<br>            flex-wrap: wrap;<br>            justify-content: flex-start;<br>            width: 100%;<br>        }<br>        .wandb-col {<br>            display: flex;<br>            flex-direction: column;<br>            flex-basis: 100%;<br>            flex: 1;<br>            padding: 10px;<br>        }<br>    </style><br><div class=\"wandb-row\"><div class=\"wandb-col\"><h3>Run history:</h3><br/><table class=\"wandb\"><tr><td>cum_time</td><td>▁▁▂▂▂▂▃▃▃▃▄▄▄▄▄▅▅▆▆▆▆▇▇██</td></tr><tr><td>iter_time</td><td>▁▇▆▄▃▅▃▄▄▅▄▄▄▄▄█▆▆▆▄▆▇▆▇▆</td></tr></table><br/></div><div class=\"wandb-col\"><h3>Run summary:</h3><br/><table class=\"wandb\"><tr><td>cum_time</td><td>41.58854</td></tr><tr><td>iter_time</td><td>2.11672</td></tr></table><br/></div></div>"
      ],
      "text/plain": [
       "<IPython.core.display.HTML object>"
      ]
     },
     "metadata": {},
     "output_type": "display_data"
    },
    {
     "data": {
      "text/html": [
       " View run <strong style=\"color:#cdcd00\">azure-hill-22</strong> at: <a href='https://wandb.ai/sketchy-opts/scalable_gp_inference/runs/4pzwqnd1' target=\"_blank\">https://wandb.ai/sketchy-opts/scalable_gp_inference/runs/4pzwqnd1</a><br> View project at: <a href='https://wandb.ai/sketchy-opts/scalable_gp_inference' target=\"_blank\">https://wandb.ai/sketchy-opts/scalable_gp_inference</a><br>Synced 5 W&B file(s), 0 media file(s), 0 artifact file(s) and 0 other file(s)"
      ],
      "text/plain": [
       "<IPython.core.display.HTML object>"
      ]
     },
     "metadata": {},
     "output_type": "display_data"
    },
    {
     "data": {
      "text/html": [
       "Find logs at: <code>./wandb/run-20250422_151110-4pzwqnd1/logs</code>"
      ],
      "text/plain": [
       "<IPython.core.display.HTML object>"
      ]
     },
     "metadata": {},
     "output_type": "display_data"
    },
    {
     "name": "stdout",
     "output_type": "stream",
     "text": [
      "Cleared global caches on shutdown. PID: 2554832\n",
      "Cleared global caches on shutdown. PID: 2554832\n"
     ]
    }
   ],
   "source": [
    "results = gp_inference_model.perform_inference(\n",
    "    solver_config=solver_config,\n",
    "    W_init=None,\n",
    "    eval_freq=10,\n",
    "    log_in_wandb=True,\n",
    ")"
   ]
  }
 ],
 "metadata": {
  "kernelspec": {
   "display_name": "gp_inference_env",
   "language": "python",
   "name": "python3"
  },
  "language_info": {
   "codemirror_mode": {
    "name": "ipython",
    "version": 3
   },
   "file_extension": ".py",
   "mimetype": "text/x-python",
   "name": "python",
   "nbconvert_exporter": "python",
   "pygments_lexer": "ipython3",
   "version": "3.10.12"
  }
 },
 "nbformat": 4,
 "nbformat_minor": 5
}
