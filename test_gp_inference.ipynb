{
 "cells": [
  {
   "cell_type": "code",
   "execution_count": 1,
   "id": "b3f098b8",
   "metadata": {},
   "outputs": [],
   "source": [
    "import numpy as np\n",
    "import torch\n",
    "\n",
    "from rlaopt.solvers import PCGConfig, SAPConfig, SAPAccelConfig\n",
    "from rlaopt.preconditioners import NystromConfig\n",
    "\n",
    "from scalable_gp_inference.hparam_training import train_exact_gp_subsampled, GPHparams\n",
    "from scalable_gp_inference.gp_inference import GPInference\n",
    "from scalable_gp_inference.random_features import RFConfig\n",
    "from scalable_gp_inference.sdd_config import SDDConfig\n",
    "\n",
    "from experiments.data_processing.load_torch import LOADERS"
   ]
  },
  {
   "cell_type": "code",
   "execution_count": 2,
   "id": "8541ab9b",
   "metadata": {},
   "outputs": [],
   "source": [
    "seed = 0"
   ]
  },
  {
   "cell_type": "code",
   "execution_count": 3,
   "id": "e6905ed6",
   "metadata": {},
   "outputs": [
    {
     "data": {
      "text/plain": [
       "<torch._C.Generator at 0x7f048ed4f990>"
      ]
     },
     "execution_count": 3,
     "metadata": {},
     "output_type": "execute_result"
    }
   ],
   "source": [
    "torch.set_default_dtype(torch.float64)\n",
    "torch.manual_seed(seed)"
   ]
  },
  {
   "cell_type": "code",
   "execution_count": 4,
   "id": "51c93b34",
   "metadata": {},
   "outputs": [],
   "source": [
    "device = torch.device(\"cuda:0\")\n",
    "\n",
    "dataset_name = \"3droad\"\n",
    "data = LOADERS[dataset_name](split_proportion=0.1, split_shuffle=True, split_seed=seed, standardize=True, dtype=torch.float64, device=device)\n",
    "Xtr = data.Xtr\n",
    "ytr = data.ytr\n",
    "Xtst = data.Xtst\n",
    "ytst = data.ytst\n",
    "\n",
    "kernel_type = \"matern32\"\n",
    "distributed = False\n",
    "devices = set([torch.device(\"cuda:0\")])\n",
    "num_posterior_samples = 64\n",
    "num_random_features = 2048\n",
    "\n",
    "# subsample_size = 10000"
   ]
  },
  {
   "cell_type": "code",
   "execution_count": 5,
   "id": "a17d3d2c",
   "metadata": {},
   "outputs": [],
   "source": [
    "# hparams = train_exact_gp_subsampled(Xtr=Xtr, ytr=ytr, kernel_type=kernel_type, opt_hparams={\"lr\": 0.1},\n",
    "#             training_iters=100, subsample_size=subsample_size, num_trials=1)\n",
    "\n",
    "hparams = GPHparams(signal_variance=2.7339983636976877, noise_variance=0.00033773878181614375, \n",
    "                    kernel_lengthscale=torch.tensor([0.1389760822057724, 0.17519564926624298], device=device))"
   ]
  },
  {
   "cell_type": "code",
   "execution_count": 6,
   "id": "4f6bc3e2",
   "metadata": {},
   "outputs": [
    {
     "name": "stdout",
     "output_type": "stream",
     "text": [
      "GPHparams(signal_variance=2.7339983636976877, kernel_lengthscale=tensor([0.1390, 0.1752], device='cuda:0'), noise_variance=0.00033773878181614375)\n"
     ]
    }
   ],
   "source": [
    "print(hparams)"
   ]
  },
  {
   "cell_type": "code",
   "execution_count": 7,
   "id": "5532086b",
   "metadata": {},
   "outputs": [],
   "source": [
    "gp_inference_model = GPInference(\n",
    "    Xtr=Xtr,\n",
    "    ytr=ytr,\n",
    "    Xtst=Xtst,\n",
    "    ytst=ytst,\n",
    "    kernel_type=kernel_type,\n",
    "    kernel_hparams=hparams,\n",
    "    num_posterior_samples=num_posterior_samples,\n",
    "    rf_config=RFConfig(num_features=num_random_features),\n",
    "    distributed=distributed,\n",
    "    devices=devices,\n",
    ")"
   ]
  },
  {
   "cell_type": "code",
   "execution_count": 8,
   "id": "d1a42755",
   "metadata": {},
   "outputs": [],
   "source": [
    "max_iters = 400\n",
    "nystrom_config = NystromConfig(rank=100, rho=hparams.noise_variance, damping_mode=\"adaptive\")\n",
    "accel_config = SAPAccelConfig(mu=hparams.noise_variance, nu=100.0)\n",
    "solver_config = SAPConfig(\n",
    "    precond_config=nystrom_config,\n",
    "    max_iters=max_iters,\n",
    "    atol=1e-6,\n",
    "    rtol=1e-6,\n",
    "    blk_sz=Xtr.shape[0] // 100,\n",
    "    accel_config=accel_config,\n",
    "    device=device,\n",
    ")\n",
    "# solver_config = SDDConfig(\n",
    "#     momentum=0.9,\n",
    "#     step_size=100 / Xtr.shape[0],\n",
    "#     theta=100 / max_iters,\n",
    "#     blk_size=Xtr.shape[0] // 10,\n",
    "#     max_iters=max_iters,\n",
    "#     device=device,\n",
    "#     atol=1e-6,\n",
    "#     rtol=1e-6,\n",
    "# )\n",
    "# solver_config = PCGConfig(\n",
    "#     precond_config=nystrom_config,\n",
    "#     max_iters=max_iters,\n",
    "#     atol=1e-6,\n",
    "#     rtol=1e-6,\n",
    "#     device=device,\n",
    "# )"
   ]
  },
  {
   "cell_type": "code",
   "execution_count": 9,
   "id": "fcaceb21",
   "metadata": {},
   "outputs": [
    {
     "name": "stderr",
     "output_type": "stream",
     "text": [
      "\u001b[34m\u001b[1mwandb\u001b[0m: Currently logged in as: \u001b[33mpratikrathore8\u001b[0m (\u001b[33msketchy-opts\u001b[0m) to \u001b[32mhttps://api.wandb.ai\u001b[0m. Use \u001b[1m`wandb login --relogin`\u001b[0m to force relogin\n"
     ]
    },
    {
     "data": {
      "text/html": [
       "Tracking run with wandb version 0.19.10"
      ],
      "text/plain": [
       "<IPython.core.display.HTML object>"
      ]
     },
     "metadata": {},
     "output_type": "display_data"
    },
    {
     "data": {
      "text/html": [
       "Run data is saved locally in <code>/home/pratikr/scalable_gp_inference/wandb/run-20250501_161357-uizybujy</code>"
      ],
      "text/plain": [
       "<IPython.core.display.HTML object>"
      ]
     },
     "metadata": {},
     "output_type": "display_data"
    },
    {
     "data": {
      "text/html": [
       "Syncing run <strong><a href='https://wandb.ai/sketchy-opts/3droad_testing/runs/uizybujy' target=\"_blank\">stellar-salad-1</a></strong> to <a href='https://wandb.ai/sketchy-opts/3droad_testing' target=\"_blank\">Weights & Biases</a> (<a href='https://wandb.me/developer-guide' target=\"_blank\">docs</a>)<br>"
      ],
      "text/plain": [
       "<IPython.core.display.HTML object>"
      ]
     },
     "metadata": {},
     "output_type": "display_data"
    },
    {
     "data": {
      "text/html": [
       " View project at <a href='https://wandb.ai/sketchy-opts/3droad_testing' target=\"_blank\">https://wandb.ai/sketchy-opts/3droad_testing</a>"
      ],
      "text/plain": [
       "<IPython.core.display.HTML object>"
      ]
     },
     "metadata": {},
     "output_type": "display_data"
    },
    {
     "data": {
      "text/html": [
       " View run at <a href='https://wandb.ai/sketchy-opts/3droad_testing/runs/uizybujy' target=\"_blank\">https://wandb.ai/sketchy-opts/3droad_testing/runs/uizybujy</a>"
      ],
      "text/plain": [
       "<IPython.core.display.HTML object>"
      ]
     },
     "metadata": {},
     "output_type": "display_data"
    },
    {
     "name": "stdout",
     "output_type": "stream",
     "text": [
      "[KeOps] Generating code for Sum_Reduction reduction (with parameters 0) of formula ((1+d*Sqrt(Sum(((a-b)/c)**2)))*f)*Exp(e*Sqrt(Sum(((a-b)/c)**2))) with a=Var(0,2,0), b=Var(1,2,1), c=Var(2,2,2), d=Var(3,1,2), e=Var(4,1,2), f=Var(5,1,1) ... OK\n",
      "[pyKeOps] Warning : at least one of the input tensors is not contiguous. Consider using contiguous data arrays to avoid unnecessary copies.\n",
      "[KeOps] Generating code for Sum_Reduction reduction (with parameters 0) of formula ((1+d*Sqrt(Sum(((a-b)/c)**2)))*Exp(e*Sqrt(Sum(((a-b)/c)**2))))*f with a=Var(0,2,0), b=Var(1,2,1), c=Var(2,2,2), d=Var(3,1,2), e=Var(4,1,2), f=Var(5,64,1) ... OK\n",
      "[KeOps] Generating code for Sum_Reduction reduction (with parameters 0) of formula ((1+d*Sqrt(Sum(((a-b)/c)**2)))*Exp(e*Sqrt(Sum(((a-b)/c)**2))))*f with a=Var(0,2,0), b=Var(1,2,1), c=Var(2,2,2), d=Var(3,1,2), e=Var(4,1,2), f=Var(5,100,1) ... OK\n",
      "[KeOps] Generating code for Sum_Reduction reduction (with parameters 0) of formula ((1+d*Sqrt(Sum(((a-b)/c)**2)))*Exp(e*Sqrt(Sum(((a-b)/c)**2))))*f with a=Var(0,2,0), b=Var(1,2,1), c=Var(2,2,2), d=Var(3,1,2), e=Var(4,1,2), f=Var(5,65,1) ... OK\n",
      "[pyKeOps] Warning : at least one of the input tensors is not contiguous. Consider using contiguous data arrays to avoid unnecessary copies.\n",
      "[pyKeOps] Warning : at least one of the input tensors is not contiguous. Consider using contiguous data arrays to avoid unnecessary copies.\n",
      "[pyKeOps] Warning : at least one of the input tensors is not contiguous. Consider using contiguous data arrays to avoid unnecessary copies.\n",
      "[pyKeOps] Warning : at least one of the input tensors is not contiguous. Consider using contiguous data arrays to avoid unnecessary copies.\n",
      "[pyKeOps] Warning : at least one of the input tensors is not contiguous. Consider using contiguous data arrays to avoid unnecessary copies.\n",
      "[pyKeOps] Warning : at least one of the input tensors is not contiguous. Consider using contiguous data arrays to avoid unnecessary copies.\n",
      "[pyKeOps] Warning : at least one of the input tensors is not contiguous. Consider using contiguous data arrays to avoid unnecessary copies.\n",
      "[pyKeOps] Warning : at least one of the input tensors is not contiguous. Consider using contiguous data arrays to avoid unnecessary copies.\n",
      "[pyKeOps] Warning : at least one of the input tensors is not contiguous. Consider using contiguous data arrays to avoid unnecessary copies.\n",
      "[pyKeOps] Warning : at least one of the input tensors is not contiguous. Consider using contiguous data arrays to avoid unnecessary copies.\n",
      "[pyKeOps] Warning : at least one of the input tensors is not contiguous. Consider using contiguous data arrays to avoid unnecessary copies.\n",
      "[pyKeOps] Warning : at least one of the input tensors is not contiguous. Consider using contiguous data arrays to avoid unnecessary copies.\n",
      "[pyKeOps] Warning : at least one of the input tensors is not contiguous. Consider using contiguous data arrays to avoid unnecessary copies.\n",
      "[pyKeOps] Warning : at least one of the input tensors is not contiguous. Consider using contiguous data arrays to avoid unnecessary copies.\n",
      "[pyKeOps] Warning : at least one of the input tensors is not contiguous. Consider using contiguous data arrays to avoid unnecessary copies.\n",
      "[pyKeOps] Warning : at least one of the input tensors is not contiguous. Consider using contiguous data arrays to avoid unnecessary copies.\n",
      "[pyKeOps] Warning : at least one of the input tensors is not contiguous. Consider using contiguous data arrays to avoid unnecessary copies.\n",
      "[pyKeOps] Warning : at least one of the input tensors is not contiguous. Consider using contiguous data arrays to avoid unnecessary copies.\n",
      "[pyKeOps] Warning : at least one of the input tensors is not contiguous. Consider using contiguous data arrays to avoid unnecessary copies.\n",
      "[pyKeOps] Warning : at least one of the input tensors is not contiguous. Consider using contiguous data arrays to avoid unnecessary copies.\n"
     ]
    },
    {
     "name": "stderr",
     "output_type": "stream",
     "text": [
      "\u001b[34m\u001b[1mwandb\u001b[0m: \u001b[32m\u001b[41mERROR\u001b[0m The nbformat package was not found. It is required to save notebook history.\n"
     ]
    },
    {
     "data": {
      "text/html": [],
      "text/plain": [
       "<IPython.core.display.HTML object>"
      ]
     },
     "metadata": {},
     "output_type": "display_data"
    },
    {
     "data": {
      "text/html": [
       "<br>    <style><br>        .wandb-row {<br>            display: flex;<br>            flex-direction: row;<br>            flex-wrap: wrap;<br>            justify-content: flex-start;<br>            width: 100%;<br>        }<br>        .wandb-col {<br>            display: flex;<br>            flex-direction: column;<br>            flex-basis: 100%;<br>            flex: 1;<br>            padding: 10px;<br>        }<br>    </style><br><div class=\"wandb-row\"><div class=\"wandb-col\"><h3>Run history:</h3><br/><table class=\"wandb\"><tr><td>cum_time</td><td>▁▁▂▂▂▃▃▃▄▄▅▅▅▆▆▆▇▇▇██</td></tr><tr><td>iter_time</td><td>▁█▇▇▇▇▇▇▇▇▇▇▇▇▇▇▇▇▇▇▇</td></tr></table><br/></div><div class=\"wandb-col\"><h3>Run summary:</h3><br/><table class=\"wandb\"><tr><td>cum_time</td><td>576.5541</td></tr><tr><td>iter_time</td><td>28.67982</td></tr></table><br/></div></div>"
      ],
      "text/plain": [
       "<IPython.core.display.HTML object>"
      ]
     },
     "metadata": {},
     "output_type": "display_data"
    },
    {
     "data": {
      "text/html": [
       " View run <strong style=\"color:#cdcd00\">stellar-salad-1</strong> at: <a href='https://wandb.ai/sketchy-opts/3droad_testing/runs/uizybujy' target=\"_blank\">https://wandb.ai/sketchy-opts/3droad_testing/runs/uizybujy</a><br> View project at: <a href='https://wandb.ai/sketchy-opts/3droad_testing' target=\"_blank\">https://wandb.ai/sketchy-opts/3droad_testing</a><br>Synced 5 W&B file(s), 0 media file(s), 0 artifact file(s) and 0 other file(s)"
      ],
      "text/plain": [
       "<IPython.core.display.HTML object>"
      ]
     },
     "metadata": {},
     "output_type": "display_data"
    },
    {
     "data": {
      "text/html": [
       "Find logs at: <code>./wandb/run-20250501_161357-uizybujy/logs</code>"
      ],
      "text/plain": [
       "<IPython.core.display.HTML object>"
      ]
     },
     "metadata": {},
     "output_type": "display_data"
    }
   ],
   "source": [
    "results = gp_inference_model.perform_inference(\n",
    "    solver_config=solver_config,\n",
    "    W_init=None,\n",
    "    use_full_kernel=False,\n",
    "    eval_freq=20,\n",
    "    log_in_wandb=True,\n",
    "    wandb_init_kwargs={\"project\": \"3droad_testing\"}\n",
    ")"
   ]
  },
  {
   "cell_type": "code",
   "execution_count": 31,
   "id": "e7713cec",
   "metadata": {},
   "outputs": [
    {
     "data": {
      "text/plain": [
       "dict_keys([0, 20, 40, 60, 80, 100, 120, 140, 160, 180, 200, 220, 240, 260, 280, 300, 320, 340, 360, 380, 400])"
      ]
     },
     "execution_count": 31,
     "metadata": {},
     "output_type": "execute_result"
    }
   ],
   "source": [
    "log = results[\"log\"]\n",
    "log.keys()"
   ]
  },
  {
   "cell_type": "code",
   "execution_count": 32,
   "id": "14fc7201",
   "metadata": {},
   "outputs": [],
   "source": [
    "final_log_entry = log[list(log.keys())[-1]]\n",
    "final_log_entry_metrics = final_log_entry[\"metrics\"]"
   ]
  },
  {
   "cell_type": "code",
   "execution_count": 33,
   "id": "41fd8910",
   "metadata": {},
   "outputs": [
    {
     "data": {
      "text/plain": [
       "{'callback': {'test_rmse': 0.2879279955977251,\n",
       "  'test_r2': 0.9181227460742468,\n",
       "  'test_mean': array([-0.93356195,  0.4621644 ,  1.41721034, ..., -0.14092515,\n",
       "         -0.5972797 , -0.42445433], shape=(43488,)),\n",
       "  'test_posterior_samples_mean': array([-0.93826256,  0.46075197,  1.39081214, ..., -0.1449596 ,\n",
       "         -0.59778503, -0.43068106], shape=(43488,)),\n",
       "  'test_posterior_samples_var': array([0.00458287, 0.01316037, 0.01544131, ..., 0.01035151, 0.00560031,\n",
       "         0.02367199], shape=(43488,)),\n",
       "  'test_posterior_samples_nll': 171629.02709444085,\n",
       "  'test_posterior_samples_mean_nll': 3.9465835884483274},\n",
       " 'internal_metrics': {'abs_res': None, 'rel_res': None}}"
      ]
     },
     "execution_count": 33,
     "metadata": {},
     "output_type": "execute_result"
    }
   ],
   "source": [
    "final_log_entry_metrics"
   ]
  },
  {
   "cell_type": "code",
   "execution_count": 34,
   "id": "3e3f0391",
   "metadata": {},
   "outputs": [
    {
     "data": {
      "text/plain": [
       "(array([3.000e+00, 0.000e+00, 2.000e+00, 4.000e+00, 0.000e+00, 1.000e+01,\n",
       "        1.200e+01, 1.500e+01, 2.000e+01, 4.500e+01, 5.700e+01, 4.400e+01,\n",
       "        8.200e+01, 1.180e+02, 1.840e+02, 2.750e+02, 4.160e+02, 4.720e+02,\n",
       "        6.390e+02, 9.410e+02, 1.212e+03, 1.690e+03, 2.135e+03, 2.947e+03,\n",
       "        3.619e+03, 4.133e+03, 4.388e+03, 4.210e+03, 3.712e+03, 3.032e+03,\n",
       "        2.340e+03, 1.815e+03, 1.335e+03, 9.490e+02, 7.180e+02, 5.200e+02,\n",
       "        3.670e+02, 2.800e+02, 2.150e+02, 1.480e+02, 1.240e+02, 7.600e+01,\n",
       "        6.300e+01, 3.900e+01, 2.000e+01, 1.200e+01, 1.100e+01, 1.000e+01,\n",
       "        4.000e+00, 3.000e+00, 3.000e+00, 4.000e+00, 8.000e+00, 0.000e+00,\n",
       "        1.000e+00, 1.000e+00, 0.000e+00, 0.000e+00, 2.000e+00, 0.000e+00,\n",
       "        1.000e+00, 0.000e+00, 0.000e+00, 0.000e+00, 0.000e+00, 0.000e+00,\n",
       "        0.000e+00, 0.000e+00, 0.000e+00, 0.000e+00, 0.000e+00, 1.000e+00,\n",
       "        0.000e+00, 0.000e+00, 0.000e+00, 0.000e+00, 0.000e+00, 0.000e+00,\n",
       "        0.000e+00, 0.000e+00, 0.000e+00, 0.000e+00, 0.000e+00, 0.000e+00,\n",
       "        0.000e+00, 0.000e+00, 0.000e+00, 0.000e+00, 0.000e+00, 0.000e+00,\n",
       "        0.000e+00, 0.000e+00, 0.000e+00, 0.000e+00, 0.000e+00, 0.000e+00,\n",
       "        0.000e+00, 0.000e+00, 0.000e+00, 1.000e+00]),\n",
       " array([-0.07003265, -0.06741538, -0.06479812, -0.06218085, -0.05956359,\n",
       "        -0.05694632, -0.05432905, -0.05171179, -0.04909452, -0.04647726,\n",
       "        -0.04385999, -0.04124273, -0.03862546, -0.0360082 , -0.03339093,\n",
       "        -0.03077367, -0.0281564 , -0.02553914, -0.02292187, -0.02030461,\n",
       "        -0.01768734, -0.01507008, -0.01245281, -0.00983555, -0.00721828,\n",
       "        -0.00460102, -0.00198375,  0.00063351,  0.00325078,  0.00586804,\n",
       "         0.00848531,  0.01110257,  0.01371984,  0.01633711,  0.01895437,\n",
       "         0.02157164,  0.0241889 ,  0.02680617,  0.02942343,  0.0320407 ,\n",
       "         0.03465796,  0.03727523,  0.03989249,  0.04250976,  0.04512702,\n",
       "         0.04774429,  0.05036155,  0.05297882,  0.05559608,  0.05821335,\n",
       "         0.06083061,  0.06344788,  0.06606514,  0.06868241,  0.07129967,\n",
       "         0.07391694,  0.0765342 ,  0.07915147,  0.08176874,  0.084386  ,\n",
       "         0.08700327,  0.08962053,  0.0922378 ,  0.09485506,  0.09747233,\n",
       "         0.10008959,  0.10270686,  0.10532412,  0.10794139,  0.11055865,\n",
       "         0.11317592,  0.11579318,  0.11841045,  0.12102771,  0.12364498,\n",
       "         0.12626224,  0.12887951,  0.13149677,  0.13411404,  0.1367313 ,\n",
       "         0.13934857,  0.14196583,  0.1445831 ,  0.14720036,  0.14981763,\n",
       "         0.1524349 ,  0.15505216,  0.15766943,  0.16028669,  0.16290396,\n",
       "         0.16552122,  0.16813849,  0.17075575,  0.17337302,  0.17599028,\n",
       "         0.17860755,  0.18122481,  0.18384208,  0.18645934,  0.18907661,\n",
       "         0.19169387]),\n",
       " <BarContainer object of 100 artists>)"
      ]
     },
     "execution_count": 34,
     "metadata": {},
     "output_type": "execute_result"
    },
    {
     "data": {
      "image/png": "[encoded data removed]",
      "text/plain": [
       "<Figure size 640x480 with 1 Axes>"
      ]
     },
     "metadata": {},
     "output_type": "display_data"
    }
   ],
   "source": [
    "import matplotlib.pyplot as plt\n",
    "plt.hist(final_log_entry_metrics[\"callback\"][\"test_mean\"] -\n",
    "         final_log_entry_metrics[\"callback\"][\"test_posterior_samples_mean\"], bins=100)\n"
   ]
  },
  {
   "cell_type": "code",
   "execution_count": 35,
   "id": "ac7b8eea",
   "metadata": {},
   "outputs": [
    {
     "data": {
      "text/plain": [
       "(array([1.5172e+04, 1.1235e+04, 7.9330e+03, 4.7960e+03, 2.2870e+03,\n",
       "        1.0400e+03, 4.3200e+02, 2.4400e+02, 1.3000e+02, 7.1000e+01,\n",
       "        4.8000e+01, 2.9000e+01, 1.7000e+01, 1.1000e+01, 9.0000e+00,\n",
       "        6.0000e+00, 3.0000e+00, 5.0000e+00, 1.0000e+00, 1.0000e+00,\n",
       "        2.0000e+00, 4.0000e+00, 1.0000e+00, 0.0000e+00, 1.0000e+00,\n",
       "        2.0000e+00, 2.0000e+00, 1.0000e+00, 1.0000e+00, 2.0000e+00,\n",
       "        0.0000e+00, 0.0000e+00, 1.0000e+00, 0.0000e+00, 0.0000e+00,\n",
       "        0.0000e+00, 0.0000e+00, 0.0000e+00, 0.0000e+00, 0.0000e+00,\n",
       "        0.0000e+00, 0.0000e+00, 0.0000e+00, 0.0000e+00, 0.0000e+00,\n",
       "        0.0000e+00, 0.0000e+00, 0.0000e+00, 0.0000e+00, 0.0000e+00,\n",
       "        0.0000e+00, 0.0000e+00, 0.0000e+00, 0.0000e+00, 0.0000e+00,\n",
       "        0.0000e+00, 0.0000e+00, 0.0000e+00, 0.0000e+00, 0.0000e+00,\n",
       "        0.0000e+00, 0.0000e+00, 0.0000e+00, 0.0000e+00, 0.0000e+00,\n",
       "        0.0000e+00, 0.0000e+00, 0.0000e+00, 0.0000e+00, 0.0000e+00,\n",
       "        0.0000e+00, 0.0000e+00, 0.0000e+00, 0.0000e+00, 0.0000e+00,\n",
       "        0.0000e+00, 0.0000e+00, 0.0000e+00, 0.0000e+00, 0.0000e+00,\n",
       "        0.0000e+00, 0.0000e+00, 0.0000e+00, 0.0000e+00, 0.0000e+00,\n",
       "        0.0000e+00, 0.0000e+00, 0.0000e+00, 0.0000e+00, 0.0000e+00,\n",
       "        0.0000e+00, 0.0000e+00, 0.0000e+00, 0.0000e+00, 0.0000e+00,\n",
       "        0.0000e+00, 0.0000e+00, 0.0000e+00, 0.0000e+00, 1.0000e+00]),\n",
       " array([0.00111623, 0.00616609, 0.01121594, 0.0162658 , 0.02131566,\n",
       "        0.02636551, 0.03141537, 0.03646523, 0.04151509, 0.04656494,\n",
       "        0.0516148 , 0.05666466, 0.06171452, 0.06676437, 0.07181423,\n",
       "        0.07686409, 0.08191395, 0.0869638 , 0.09201366, 0.09706352,\n",
       "        0.10211337, 0.10716323, 0.11221309, 0.11726295, 0.1223128 ,\n",
       "        0.12736266, 0.13241252, 0.13746238, 0.14251223, 0.14756209,\n",
       "        0.15261195, 0.1576618 , 0.16271166, 0.16776152, 0.17281138,\n",
       "        0.17786123, 0.18291109, 0.18796095, 0.19301081, 0.19806066,\n",
       "        0.20311052, 0.20816038, 0.21321024, 0.21826009, 0.22330995,\n",
       "        0.22835981, 0.23340966, 0.23845952, 0.24350938, 0.24855924,\n",
       "        0.25360909, 0.25865895, 0.26370881, 0.26875867, 0.27380852,\n",
       "        0.27885838, 0.28390824, 0.28895809, 0.29400795, 0.29905781,\n",
       "        0.30410767, 0.30915752, 0.31420738, 0.31925724, 0.3243071 ,\n",
       "        0.32935695, 0.33440681, 0.33945667, 0.34450653, 0.34955638,\n",
       "        0.35460624, 0.3596561 , 0.36470595, 0.36975581, 0.37480567,\n",
       "        0.37985553, 0.38490538, 0.38995524, 0.3950051 , 0.40005496,\n",
       "        0.40510481, 0.41015467, 0.41520453, 0.42025438, 0.42530424,\n",
       "        0.4303541 , 0.43540396, 0.44045381, 0.44550367, 0.45055353,\n",
       "        0.45560339, 0.46065324, 0.4657031 , 0.47075296, 0.47580281,\n",
       "        0.48085267, 0.48590253, 0.49095239, 0.49600224, 0.5010521 ,\n",
       "        0.50610196]),\n",
       " <BarContainer object of 100 artists>)"
      ]
     },
     "execution_count": 35,
     "metadata": {},
     "output_type": "execute_result"
    },
    {
     "data": {
      "image/png": "[encoded data removed]",
      "text/plain": [
       "<Figure size 640x480 with 1 Axes>"
      ]
     },
     "metadata": {},
     "output_type": "display_data"
    }
   ],
   "source": [
    "plt.hist(final_log_entry_metrics[\"callback\"][\"test_posterior_samples_var\"], bins=100)"
   ]
  },
  {
   "cell_type": "code",
   "execution_count": 36,
   "id": "47a8d795",
   "metadata": {},
   "outputs": [],
   "source": [
    "# Extract information for computing log likelihood\n",
    "test_mean = final_log_entry_metrics[\"callback\"][\"test_mean\"]\n",
    "test_variances = final_log_entry_metrics[\"callback\"][\"test_posterior_samples_var\"]\n",
    "y_test = gp_inference_model.ytst.cpu().numpy()\n",
    "y_train = gp_inference_model.ytr.cpu().numpy()\n",
    "\n",
    "# Compute log likelihood for each test point\n",
    "test_variances = test_variances + gp_inference_model.noise_variance\n",
    "# n = test_mean.shape[0]\n",
    "log_test_variances = np.log(test_variances)\n",
    "\n",
    "# Get individual log likelihoods\n",
    "log_likelihoods = -0.5 * np.log(2 * np.pi) - 0.5 * log_test_variances - 0.5 * (y_test - test_mean) ** 2 / test_variances"
   ]
  },
  {
   "cell_type": "code",
   "execution_count": 37,
   "id": "0fc578a6",
   "metadata": {},
   "outputs": [
    {
     "name": "stdout",
     "output_type": "stream",
     "text": [
      "Indices of the 5 smallest log likelihoods: [ 6331  2594 10510 39862 13423]\n",
      "Smallest log likelihoods: [-476.75743708 -419.08446726 -386.28867332 -366.4704551  -343.78880538]\n",
      "Smallest test means: [3.93675655 1.50685525 1.21792084 1.53149832 1.39635302]\n",
      "Smallest test variances: [0.00459447 0.00330538 0.00320846 0.00362018 0.00322725]\n",
      "True values: [6.03370235 3.17516846 2.79630854 3.16461627 2.89019616]\n"
     ]
    }
   ],
   "source": [
    "# Get index of the 5 smallest log likelihoods\n",
    "sorted_indices = np.argsort(log_likelihoods)\n",
    "smallest_indices = sorted_indices[:5]\n",
    "smallest_log_likelihoods = log_likelihoods[smallest_indices]\n",
    "print(\"Indices of the 5 smallest log likelihoods:\", smallest_indices)\n",
    "print(\"Smallest log likelihoods:\", smallest_log_likelihoods)\n",
    "\n",
    "\n",
    "# Get the corresponding test mean and variance along with the true value\n",
    "smallest_test_means = test_mean[smallest_indices]\n",
    "smallest_test_variances = test_variances[smallest_indices]\n",
    "smallest_true_values = y_test[smallest_indices]\n",
    "print(\"Smallest test means:\", smallest_test_means)\n",
    "print(\"Smallest test variances:\", smallest_test_variances)\n",
    "print(\"True values:\", smallest_true_values)"
   ]
  },
  {
   "cell_type": "code",
   "execution_count": 38,
   "id": "60a70be4",
   "metadata": {},
   "outputs": [
    {
     "data": {
      "text/plain": [
       "(array([1.0000e+00, 0.0000e+00, 0.0000e+00, 0.0000e+00, 0.0000e+00,\n",
       "        0.0000e+00, 0.0000e+00, 0.0000e+00, 0.0000e+00, 0.0000e+00,\n",
       "        0.0000e+00, 0.0000e+00, 1.0000e+00, 0.0000e+00, 0.0000e+00,\n",
       "        0.0000e+00, 0.0000e+00, 0.0000e+00, 1.0000e+00, 0.0000e+00,\n",
       "        0.0000e+00, 0.0000e+00, 0.0000e+00, 1.0000e+00, 0.0000e+00,\n",
       "        0.0000e+00, 0.0000e+00, 1.0000e+00, 0.0000e+00, 1.0000e+00,\n",
       "        0.0000e+00, 1.0000e+00, 0.0000e+00, 0.0000e+00, 0.0000e+00,\n",
       "        1.0000e+00, 1.0000e+00, 0.0000e+00, 0.0000e+00, 3.0000e+00,\n",
       "        0.0000e+00, 1.0000e+00, 1.0000e+00, 1.0000e+00, 1.0000e+00,\n",
       "        1.0000e+00, 3.0000e+00, 1.0000e+00, 0.0000e+00, 2.0000e+00,\n",
       "        2.0000e+00, 2.0000e+00, 1.0000e+00, 2.0000e+00, 1.0000e+00,\n",
       "        2.0000e+00, 1.0000e+00, 2.0000e+00, 2.0000e+00, 5.0000e+00,\n",
       "        2.0000e+00, 4.0000e+00, 3.0000e+00, 5.0000e+00, 1.0000e+00,\n",
       "        7.0000e+00, 3.0000e+00, 7.0000e+00, 4.0000e+00, 6.0000e+00,\n",
       "        6.0000e+00, 5.0000e+00, 8.0000e+00, 6.0000e+00, 5.0000e+00,\n",
       "        1.1000e+01, 1.4000e+01, 1.7000e+01, 7.0000e+00, 1.0000e+01,\n",
       "        1.5000e+01, 2.9000e+01, 2.7000e+01, 2.5000e+01, 4.4000e+01,\n",
       "        4.9000e+01, 7.7000e+01, 9.3000e+01, 1.0300e+02, 1.5000e+02,\n",
       "        1.5900e+02, 2.1600e+02, 2.5500e+02, 3.0800e+02, 4.4700e+02,\n",
       "        7.5500e+02, 1.1360e+03, 1.9730e+03, 4.7460e+03, 3.2707e+04]),\n",
       " array([-476.75743708, -471.96680178, -467.17616649, -462.38553119,\n",
       "        -457.5948959 , -452.8042606 , -448.01362531, -443.22299001,\n",
       "        -438.43235472, -433.64171942, -428.85108412, -424.06044883,\n",
       "        -419.26981353, -414.47917824, -409.68854294, -404.89790765,\n",
       "        -400.10727235, -395.31663706, -390.52600176, -385.73536647,\n",
       "        -380.94473117, -376.15409588, -371.36346058, -366.57282528,\n",
       "        -361.78218999, -356.99155469, -352.2009194 , -347.4102841 ,\n",
       "        -342.61964881, -337.82901351, -333.03837822, -328.24774292,\n",
       "        -323.45710763, -318.66647233, -313.87583704, -309.08520174,\n",
       "        -304.29456644, -299.50393115, -294.71329585, -289.92266056,\n",
       "        -285.13202526, -280.34138997, -275.55075467, -270.76011938,\n",
       "        -265.96948408, -261.17884879, -256.38821349, -251.5975782 ,\n",
       "        -246.8069429 , -242.01630761, -237.22567231, -232.43503701,\n",
       "        -227.64440172, -222.85376642, -218.06313113, -213.27249583,\n",
       "        -208.48186054, -203.69122524, -198.90058995, -194.10995465,\n",
       "        -189.31931936, -184.52868406, -179.73804877, -174.94741347,\n",
       "        -170.15677817, -165.36614288, -160.57550758, -155.78487229,\n",
       "        -150.99423699, -146.2036017 , -141.4129664 , -136.62233111,\n",
       "        -131.83169581, -127.04106052, -122.25042522, -117.45978993,\n",
       "        -112.66915463, -107.87851933, -103.08788404,  -98.29724874,\n",
       "         -93.50661345,  -88.71597815,  -83.92534286,  -79.13470756,\n",
       "         -74.34407227,  -69.55343697,  -64.76280168,  -59.97216638,\n",
       "         -55.18153109,  -50.39089579,  -45.6002605 ,  -40.8096252 ,\n",
       "         -36.0189899 ,  -31.22835461,  -26.43771931,  -21.64708402,\n",
       "         -16.85644872,  -12.06581343,   -7.27517813,   -2.48454284,\n",
       "           2.30609246]),\n",
       " <BarContainer object of 100 artists>)"
      ]
     },
     "execution_count": 38,
     "metadata": {},
     "output_type": "execute_result"
    },
    {
     "data": {
      "image/png": "[encoded data removed]",
      "text/plain": [
       "<Figure size 640x480 with 1 Axes>"
      ]
     },
     "metadata": {},
     "output_type": "display_data"
    }
   ],
   "source": [
    "plt.hist(log_likelihoods, bins=100)"
   ]
  },
  {
   "cell_type": "code",
   "execution_count": 39,
   "id": "41eadd5f",
   "metadata": {},
   "outputs": [
    {
     "data": {
      "text/plain": [
       "(array([1.000e+00, 0.000e+00, 1.600e+01, 9.490e+02, 3.074e+03, 2.451e+03,\n",
       "        2.174e+03, 2.073e+03, 1.623e+03, 1.599e+03, 1.440e+03, 1.573e+03,\n",
       "        1.425e+03, 1.302e+03, 1.212e+03, 1.291e+03, 1.231e+03, 1.089e+03,\n",
       "        1.099e+03, 1.075e+03, 1.036e+03, 1.040e+03, 1.083e+03, 1.024e+03,\n",
       "        8.510e+02, 8.400e+02, 7.650e+02, 7.080e+02, 6.390e+02, 6.160e+02,\n",
       "        5.470e+02, 5.120e+02, 5.210e+02, 4.630e+02, 4.350e+02, 4.320e+02,\n",
       "        4.140e+02, 3.930e+02, 3.830e+02, 3.160e+02, 3.120e+02, 3.050e+02,\n",
       "        2.610e+02, 2.360e+02, 1.830e+02, 2.090e+02, 1.970e+02, 1.680e+02,\n",
       "        1.890e+02, 1.510e+02, 1.580e+02, 1.460e+02, 1.250e+02, 1.240e+02,\n",
       "        1.220e+02, 9.000e+01, 1.130e+02, 5.700e+01, 7.300e+01, 5.100e+01,\n",
       "        5.100e+01, 5.200e+01, 6.100e+01, 4.100e+01, 4.200e+01, 3.600e+01,\n",
       "        3.700e+01, 3.200e+01, 2.800e+01, 2.300e+01, 1.900e+01, 1.400e+01,\n",
       "        1.000e+01, 7.000e+00, 1.200e+01, 1.000e+00, 9.000e+00, 6.000e+00,\n",
       "        4.000e+00, 3.000e+00, 4.000e+00, 2.000e+00, 0.000e+00, 2.000e+00,\n",
       "        0.000e+00, 1.000e+00, 1.000e+00, 1.000e+00, 0.000e+00, 0.000e+00,\n",
       "        3.000e+00, 0.000e+00, 0.000e+00, 0.000e+00, 0.000e+00, 0.000e+00,\n",
       "        0.000e+00, 0.000e+00, 0.000e+00, 1.000e+00]),\n",
       " array([-1.41239051e+00, -1.33792958e+00, -1.26346865e+00, -1.18900772e+00,\n",
       "        -1.11454680e+00, -1.04008587e+00, -9.65624938e-01, -8.91164010e-01,\n",
       "        -8.16703081e-01, -7.42242152e-01, -6.67781224e-01, -5.93320295e-01,\n",
       "        -5.18859367e-01, -4.44398438e-01, -3.69937509e-01, -2.95476581e-01,\n",
       "        -2.21015652e-01, -1.46554723e-01, -7.20937949e-02,  2.36713373e-03,\n",
       "         7.68280623e-02,  1.51288991e-01,  2.25749920e-01,  3.00210848e-01,\n",
       "         3.74671777e-01,  4.49132705e-01,  5.23593634e-01,  5.98054563e-01,\n",
       "         6.72515491e-01,  7.46976420e-01,  8.21437348e-01,  8.95898277e-01,\n",
       "         9.70359206e-01,  1.04482013e+00,  1.11928106e+00,  1.19374199e+00,\n",
       "         1.26820292e+00,  1.34266385e+00,  1.41712478e+00,  1.49158571e+00,\n",
       "         1.56604663e+00,  1.64050756e+00,  1.71496849e+00,  1.78942942e+00,\n",
       "         1.86389035e+00,  1.93835128e+00,  2.01281221e+00,  2.08727313e+00,\n",
       "         2.16173406e+00,  2.23619499e+00,  2.31065592e+00,  2.38511685e+00,\n",
       "         2.45957778e+00,  2.53403871e+00,  2.60849964e+00,  2.68296056e+00,\n",
       "         2.75742149e+00,  2.83188242e+00,  2.90634335e+00,  2.98080428e+00,\n",
       "         3.05526521e+00,  3.12972614e+00,  3.20418706e+00,  3.27864799e+00,\n",
       "         3.35310892e+00,  3.42756985e+00,  3.50203078e+00,  3.57649171e+00,\n",
       "         3.65095264e+00,  3.72541356e+00,  3.79987449e+00,  3.87433542e+00,\n",
       "         3.94879635e+00,  4.02325728e+00,  4.09771821e+00,  4.17217914e+00,\n",
       "         4.24664006e+00,  4.32110099e+00,  4.39556192e+00,  4.47002285e+00,\n",
       "         4.54448378e+00,  4.61894471e+00,  4.69340564e+00,  4.76786656e+00,\n",
       "         4.84232749e+00,  4.91678842e+00,  4.99124935e+00,  5.06571028e+00,\n",
       "         5.14017121e+00,  5.21463214e+00,  5.28909307e+00,  5.36355399e+00,\n",
       "         5.43801492e+00,  5.51247585e+00,  5.58693678e+00,  5.66139771e+00,\n",
       "         5.73585864e+00,  5.81031957e+00,  5.88478049e+00,  5.95924142e+00,\n",
       "         6.03370235e+00]),\n",
       " <BarContainer object of 100 artists>)"
      ]
     },
     "execution_count": 39,
     "metadata": {},
     "output_type": "execute_result"
    },
    {
     "data": {
      "image/png": "[encoded data removed]",
      "text/plain": [
       "<Figure size 640x480 with 1 Axes>"
      ]
     },
     "metadata": {},
     "output_type": "display_data"
    }
   ],
   "source": [
    "plt.hist(y_test, bins=100)"
   ]
  },
  {
   "cell_type": "code",
   "execution_count": 40,
   "id": "a9b58f50",
   "metadata": {},
   "outputs": [
    {
     "data": {
      "text/plain": [
       "(array([1.0000e+00, 0.0000e+00, 1.0000e+00, 1.0000e+00, 8.0000e+00,\n",
       "        9.0000e+01, 5.0360e+03, 2.6460e+04, 2.2867e+04, 2.0833e+04,\n",
       "        1.9708e+04, 1.5002e+04, 1.3971e+04, 1.3181e+04, 1.3821e+04,\n",
       "        1.3119e+04, 1.2006e+04, 1.1539e+04, 1.1304e+04, 1.1141e+04,\n",
       "        1.0264e+04, 1.0259e+04, 9.6890e+03, 9.4180e+03, 9.8650e+03,\n",
       "        9.9170e+03, 9.0760e+03, 8.0670e+03, 7.9030e+03, 7.1980e+03,\n",
       "        6.5880e+03, 5.8330e+03, 5.5160e+03, 5.0540e+03, 4.7820e+03,\n",
       "        4.2720e+03, 4.1320e+03, 4.0640e+03, 3.8780e+03, 3.6110e+03,\n",
       "        3.2380e+03, 3.1860e+03, 2.9570e+03, 2.7640e+03, 2.4280e+03,\n",
       "        2.1950e+03, 2.0420e+03, 1.8510e+03, 1.8090e+03, 1.5470e+03,\n",
       "        1.6230e+03, 1.4790e+03, 1.3840e+03, 1.2790e+03, 1.1480e+03,\n",
       "        1.0490e+03, 9.8800e+02, 1.0810e+03, 1.0200e+03, 8.5800e+02,\n",
       "        7.4500e+02, 6.5700e+02, 5.3500e+02, 5.0100e+02, 4.6100e+02,\n",
       "        4.1400e+02, 3.5600e+02, 2.8500e+02, 2.8000e+02, 2.1400e+02,\n",
       "        2.2800e+02, 2.0600e+02, 1.7900e+02, 1.4600e+02, 1.3500e+02,\n",
       "        7.6000e+01, 5.4000e+01, 7.2000e+01, 6.5000e+01, 6.5000e+01,\n",
       "        6.7000e+01, 6.2000e+01, 5.9000e+01, 2.6000e+01, 1.0000e+01,\n",
       "        1.2000e+01, 5.0000e+00, 7.0000e+00, 7.0000e+00, 9.0000e+00,\n",
       "        5.0000e+00, 8.0000e+00, 8.0000e+00, 4.0000e+00, 3.0000e+00,\n",
       "        3.0000e+00, 4.0000e+00, 8.0000e+00, 3.0000e+00, 1.0000e+00]),\n",
       " array([-1.65443198e+00, -1.57922363e+00, -1.50401528e+00, -1.42880693e+00,\n",
       "        -1.35359858e+00, -1.27839023e+00, -1.20318188e+00, -1.12797353e+00,\n",
       "        -1.05276518e+00, -9.77556827e-01, -9.02348476e-01, -8.27140125e-01,\n",
       "        -7.51931775e-01, -6.76723424e-01, -6.01515073e-01, -5.26306722e-01,\n",
       "        -4.51098371e-01, -3.75890021e-01, -3.00681670e-01, -2.25473319e-01,\n",
       "        -1.50264968e-01, -7.50566174e-02,  1.51733445e-04,  7.53600843e-02,\n",
       "         1.50568435e-01,  2.25776786e-01,  3.00985137e-01,  3.76193487e-01,\n",
       "         4.51401838e-01,  5.26610189e-01,  6.01818540e-01,  6.77026891e-01,\n",
       "         7.52235242e-01,  8.27443592e-01,  9.02651943e-01,  9.77860294e-01,\n",
       "         1.05306864e+00,  1.12827700e+00,  1.20348535e+00,  1.27869370e+00,\n",
       "         1.35390205e+00,  1.42911040e+00,  1.50431875e+00,  1.57952710e+00,\n",
       "         1.65473545e+00,  1.72994380e+00,  1.80515215e+00,  1.88036050e+00,\n",
       "         1.95556885e+00,  2.03077721e+00,  2.10598556e+00,  2.18119391e+00,\n",
       "         2.25640226e+00,  2.33161061e+00,  2.40681896e+00,  2.48202731e+00,\n",
       "         2.55723566e+00,  2.63244401e+00,  2.70765236e+00,  2.78286071e+00,\n",
       "         2.85806906e+00,  2.93327741e+00,  3.00848577e+00,  3.08369412e+00,\n",
       "         3.15890247e+00,  3.23411082e+00,  3.30931917e+00,  3.38452752e+00,\n",
       "         3.45973587e+00,  3.53494422e+00,  3.61015257e+00,  3.68536092e+00,\n",
       "         3.76056927e+00,  3.83577762e+00,  3.91098598e+00,  3.98619433e+00,\n",
       "         4.06140268e+00,  4.13661103e+00,  4.21181938e+00,  4.28702773e+00,\n",
       "         4.36223608e+00,  4.43744443e+00,  4.51265278e+00,  4.58786113e+00,\n",
       "         4.66306948e+00,  4.73827783e+00,  4.81348619e+00,  4.88869454e+00,\n",
       "         4.96390289e+00,  5.03911124e+00,  5.11431959e+00,  5.18952794e+00,\n",
       "         5.26473629e+00,  5.33994464e+00,  5.41515299e+00,  5.49036134e+00,\n",
       "         5.56556969e+00,  5.64077804e+00,  5.71598639e+00,  5.79119475e+00,\n",
       "         5.86640310e+00]),\n",
       " <BarContainer object of 100 artists>)"
      ]
     },
     "execution_count": 40,
     "metadata": {},
     "output_type": "execute_result"
    },
    {
     "data": {
      "image/png": "[encoded data removed]",
      "text/plain": [
       "<Figure size 640x480 with 1 Axes>"
      ]
     },
     "metadata": {},
     "output_type": "display_data"
    }
   ],
   "source": [
    "plt.hist(y_train, bins=100)"
   ]
  }
 ],
 "metadata": {
  "kernelspec": {
   "display_name": "gp_inference_env",
   "language": "python",
   "name": "python3"
  },
  "language_info": {
   "codemirror_mode": {
    "name": "ipython",
    "version": 3
   },
   "file_extension": ".py",
   "mimetype": "text/x-python",
   "name": "python",
   "nbconvert_exporter": "python",
   "pygments_lexer": "ipython3",
   "version": "3.10.12"
  }
 },
 "nbformat": 4,
 "nbformat_minor": 5
}
