{
 "cells": [
  {
   "cell_type": "code",
   "execution_count": 1,
   "id": "2230d4fe",
   "metadata": {},
   "outputs": [],
   "source": [
    "import torch\n",
    "from pykeops.torch import LazyTensor\n",
    "from gpytorch.kernels.keops import RBFKernel\n",
    "from gpytorch.lazy import LazyEvaluatedKernelTensor"
   ]
  },
  {
   "cell_type": "code",
   "execution_count": 2,
   "id": "bcfcf186",
   "metadata": {},
   "outputs": [],
   "source": [
    "torch.set_default_dtype(torch.float64)"
   ]
  },
  {
   "cell_type": "code",
   "execution_count": 3,
   "id": "7c08a074",
   "metadata": {},
   "outputs": [],
   "source": [
    "n = 1000\n",
    "d = 3\n",
    "sigma = 1.0\n",
    "device = torch.device(\"cuda:0\" if torch.cuda.is_available() else \"cpu\")\n",
    "\n",
    "A = torch.randn(n, d, device=device)\n",
    "B = torch.randn(n, n, device=device)"
   ]
  },
  {
   "cell_type": "markdown",
   "id": "340d546d",
   "metadata": {},
   "source": [
    "PyKeops -- doesn't work"
   ]
  },
  {
   "cell_type": "code",
   "execution_count": 4,
   "id": "74bdf435",
   "metadata": {},
   "outputs": [],
   "source": [
    "# Ai_lazy = LazyTensor(A[:, None, :])\n",
    "# Aj_lazy = LazyTensor(A[None, :, :])\n",
    "# # Compute the squared Euclidean distance matrix\n",
    "# D_lazy = ((Ai_lazy - Aj_lazy) ** 2).sum(dim=2)\n",
    "# D_lazy - B"
   ]
  },
  {
   "cell_type": "markdown",
   "id": "482cc25e",
   "metadata": {},
   "source": [
    "GPyTorch"
   ]
  },
  {
   "cell_type": "code",
   "execution_count": 5,
   "id": "ba4de9d0",
   "metadata": {},
   "outputs": [],
   "source": [
    "kernel = RBFKernel()\n",
    "kernel.lengthscale = torch.tensor(sigma)\n",
    "kernel = kernel.to(device)\n",
    "# print(kernel.lengthscale)\n",
    "# print(kernel.lengthscale.device)\n",
    "K_lazy = kernel(A, A)"
   ]
  },
  {
   "cell_type": "code",
   "execution_count": 6,
   "id": "4409dcc2",
   "metadata": {},
   "outputs": [],
   "source": [
    "# Compute the actual kernel matrix via pytorch\n",
    "K_true = torch.exp(-((A[:, None, :] - A[None, :, :])\n",
    "                   ** 2).sum(dim=2)/(2 * sigma ** 2))"
   ]
  },
  {
   "cell_type": "code",
   "execution_count": 7,
   "id": "d9a763dd",
   "metadata": {},
   "outputs": [],
   "source": [
    "# torch.sum(K_lazy ** 2)"
   ]
  },
  {
   "cell_type": "code",
   "execution_count": 8,
   "id": "91a2b702",
   "metadata": {},
   "outputs": [
    {
     "name": "stdout",
     "output_type": "stream",
     "text": [
      "True\n",
      "True\n"
     ]
    }
   ],
   "source": [
    "print(torch.allclose(K_lazy @ B, K_true @ B))\n",
    "print(torch.allclose(B @ K_lazy, B @ K_true))"
   ]
  },
  {
   "cell_type": "code",
   "execution_count": 9,
   "id": "27052beb",
   "metadata": {},
   "outputs": [
    {
     "name": "stdout",
     "output_type": "stream",
     "text": [
      "True\n",
      "True\n",
      "True\n"
     ]
    }
   ],
   "source": [
    "print(torch.allclose((K_lazy - B) @ B, (K_true - B) @ B))\n",
    "print(torch.allclose((K_lazy - B).T @ B, (K_true - B).T @ B))\n",
    "print(torch.allclose(B @ (K_lazy - B), B @ (K_true - B)))"
   ]
  },
  {
   "cell_type": "code",
   "execution_count": 10,
   "id": "1fb0c8c4",
   "metadata": {},
   "outputs": [
    {
     "name": "stdout",
     "output_type": "stream",
     "text": [
      "True\n"
     ]
    }
   ],
   "source": [
    "print(torch.allclose(B[:, :100] @ (K_lazy - B)\n",
    "      [:100], B[:, :100] @ (K_true - B)[:100]))"
   ]
  },
  {
   "cell_type": "code",
   "execution_count": 11,
   "id": "52947f65",
   "metadata": {},
   "outputs": [
    {
     "data": {
      "text/plain": [
       "device(type='cuda', index=0)"
      ]
     },
     "execution_count": 11,
     "metadata": {},
     "output_type": "execute_result"
    }
   ],
   "source": [
    "K_lazy.device"
   ]
  },
  {
   "cell_type": "code",
   "execution_count": 12,
   "id": "a2fb4e9a",
   "metadata": {},
   "outputs": [
    {
     "data": {
      "text/plain": [
       "tensor([[1.0000, 0.0506, 0.0489,  ..., 0.0216, 0.7564, 0.1918],\n",
       "        [0.0506, 1.0000, 0.5184,  ..., 0.2204, 0.2087, 0.0298],\n",
       "        [0.0489, 0.5184, 1.0000,  ..., 0.8263, 0.2297, 0.0212],\n",
       "        ...,\n",
       "        [0.0216, 0.2204, 0.8263,  ..., 1.0000, 0.1174, 0.0061],\n",
       "        [0.7564, 0.2087, 0.2297,  ..., 0.1174, 1.0000, 0.2013],\n",
       "        [0.1918, 0.0298, 0.0212,  ..., 0.0061, 0.2013, 1.0000]],\n",
       "       device='cuda:0', grad_fn=<MatmulBackward>)"
      ]
     },
     "execution_count": 12,
     "metadata": {},
     "output_type": "execute_result"
    }
   ],
   "source": [
    "K_lazy.to_dense()"
   ]
  },
  {
   "cell_type": "code",
   "execution_count": 13,
   "id": "572ebc96",
   "metadata": {},
   "outputs": [
    {
     "data": {
      "text/plain": [
       "tensor([[ 0.8660, -0.6374,  1.4401,  ..., -1.0699,  2.0569, -0.0062],\n",
       "        [-0.5327, -0.2933,  1.4188,  ..., -0.2032,  0.0468,  0.4302],\n",
       "        [-0.2271,  0.1803,  1.6148,  ..., -0.1274, -1.7404,  0.2231],\n",
       "        ...,\n",
       "        [ 0.0420,  2.5854,  0.3486,  ...,  0.6906,  0.3283, -1.0672],\n",
       "        [ 0.8660,  0.1091, -0.8672,  ...,  0.2745,  3.3221, -0.1215],\n",
       "        [ 1.6261,  0.3557, -1.2657,  ..., -0.7316,  0.6237,  0.5947]],\n",
       "       device='cuda:0', grad_fn=<AddBackward0>)"
      ]
     },
     "execution_count": 13,
     "metadata": {},
     "output_type": "execute_result"
    }
   ],
   "source": [
    "(K_lazy - B).to_dense()"
   ]
  },
  {
   "cell_type": "code",
   "execution_count": 14,
   "id": "e1d1a97e",
   "metadata": {},
   "outputs": [
    {
     "data": {
      "text/plain": [
       "linear_operator.operators.sum_linear_operator.SumLinearOperator"
      ]
     },
     "execution_count": 14,
     "metadata": {},
     "output_type": "execute_result"
    }
   ],
   "source": [
    "type(K_lazy-B)"
   ]
  },
  {
   "cell_type": "code",
   "execution_count": 15,
   "id": "8f776ee9",
   "metadata": {},
   "outputs": [],
   "source": [
    "from linear_operator.operators import DenseLinearOperator, CatLinearOperator"
   ]
  },
  {
   "cell_type": "code",
   "execution_count": 16,
   "id": "dddd58f6",
   "metadata": {},
   "outputs": [],
   "source": [
    "B_linop = DenseLinearOperator(B)\n",
    "B_K_lazy_linop = CatLinearOperator(B_linop, K_lazy, dim=1)"
   ]
  },
  {
   "cell_type": "code",
   "execution_count": 17,
   "id": "5805958e",
   "metadata": {},
   "outputs": [
    {
     "data": {
      "text/plain": [
       "torch.Size([1000, 2000])"
      ]
     },
     "execution_count": 17,
     "metadata": {},
     "output_type": "execute_result"
    }
   ],
   "source": [
    "B_K_lazy_linop.shape"
   ]
  },
  {
   "cell_type": "code",
   "execution_count": 18,
   "id": "44a1ae5e",
   "metadata": {},
   "outputs": [],
   "source": [
    "from scalable_gp_inference.gp_inference_rhs import GPInferenceRHS"
   ]
  },
  {
   "cell_type": "code",
   "execution_count": 20,
   "id": "61ae14dd",
   "metadata": {},
   "outputs": [],
   "source": [
    "rhs = GPInferenceRHS(\n",
    "    targets=torch.randn(n, 1, device=device),\n",
    "    X=A,\n",
    "    kernel_fn=kernel,\n",
    "    tst_idx = torch.arange(100)\n",
    ")"
   ]
  },
  {
   "cell_type": "code",
   "execution_count": 21,
   "id": "5678f4fe",
   "metadata": {},
   "outputs": [
    {
     "data": {
      "text/plain": [
       "torch.Size([1000, 101])"
      ]
     },
     "execution_count": 21,
     "metadata": {},
     "output_type": "execute_result"
    }
   ],
   "source": [
    "rhs.shape"
   ]
  },
  {
   "cell_type": "code",
   "execution_count": null,
   "id": "0d7ac927",
   "metadata": {},
   "outputs": [],
   "source": []
  }
 ],
 "metadata": {
  "kernelspec": {
   "display_name": "scalable_gp_inference_env",
   "language": "python",
   "name": "python3"
  },
  "language_info": {
   "codemirror_mode": {
    "name": "ipython",
    "version": 3
   },
   "file_extension": ".py",
   "mimetype": "text/x-python",
   "name": "python",
   "nbconvert_exporter": "python",
   "pygments_lexer": "ipython3",
   "version": "3.10.12"
  }
 },
 "nbformat": 4,
 "nbformat_minor": 5
}
